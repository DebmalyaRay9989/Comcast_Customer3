{
  "nbformat": 4,
  "nbformat_minor": 0,
  "metadata": {
    "colab": {
      "provenance": [],
      "gpuType": "T4"
    },
    "kernelspec": {
      "name": "python3",
      "display_name": "Python 3"
    },
    "language_info": {
      "name": "python"
    },
    "accelerator": "GPU",
    "widgets": {
      "application/vnd.jupyter.widget-state+json": {
        "1a03cb7c490a4a51aa4c14d8e26922b9": {
          "model_module": "@jupyter-widgets/controls",
          "model_name": "HBoxModel",
          "model_module_version": "1.5.0",
          "state": {
            "_dom_classes": [],
            "_model_module": "@jupyter-widgets/controls",
            "_model_module_version": "1.5.0",
            "_model_name": "HBoxModel",
            "_view_count": null,
            "_view_module": "@jupyter-widgets/controls",
            "_view_module_version": "1.5.0",
            "_view_name": "HBoxView",
            "box_style": "",
            "children": [
              "IPY_MODEL_4a45715d6fdb4254ac8c5b03f75672b4",
              "IPY_MODEL_6235e190ccaa4af8a8dd9879508aa52a",
              "IPY_MODEL_6a473a80d92741359b1624f6e6088e2b"
            ],
            "layout": "IPY_MODEL_ef4dc842bc6540759b3b21dd6f4cb378"
          }
        },
        "4a45715d6fdb4254ac8c5b03f75672b4": {
          "model_module": "@jupyter-widgets/controls",
          "model_name": "HTMLModel",
          "model_module_version": "1.5.0",
          "state": {
            "_dom_classes": [],
            "_model_module": "@jupyter-widgets/controls",
            "_model_module_version": "1.5.0",
            "_model_name": "HTMLModel",
            "_view_count": null,
            "_view_module": "@jupyter-widgets/controls",
            "_view_module_version": "1.5.0",
            "_view_name": "HTMLView",
            "description": "",
            "description_tooltip": null,
            "layout": "IPY_MODEL_06400c25bfd84806b6dae69a3c739fc7",
            "placeholder": "​",
            "style": "IPY_MODEL_c29cc01b19e74707a32c53a27a313c2f",
            "value": "Processing: 100%"
          }
        },
        "6235e190ccaa4af8a8dd9879508aa52a": {
          "model_module": "@jupyter-widgets/controls",
          "model_name": "FloatProgressModel",
          "model_module_version": "1.5.0",
          "state": {
            "_dom_classes": [],
            "_model_module": "@jupyter-widgets/controls",
            "_model_module_version": "1.5.0",
            "_model_name": "FloatProgressModel",
            "_view_count": null,
            "_view_module": "@jupyter-widgets/controls",
            "_view_module_version": "1.5.0",
            "_view_name": "ProgressView",
            "bar_style": "",
            "description": "",
            "description_tooltip": null,
            "layout": "IPY_MODEL_fa79012473274f87bdc66354a6cda80a",
            "max": 69,
            "min": 0,
            "orientation": "horizontal",
            "style": "IPY_MODEL_2bc7ef98bbac47f288b67dbcab0aa4bd",
            "value": 69
          }
        },
        "6a473a80d92741359b1624f6e6088e2b": {
          "model_module": "@jupyter-widgets/controls",
          "model_name": "HTMLModel",
          "model_module_version": "1.5.0",
          "state": {
            "_dom_classes": [],
            "_model_module": "@jupyter-widgets/controls",
            "_model_module_version": "1.5.0",
            "_model_name": "HTMLModel",
            "_view_count": null,
            "_view_module": "@jupyter-widgets/controls",
            "_view_module_version": "1.5.0",
            "_view_name": "HTMLView",
            "description": "",
            "description_tooltip": null,
            "layout": "IPY_MODEL_51382cb532de4b018f37b4673a7e294f",
            "placeholder": "​",
            "style": "IPY_MODEL_eedc7375e1f44fc2ab60e72259e1c88b",
            "value": " 69/69 [01:41&lt;00:00,  1.11it/s]"
          }
        },
        "ef4dc842bc6540759b3b21dd6f4cb378": {
          "model_module": "@jupyter-widgets/base",
          "model_name": "LayoutModel",
          "model_module_version": "1.2.0",
          "state": {
            "_model_module": "@jupyter-widgets/base",
            "_model_module_version": "1.2.0",
            "_model_name": "LayoutModel",
            "_view_count": null,
            "_view_module": "@jupyter-widgets/base",
            "_view_module_version": "1.2.0",
            "_view_name": "LayoutView",
            "align_content": null,
            "align_items": null,
            "align_self": null,
            "border": null,
            "bottom": null,
            "display": null,
            "flex": null,
            "flex_flow": null,
            "grid_area": null,
            "grid_auto_columns": null,
            "grid_auto_flow": null,
            "grid_auto_rows": null,
            "grid_column": null,
            "grid_gap": null,
            "grid_row": null,
            "grid_template_areas": null,
            "grid_template_columns": null,
            "grid_template_rows": null,
            "height": null,
            "justify_content": null,
            "justify_items": null,
            "left": null,
            "margin": null,
            "max_height": null,
            "max_width": null,
            "min_height": null,
            "min_width": null,
            "object_fit": null,
            "object_position": null,
            "order": null,
            "overflow": null,
            "overflow_x": null,
            "overflow_y": null,
            "padding": null,
            "right": null,
            "top": null,
            "visibility": "hidden",
            "width": null
          }
        },
        "06400c25bfd84806b6dae69a3c739fc7": {
          "model_module": "@jupyter-widgets/base",
          "model_name": "LayoutModel",
          "model_module_version": "1.2.0",
          "state": {
            "_model_module": "@jupyter-widgets/base",
            "_model_module_version": "1.2.0",
            "_model_name": "LayoutModel",
            "_view_count": null,
            "_view_module": "@jupyter-widgets/base",
            "_view_module_version": "1.2.0",
            "_view_name": "LayoutView",
            "align_content": null,
            "align_items": null,
            "align_self": null,
            "border": null,
            "bottom": null,
            "display": null,
            "flex": null,
            "flex_flow": null,
            "grid_area": null,
            "grid_auto_columns": null,
            "grid_auto_flow": null,
            "grid_auto_rows": null,
            "grid_column": null,
            "grid_gap": null,
            "grid_row": null,
            "grid_template_areas": null,
            "grid_template_columns": null,
            "grid_template_rows": null,
            "height": null,
            "justify_content": null,
            "justify_items": null,
            "left": null,
            "margin": null,
            "max_height": null,
            "max_width": null,
            "min_height": null,
            "min_width": null,
            "object_fit": null,
            "object_position": null,
            "order": null,
            "overflow": null,
            "overflow_x": null,
            "overflow_y": null,
            "padding": null,
            "right": null,
            "top": null,
            "visibility": null,
            "width": null
          }
        },
        "c29cc01b19e74707a32c53a27a313c2f": {
          "model_module": "@jupyter-widgets/controls",
          "model_name": "DescriptionStyleModel",
          "model_module_version": "1.5.0",
          "state": {
            "_model_module": "@jupyter-widgets/controls",
            "_model_module_version": "1.5.0",
            "_model_name": "DescriptionStyleModel",
            "_view_count": null,
            "_view_module": "@jupyter-widgets/base",
            "_view_module_version": "1.2.0",
            "_view_name": "StyleView",
            "description_width": ""
          }
        },
        "fa79012473274f87bdc66354a6cda80a": {
          "model_module": "@jupyter-widgets/base",
          "model_name": "LayoutModel",
          "model_module_version": "1.2.0",
          "state": {
            "_model_module": "@jupyter-widgets/base",
            "_model_module_version": "1.2.0",
            "_model_name": "LayoutModel",
            "_view_count": null,
            "_view_module": "@jupyter-widgets/base",
            "_view_module_version": "1.2.0",
            "_view_name": "LayoutView",
            "align_content": null,
            "align_items": null,
            "align_self": null,
            "border": null,
            "bottom": null,
            "display": null,
            "flex": null,
            "flex_flow": null,
            "grid_area": null,
            "grid_auto_columns": null,
            "grid_auto_flow": null,
            "grid_auto_rows": null,
            "grid_column": null,
            "grid_gap": null,
            "grid_row": null,
            "grid_template_areas": null,
            "grid_template_columns": null,
            "grid_template_rows": null,
            "height": null,
            "justify_content": null,
            "justify_items": null,
            "left": null,
            "margin": null,
            "max_height": null,
            "max_width": null,
            "min_height": null,
            "min_width": null,
            "object_fit": null,
            "object_position": null,
            "order": null,
            "overflow": null,
            "overflow_x": null,
            "overflow_y": null,
            "padding": null,
            "right": null,
            "top": null,
            "visibility": null,
            "width": null
          }
        },
        "2bc7ef98bbac47f288b67dbcab0aa4bd": {
          "model_module": "@jupyter-widgets/controls",
          "model_name": "ProgressStyleModel",
          "model_module_version": "1.5.0",
          "state": {
            "_model_module": "@jupyter-widgets/controls",
            "_model_module_version": "1.5.0",
            "_model_name": "ProgressStyleModel",
            "_view_count": null,
            "_view_module": "@jupyter-widgets/base",
            "_view_module_version": "1.2.0",
            "_view_name": "StyleView",
            "bar_color": null,
            "description_width": ""
          }
        },
        "51382cb532de4b018f37b4673a7e294f": {
          "model_module": "@jupyter-widgets/base",
          "model_name": "LayoutModel",
          "model_module_version": "1.2.0",
          "state": {
            "_model_module": "@jupyter-widgets/base",
            "_model_module_version": "1.2.0",
            "_model_name": "LayoutModel",
            "_view_count": null,
            "_view_module": "@jupyter-widgets/base",
            "_view_module_version": "1.2.0",
            "_view_name": "LayoutView",
            "align_content": null,
            "align_items": null,
            "align_self": null,
            "border": null,
            "bottom": null,
            "display": null,
            "flex": null,
            "flex_flow": null,
            "grid_area": null,
            "grid_auto_columns": null,
            "grid_auto_flow": null,
            "grid_auto_rows": null,
            "grid_column": null,
            "grid_gap": null,
            "grid_row": null,
            "grid_template_areas": null,
            "grid_template_columns": null,
            "grid_template_rows": null,
            "height": null,
            "justify_content": null,
            "justify_items": null,
            "left": null,
            "margin": null,
            "max_height": null,
            "max_width": null,
            "min_height": null,
            "min_width": null,
            "object_fit": null,
            "object_position": null,
            "order": null,
            "overflow": null,
            "overflow_x": null,
            "overflow_y": null,
            "padding": null,
            "right": null,
            "top": null,
            "visibility": null,
            "width": null
          }
        },
        "eedc7375e1f44fc2ab60e72259e1c88b": {
          "model_module": "@jupyter-widgets/controls",
          "model_name": "DescriptionStyleModel",
          "model_module_version": "1.5.0",
          "state": {
            "_model_module": "@jupyter-widgets/controls",
            "_model_module_version": "1.5.0",
            "_model_name": "DescriptionStyleModel",
            "_view_count": null,
            "_view_module": "@jupyter-widgets/base",
            "_view_module_version": "1.2.0",
            "_view_name": "StyleView",
            "description_width": ""
          }
        },
        "4aa06d3c751c45b993ae4d408a565cc3": {
          "model_module": "@jupyter-widgets/controls",
          "model_name": "HBoxModel",
          "model_module_version": "1.5.0",
          "state": {
            "_dom_classes": [],
            "_model_module": "@jupyter-widgets/controls",
            "_model_module_version": "1.5.0",
            "_model_name": "HBoxModel",
            "_view_count": null,
            "_view_module": "@jupyter-widgets/controls",
            "_view_module_version": "1.5.0",
            "_view_name": "HBoxView",
            "box_style": "",
            "children": [
              "IPY_MODEL_d8f969fa9e1342028eec20a3cc5fffd1",
              "IPY_MODEL_99c0bf6a4a21442583edb20d170de855",
              "IPY_MODEL_32bba01b01c04b398830d570f1f787a8"
            ],
            "layout": "IPY_MODEL_f13a8051581241239194e96425dc70d3"
          }
        },
        "d8f969fa9e1342028eec20a3cc5fffd1": {
          "model_module": "@jupyter-widgets/controls",
          "model_name": "HTMLModel",
          "model_module_version": "1.5.0",
          "state": {
            "_dom_classes": [],
            "_model_module": "@jupyter-widgets/controls",
            "_model_module_version": "1.5.0",
            "_model_name": "HTMLModel",
            "_view_count": null,
            "_view_module": "@jupyter-widgets/controls",
            "_view_module_version": "1.5.0",
            "_view_name": "HTMLView",
            "description": "",
            "description_tooltip": null,
            "layout": "IPY_MODEL_e2c0439379b14941a8b8b88ba4adeb2b",
            "placeholder": "​",
            "style": "IPY_MODEL_4c3f906a03784d71b1880387030e7685",
            "value": "Processing: 100%"
          }
        },
        "99c0bf6a4a21442583edb20d170de855": {
          "model_module": "@jupyter-widgets/controls",
          "model_name": "FloatProgressModel",
          "model_module_version": "1.5.0",
          "state": {
            "_dom_classes": [],
            "_model_module": "@jupyter-widgets/controls",
            "_model_module_version": "1.5.0",
            "_model_name": "FloatProgressModel",
            "_view_count": null,
            "_view_module": "@jupyter-widgets/controls",
            "_view_module_version": "1.5.0",
            "_view_name": "ProgressView",
            "bar_style": "",
            "description": "",
            "description_tooltip": null,
            "layout": "IPY_MODEL_3e032be772be4cc5ac41533104bdcdc3",
            "max": 4,
            "min": 0,
            "orientation": "horizontal",
            "style": "IPY_MODEL_5ec17bcb8fd54897ae8875a144e8327a",
            "value": 4
          }
        },
        "32bba01b01c04b398830d570f1f787a8": {
          "model_module": "@jupyter-widgets/controls",
          "model_name": "HTMLModel",
          "model_module_version": "1.5.0",
          "state": {
            "_dom_classes": [],
            "_model_module": "@jupyter-widgets/controls",
            "_model_module_version": "1.5.0",
            "_model_name": "HTMLModel",
            "_view_count": null,
            "_view_module": "@jupyter-widgets/controls",
            "_view_module_version": "1.5.0",
            "_view_name": "HTMLView",
            "description": "",
            "description_tooltip": null,
            "layout": "IPY_MODEL_babfea3988ff4c0fa6825b5219c3a03a",
            "placeholder": "​",
            "style": "IPY_MODEL_81bccfa1075e47389d807feb64bfe590",
            "value": " 4/4 [00:04&lt;00:00,  1.05it/s]"
          }
        },
        "f13a8051581241239194e96425dc70d3": {
          "model_module": "@jupyter-widgets/base",
          "model_name": "LayoutModel",
          "model_module_version": "1.2.0",
          "state": {
            "_model_module": "@jupyter-widgets/base",
            "_model_module_version": "1.2.0",
            "_model_name": "LayoutModel",
            "_view_count": null,
            "_view_module": "@jupyter-widgets/base",
            "_view_module_version": "1.2.0",
            "_view_name": "LayoutView",
            "align_content": null,
            "align_items": null,
            "align_self": null,
            "border": null,
            "bottom": null,
            "display": null,
            "flex": null,
            "flex_flow": null,
            "grid_area": null,
            "grid_auto_columns": null,
            "grid_auto_flow": null,
            "grid_auto_rows": null,
            "grid_column": null,
            "grid_gap": null,
            "grid_row": null,
            "grid_template_areas": null,
            "grid_template_columns": null,
            "grid_template_rows": null,
            "height": null,
            "justify_content": null,
            "justify_items": null,
            "left": null,
            "margin": null,
            "max_height": null,
            "max_width": null,
            "min_height": null,
            "min_width": null,
            "object_fit": null,
            "object_position": null,
            "order": null,
            "overflow": null,
            "overflow_x": null,
            "overflow_y": null,
            "padding": null,
            "right": null,
            "top": null,
            "visibility": "hidden",
            "width": null
          }
        },
        "e2c0439379b14941a8b8b88ba4adeb2b": {
          "model_module": "@jupyter-widgets/base",
          "model_name": "LayoutModel",
          "model_module_version": "1.2.0",
          "state": {
            "_model_module": "@jupyter-widgets/base",
            "_model_module_version": "1.2.0",
            "_model_name": "LayoutModel",
            "_view_count": null,
            "_view_module": "@jupyter-widgets/base",
            "_view_module_version": "1.2.0",
            "_view_name": "LayoutView",
            "align_content": null,
            "align_items": null,
            "align_self": null,
            "border": null,
            "bottom": null,
            "display": null,
            "flex": null,
            "flex_flow": null,
            "grid_area": null,
            "grid_auto_columns": null,
            "grid_auto_flow": null,
            "grid_auto_rows": null,
            "grid_column": null,
            "grid_gap": null,
            "grid_row": null,
            "grid_template_areas": null,
            "grid_template_columns": null,
            "grid_template_rows": null,
            "height": null,
            "justify_content": null,
            "justify_items": null,
            "left": null,
            "margin": null,
            "max_height": null,
            "max_width": null,
            "min_height": null,
            "min_width": null,
            "object_fit": null,
            "object_position": null,
            "order": null,
            "overflow": null,
            "overflow_x": null,
            "overflow_y": null,
            "padding": null,
            "right": null,
            "top": null,
            "visibility": null,
            "width": null
          }
        },
        "4c3f906a03784d71b1880387030e7685": {
          "model_module": "@jupyter-widgets/controls",
          "model_name": "DescriptionStyleModel",
          "model_module_version": "1.5.0",
          "state": {
            "_model_module": "@jupyter-widgets/controls",
            "_model_module_version": "1.5.0",
            "_model_name": "DescriptionStyleModel",
            "_view_count": null,
            "_view_module": "@jupyter-widgets/base",
            "_view_module_version": "1.2.0",
            "_view_name": "StyleView",
            "description_width": ""
          }
        },
        "3e032be772be4cc5ac41533104bdcdc3": {
          "model_module": "@jupyter-widgets/base",
          "model_name": "LayoutModel",
          "model_module_version": "1.2.0",
          "state": {
            "_model_module": "@jupyter-widgets/base",
            "_model_module_version": "1.2.0",
            "_model_name": "LayoutModel",
            "_view_count": null,
            "_view_module": "@jupyter-widgets/base",
            "_view_module_version": "1.2.0",
            "_view_name": "LayoutView",
            "align_content": null,
            "align_items": null,
            "align_self": null,
            "border": null,
            "bottom": null,
            "display": null,
            "flex": null,
            "flex_flow": null,
            "grid_area": null,
            "grid_auto_columns": null,
            "grid_auto_flow": null,
            "grid_auto_rows": null,
            "grid_column": null,
            "grid_gap": null,
            "grid_row": null,
            "grid_template_areas": null,
            "grid_template_columns": null,
            "grid_template_rows": null,
            "height": null,
            "justify_content": null,
            "justify_items": null,
            "left": null,
            "margin": null,
            "max_height": null,
            "max_width": null,
            "min_height": null,
            "min_width": null,
            "object_fit": null,
            "object_position": null,
            "order": null,
            "overflow": null,
            "overflow_x": null,
            "overflow_y": null,
            "padding": null,
            "right": null,
            "top": null,
            "visibility": null,
            "width": null
          }
        },
        "5ec17bcb8fd54897ae8875a144e8327a": {
          "model_module": "@jupyter-widgets/controls",
          "model_name": "ProgressStyleModel",
          "model_module_version": "1.5.0",
          "state": {
            "_model_module": "@jupyter-widgets/controls",
            "_model_module_version": "1.5.0",
            "_model_name": "ProgressStyleModel",
            "_view_count": null,
            "_view_module": "@jupyter-widgets/base",
            "_view_module_version": "1.2.0",
            "_view_name": "StyleView",
            "bar_color": null,
            "description_width": ""
          }
        },
        "babfea3988ff4c0fa6825b5219c3a03a": {
          "model_module": "@jupyter-widgets/base",
          "model_name": "LayoutModel",
          "model_module_version": "1.2.0",
          "state": {
            "_model_module": "@jupyter-widgets/base",
            "_model_module_version": "1.2.0",
            "_model_name": "LayoutModel",
            "_view_count": null,
            "_view_module": "@jupyter-widgets/base",
            "_view_module_version": "1.2.0",
            "_view_name": "LayoutView",
            "align_content": null,
            "align_items": null,
            "align_self": null,
            "border": null,
            "bottom": null,
            "display": null,
            "flex": null,
            "flex_flow": null,
            "grid_area": null,
            "grid_auto_columns": null,
            "grid_auto_flow": null,
            "grid_auto_rows": null,
            "grid_column": null,
            "grid_gap": null,
            "grid_row": null,
            "grid_template_areas": null,
            "grid_template_columns": null,
            "grid_template_rows": null,
            "height": null,
            "justify_content": null,
            "justify_items": null,
            "left": null,
            "margin": null,
            "max_height": null,
            "max_width": null,
            "min_height": null,
            "min_width": null,
            "object_fit": null,
            "object_position": null,
            "order": null,
            "overflow": null,
            "overflow_x": null,
            "overflow_y": null,
            "padding": null,
            "right": null,
            "top": null,
            "visibility": null,
            "width": null
          }
        },
        "81bccfa1075e47389d807feb64bfe590": {
          "model_module": "@jupyter-widgets/controls",
          "model_name": "DescriptionStyleModel",
          "model_module_version": "1.5.0",
          "state": {
            "_model_module": "@jupyter-widgets/controls",
            "_model_module_version": "1.5.0",
            "_model_name": "DescriptionStyleModel",
            "_view_count": null,
            "_view_module": "@jupyter-widgets/base",
            "_view_module_version": "1.2.0",
            "_view_name": "StyleView",
            "description_width": ""
          }
        },
        "6c7fc4bc1bad4a22857d8aa459802342": {
          "model_module": "@jupyter-widgets/controls",
          "model_name": "HBoxModel",
          "model_module_version": "1.5.0",
          "state": {
            "_dom_classes": [],
            "_model_module": "@jupyter-widgets/controls",
            "_model_module_version": "1.5.0",
            "_model_name": "HBoxModel",
            "_view_count": null,
            "_view_module": "@jupyter-widgets/controls",
            "_view_module_version": "1.5.0",
            "_view_name": "HBoxView",
            "box_style": "",
            "children": [
              "IPY_MODEL_c0e997d8f88244eb8d0d5ca07ea021c0",
              "IPY_MODEL_c635784153614a1ca657f38f2c481dba",
              "IPY_MODEL_8883abcf7018491db060aebb2c90096d"
            ],
            "layout": "IPY_MODEL_eb832c3f70d149b494f8e92d6b994ddf"
          }
        },
        "c0e997d8f88244eb8d0d5ca07ea021c0": {
          "model_module": "@jupyter-widgets/controls",
          "model_name": "HTMLModel",
          "model_module_version": "1.5.0",
          "state": {
            "_dom_classes": [],
            "_model_module": "@jupyter-widgets/controls",
            "_model_module_version": "1.5.0",
            "_model_name": "HTMLModel",
            "_view_count": null,
            "_view_module": "@jupyter-widgets/controls",
            "_view_module_version": "1.5.0",
            "_view_name": "HTMLView",
            "description": "",
            "description_tooltip": null,
            "layout": "IPY_MODEL_7af8a660de6a4e03b5464cd445dca0b8",
            "placeholder": "​",
            "style": "IPY_MODEL_1d7338b13907419bbb1b24cf6ba0ec2b",
            "value": "Processing: 100%"
          }
        },
        "c635784153614a1ca657f38f2c481dba": {
          "model_module": "@jupyter-widgets/controls",
          "model_name": "FloatProgressModel",
          "model_module_version": "1.5.0",
          "state": {
            "_dom_classes": [],
            "_model_module": "@jupyter-widgets/controls",
            "_model_module_version": "1.5.0",
            "_model_name": "FloatProgressModel",
            "_view_count": null,
            "_view_module": "@jupyter-widgets/controls",
            "_view_module_version": "1.5.0",
            "_view_name": "ProgressView",
            "bar_style": "",
            "description": "",
            "description_tooltip": null,
            "layout": "IPY_MODEL_9ce45c13f8654187949817fcb6e6fea7",
            "max": 7,
            "min": 0,
            "orientation": "horizontal",
            "style": "IPY_MODEL_641c3dde737541608d937b22498152b8",
            "value": 7
          }
        },
        "8883abcf7018491db060aebb2c90096d": {
          "model_module": "@jupyter-widgets/controls",
          "model_name": "HTMLModel",
          "model_module_version": "1.5.0",
          "state": {
            "_dom_classes": [],
            "_model_module": "@jupyter-widgets/controls",
            "_model_module_version": "1.5.0",
            "_model_name": "HTMLModel",
            "_view_count": null,
            "_view_module": "@jupyter-widgets/controls",
            "_view_module_version": "1.5.0",
            "_view_name": "HTMLView",
            "description": "",
            "description_tooltip": null,
            "layout": "IPY_MODEL_9a75a5fa96094d7e8cc9408747df0b0d",
            "placeholder": "​",
            "style": "IPY_MODEL_54ba0e2c9e2b489c83c6044b4c375d68",
            "value": " 7/7 [01:00&lt;00:00,  6.76s/it]"
          }
        },
        "eb832c3f70d149b494f8e92d6b994ddf": {
          "model_module": "@jupyter-widgets/base",
          "model_name": "LayoutModel",
          "model_module_version": "1.2.0",
          "state": {
            "_model_module": "@jupyter-widgets/base",
            "_model_module_version": "1.2.0",
            "_model_name": "LayoutModel",
            "_view_count": null,
            "_view_module": "@jupyter-widgets/base",
            "_view_module_version": "1.2.0",
            "_view_name": "LayoutView",
            "align_content": null,
            "align_items": null,
            "align_self": null,
            "border": null,
            "bottom": null,
            "display": null,
            "flex": null,
            "flex_flow": null,
            "grid_area": null,
            "grid_auto_columns": null,
            "grid_auto_flow": null,
            "grid_auto_rows": null,
            "grid_column": null,
            "grid_gap": null,
            "grid_row": null,
            "grid_template_areas": null,
            "grid_template_columns": null,
            "grid_template_rows": null,
            "height": null,
            "justify_content": null,
            "justify_items": null,
            "left": null,
            "margin": null,
            "max_height": null,
            "max_width": null,
            "min_height": null,
            "min_width": null,
            "object_fit": null,
            "object_position": null,
            "order": null,
            "overflow": null,
            "overflow_x": null,
            "overflow_y": null,
            "padding": null,
            "right": null,
            "top": null,
            "visibility": "hidden",
            "width": null
          }
        },
        "7af8a660de6a4e03b5464cd445dca0b8": {
          "model_module": "@jupyter-widgets/base",
          "model_name": "LayoutModel",
          "model_module_version": "1.2.0",
          "state": {
            "_model_module": "@jupyter-widgets/base",
            "_model_module_version": "1.2.0",
            "_model_name": "LayoutModel",
            "_view_count": null,
            "_view_module": "@jupyter-widgets/base",
            "_view_module_version": "1.2.0",
            "_view_name": "LayoutView",
            "align_content": null,
            "align_items": null,
            "align_self": null,
            "border": null,
            "bottom": null,
            "display": null,
            "flex": null,
            "flex_flow": null,
            "grid_area": null,
            "grid_auto_columns": null,
            "grid_auto_flow": null,
            "grid_auto_rows": null,
            "grid_column": null,
            "grid_gap": null,
            "grid_row": null,
            "grid_template_areas": null,
            "grid_template_columns": null,
            "grid_template_rows": null,
            "height": null,
            "justify_content": null,
            "justify_items": null,
            "left": null,
            "margin": null,
            "max_height": null,
            "max_width": null,
            "min_height": null,
            "min_width": null,
            "object_fit": null,
            "object_position": null,
            "order": null,
            "overflow": null,
            "overflow_x": null,
            "overflow_y": null,
            "padding": null,
            "right": null,
            "top": null,
            "visibility": null,
            "width": null
          }
        },
        "1d7338b13907419bbb1b24cf6ba0ec2b": {
          "model_module": "@jupyter-widgets/controls",
          "model_name": "DescriptionStyleModel",
          "model_module_version": "1.5.0",
          "state": {
            "_model_module": "@jupyter-widgets/controls",
            "_model_module_version": "1.5.0",
            "_model_name": "DescriptionStyleModel",
            "_view_count": null,
            "_view_module": "@jupyter-widgets/base",
            "_view_module_version": "1.2.0",
            "_view_name": "StyleView",
            "description_width": ""
          }
        },
        "9ce45c13f8654187949817fcb6e6fea7": {
          "model_module": "@jupyter-widgets/base",
          "model_name": "LayoutModel",
          "model_module_version": "1.2.0",
          "state": {
            "_model_module": "@jupyter-widgets/base",
            "_model_module_version": "1.2.0",
            "_model_name": "LayoutModel",
            "_view_count": null,
            "_view_module": "@jupyter-widgets/base",
            "_view_module_version": "1.2.0",
            "_view_name": "LayoutView",
            "align_content": null,
            "align_items": null,
            "align_self": null,
            "border": null,
            "bottom": null,
            "display": null,
            "flex": null,
            "flex_flow": null,
            "grid_area": null,
            "grid_auto_columns": null,
            "grid_auto_flow": null,
            "grid_auto_rows": null,
            "grid_column": null,
            "grid_gap": null,
            "grid_row": null,
            "grid_template_areas": null,
            "grid_template_columns": null,
            "grid_template_rows": null,
            "height": null,
            "justify_content": null,
            "justify_items": null,
            "left": null,
            "margin": null,
            "max_height": null,
            "max_width": null,
            "min_height": null,
            "min_width": null,
            "object_fit": null,
            "object_position": null,
            "order": null,
            "overflow": null,
            "overflow_x": null,
            "overflow_y": null,
            "padding": null,
            "right": null,
            "top": null,
            "visibility": null,
            "width": null
          }
        },
        "641c3dde737541608d937b22498152b8": {
          "model_module": "@jupyter-widgets/controls",
          "model_name": "ProgressStyleModel",
          "model_module_version": "1.5.0",
          "state": {
            "_model_module": "@jupyter-widgets/controls",
            "_model_module_version": "1.5.0",
            "_model_name": "ProgressStyleModel",
            "_view_count": null,
            "_view_module": "@jupyter-widgets/base",
            "_view_module_version": "1.2.0",
            "_view_name": "StyleView",
            "bar_color": null,
            "description_width": ""
          }
        },
        "9a75a5fa96094d7e8cc9408747df0b0d": {
          "model_module": "@jupyter-widgets/base",
          "model_name": "LayoutModel",
          "model_module_version": "1.2.0",
          "state": {
            "_model_module": "@jupyter-widgets/base",
            "_model_module_version": "1.2.0",
            "_model_name": "LayoutModel",
            "_view_count": null,
            "_view_module": "@jupyter-widgets/base",
            "_view_module_version": "1.2.0",
            "_view_name": "LayoutView",
            "align_content": null,
            "align_items": null,
            "align_self": null,
            "border": null,
            "bottom": null,
            "display": null,
            "flex": null,
            "flex_flow": null,
            "grid_area": null,
            "grid_auto_columns": null,
            "grid_auto_flow": null,
            "grid_auto_rows": null,
            "grid_column": null,
            "grid_gap": null,
            "grid_row": null,
            "grid_template_areas": null,
            "grid_template_columns": null,
            "grid_template_rows": null,
            "height": null,
            "justify_content": null,
            "justify_items": null,
            "left": null,
            "margin": null,
            "max_height": null,
            "max_width": null,
            "min_height": null,
            "min_width": null,
            "object_fit": null,
            "object_position": null,
            "order": null,
            "overflow": null,
            "overflow_x": null,
            "overflow_y": null,
            "padding": null,
            "right": null,
            "top": null,
            "visibility": null,
            "width": null
          }
        },
        "54ba0e2c9e2b489c83c6044b4c375d68": {
          "model_module": "@jupyter-widgets/controls",
          "model_name": "DescriptionStyleModel",
          "model_module_version": "1.5.0",
          "state": {
            "_model_module": "@jupyter-widgets/controls",
            "_model_module_version": "1.5.0",
            "_model_name": "DescriptionStyleModel",
            "_view_count": null,
            "_view_module": "@jupyter-widgets/base",
            "_view_module_version": "1.2.0",
            "_view_name": "StyleView",
            "description_width": ""
          }
        }
      }
    }
  },
  "cells": [
    {
      "cell_type": "code",
      "execution_count": 1,
      "metadata": {
        "id": "fBAynW1HkpGD"
      },
      "outputs": [],
      "source": [
        "## Comcast Telecom Complaints Dataset"
      ]
    },
    {
      "cell_type": "markdown",
      "source": [
        "**Context** <br>\n",
        "Estimation of Comcast Customer Top Complaints.\n",
        "\n",
        "**Acknowledgements** <br>\n",
        "Kaggle Datasets"
      ],
      "metadata": {
        "id": "22nRK95TlY5O"
      }
    },
    {
      "cell_type": "code",
      "source": [
        "import warnings\n",
        "warnings.filterwarnings(action='ignore')\n",
        "\n",
        "import plotly.express as px\n",
        "from plotly.subplots import make_subplots\n",
        "import plotly.graph_objects as go\n",
        "\n",
        "import seaborn as sns\n",
        "import matplotlib.pyplot as plt\n",
        "from matplotlib import rcParams"
      ],
      "metadata": {
        "id": "ckJdmeJSlWeG"
      },
      "execution_count": 2,
      "outputs": []
    },
    {
      "cell_type": "code",
      "source": [
        "import numpy as np\n",
        "import pandas as pd"
      ],
      "metadata": {
        "id": "Un14sZsqrxls"
      },
      "execution_count": 3,
      "outputs": []
    },
    {
      "cell_type": "code",
      "source": [
        "###!mkdir ~/.kaggle"
      ],
      "metadata": {
        "id": "0o9ZnM7frxoh"
      },
      "execution_count": 4,
      "outputs": []
    },
    {
      "cell_type": "code",
      "source": [
        "###!cp /kaggle.json ~/.kaggle/"
      ],
      "metadata": {
        "id": "8b726_oDrxrP"
      },
      "execution_count": 5,
      "outputs": []
    },
    {
      "cell_type": "code",
      "source": [
        "###!chmod 600 ~/.kaggle/kaggle.json"
      ],
      "metadata": {
        "id": "ECltyokorxt-"
      },
      "execution_count": 6,
      "outputs": []
    },
    {
      "cell_type": "code",
      "source": [
        "###!pip install keras-tuner"
      ],
      "metadata": {
        "id": "PYnoMtKXrxwz"
      },
      "execution_count": 7,
      "outputs": []
    },
    {
      "cell_type": "code",
      "source": [
        "###!pip install kaggle"
      ],
      "metadata": {
        "id": "v1c1NK_-s3sd"
      },
      "execution_count": 8,
      "outputs": []
    },
    {
      "cell_type": "code",
      "source": [
        "####! kaggle datasets download -d yasserh/comcast-telecom-complaints"
      ],
      "metadata": {
        "id": "0mLVLPzCs3vR"
      },
      "execution_count": 9,
      "outputs": []
    },
    {
      "cell_type": "code",
      "source": [
        "###! unzip /content/comcast-telecom-complaints.zip"
      ],
      "metadata": {
        "id": "x1blmWrYs3x7"
      },
      "execution_count": 10,
      "outputs": []
    },
    {
      "cell_type": "code",
      "source": [
        "comcast = pd.read_csv(\"/content/Comcast.csv\")"
      ],
      "metadata": {
        "id": "28eSc7ttu9e1"
      },
      "execution_count": 11,
      "outputs": []
    },
    {
      "cell_type": "code",
      "source": [
        "training_data = comcast.sample(frac=0.7, random_state=25)\n",
        "testing_data = comcast.drop(training_data.index)"
      ],
      "metadata": {
        "id": "1HKI2LBHu9hn"
      },
      "execution_count": 12,
      "outputs": []
    },
    {
      "cell_type": "code",
      "source": [
        "print(training_data.shape, testing_data.shape)"
      ],
      "metadata": {
        "colab": {
          "base_uri": "https://localhost:8080/"
        },
        "id": "0wGv_No8u9k6",
        "outputId": "042022e2-cf8d-4435-b50c-968c7e1788d9"
      },
      "execution_count": 13,
      "outputs": [
        {
          "output_type": "stream",
          "name": "stdout",
          "text": [
            "(1557, 11) (667, 11)\n"
          ]
        }
      ]
    },
    {
      "cell_type": "code",
      "source": [
        "training_data.to_csv(\"train.csv\")\n",
        "testing_data.to_csv(\"test.csv\")"
      ],
      "metadata": {
        "id": "4GGgkz7oWUx4"
      },
      "execution_count": 14,
      "outputs": []
    },
    {
      "cell_type": "code",
      "source": [
        "training_data.columns"
      ],
      "metadata": {
        "id": "1uv2OMvF4nh_",
        "colab": {
          "base_uri": "https://localhost:8080/"
        },
        "outputId": "63840f5d-1ab9-48a5-c038-f908eb4ab6fd"
      },
      "execution_count": 15,
      "outputs": [
        {
          "output_type": "execute_result",
          "data": {
            "text/plain": [
              "Index(['Ticket #', 'Customer Complaint', 'Date', 'Date_month_year', 'Time',\n",
              "       'Received Via', 'City', 'State', 'Zip code', 'Status',\n",
              "       'Filing on Behalf of Someone'],\n",
              "      dtype='object')"
            ]
          },
          "metadata": {},
          "execution_count": 15
        }
      ]
    },
    {
      "cell_type": "code",
      "source": [
        "training_data.Status.value_counts()"
      ],
      "metadata": {
        "colab": {
          "base_uri": "https://localhost:8080/"
        },
        "id": "7TGjIEDCWhOM",
        "outputId": "4e323d1f-c7d1-4956-c665-679f1b0c8935"
      },
      "execution_count": 16,
      "outputs": [
        {
          "output_type": "execute_result",
          "data": {
            "text/plain": [
              "Solved     658\n",
              "Closed     521\n",
              "Open       266\n",
              "Pending    112\n",
              "Name: Status, dtype: int64"
            ]
          },
          "metadata": {},
          "execution_count": 16
        }
      ]
    },
    {
      "cell_type": "code",
      "source": [
        "####! pip install unidecode"
      ],
      "metadata": {
        "id": "PJ0SgrSmWhRZ"
      },
      "execution_count": 17,
      "outputs": []
    },
    {
      "cell_type": "code",
      "source": [
        "####! pip install nltk"
      ],
      "metadata": {
        "id": "_bh2TdVKWhUm"
      },
      "execution_count": 18,
      "outputs": []
    },
    {
      "cell_type": "code",
      "source": [
        "import re, unidecode\n",
        "from bs4 import BeautifulSoup\n",
        "from nltk.stem.porter import PorterStemmer\n",
        "from nltk.stem import WordNetLemmatizer\n",
        "from nltk.corpus import stopwords\n",
        "from nltk.tokenize import word_tokenize\n",
        "\n",
        "# Needed only once\n",
        "# import nltk\n",
        "# nltk.download('stopwords')\n",
        "# nltk.download('punkt')\n",
        "# nltk.download('wordnet')\n",
        "\n",
        "def remove_html_tags(text):\n",
        "    soup = BeautifulSoup(text, \"html.parser\")\n",
        "    stripped_text = soup.get_text(separator=\" \")\n",
        "    return stripped_text\n",
        "def remove_accented_chars(text):\n",
        "    text = unidecode.unidecode(text)\n",
        "    return text\n",
        "def remove_numbers(text):\n",
        "    result = re.sub(r'\\d+', '', text)\n",
        "    return result\n",
        "def remove_slash_with_space(text):\n",
        "    return text.replace('\\\\', \" \")\n",
        "def remove_punctuation(text):\n",
        "    translator = str.maketrans('', '', string.punctuation)\n",
        "    return text.translate(translator)\n",
        "def text_lowercase(text):\n",
        "    return text.lower()\n",
        "def remove_whitespace(text):\n",
        "    return  \" \".join(text.split())\n",
        "def remove_stopwords(text):\n",
        "    stop_words = set(stopwords.words(\"english\"))\n",
        "    word_tokens = word_tokenize(text)\n",
        "    filtered_text = [word for word in word_tokens if word not in stop_words]\n",
        "    return ' '.join(filtered_text)\n",
        "def stem_words(text):\n",
        "    stemmer = PorterStemmer()\n",
        "    word_tokens = word_tokenize(text)\n",
        "    stems = [stemmer.stem(word) for word in word_tokens]\n",
        "    return ' '.join(stems)\n",
        "def lemmatize_words(text):\n",
        "    lemmatizer = WordNetLemmatizer()\n",
        "    word_tokens = word_tokenize(text)\n",
        "    # provide context i.e. part-of-speech\n",
        "    lemmas = [lemmatizer.lemmatize(word, pos ='v') for word in word_tokens]\n",
        "    return ' '.join(lemmas)"
      ],
      "metadata": {
        "id": "Uct4vLDpWhYR"
      },
      "execution_count": 19,
      "outputs": []
    },
    {
      "cell_type": "code",
      "source": [
        "# Perform preprocessing\n",
        "def perform_preprocessing(text):\n",
        "    text = remove_html_tags(text)\n",
        "    text = remove_accented_chars(text)\n",
        "    text = remove_numbers(text)\n",
        "    text = remove_stopwords(text)\n",
        "    text = text_lowercase(text)\n",
        "    text = remove_slash_with_space(text)\n",
        "#    text = remove_punctuation(text)\n",
        "    text = stem_words(text)\n",
        "    text = lemmatize_words(text)\n",
        "    text = remove_whitespace(text)\n",
        "    return text"
      ],
      "metadata": {
        "id": "81jJNkTiWhbj"
      },
      "execution_count": 20,
      "outputs": []
    },
    {
      "cell_type": "code",
      "source": [
        "import nltk\n",
        "nltk.download('stopwords')\n",
        "nltk.download('punkt')\n",
        "nltk.download('wordnet')\n",
        "nltk.download('omw-1.4')"
      ],
      "metadata": {
        "colab": {
          "base_uri": "https://localhost:8080/"
        },
        "id": "FQl8X-0VWhe1",
        "outputId": "856a29e7-e983-41d7-e2c8-9d88fb1d4410"
      },
      "execution_count": 21,
      "outputs": [
        {
          "output_type": "stream",
          "name": "stderr",
          "text": [
            "[nltk_data] Downloading package stopwords to /root/nltk_data...\n",
            "[nltk_data]   Package stopwords is already up-to-date!\n",
            "[nltk_data] Downloading package punkt to /root/nltk_data...\n",
            "[nltk_data]   Package punkt is already up-to-date!\n",
            "[nltk_data] Downloading package wordnet to /root/nltk_data...\n",
            "[nltk_data]   Package wordnet is already up-to-date!\n",
            "[nltk_data] Downloading package omw-1.4 to /root/nltk_data...\n",
            "[nltk_data]   Package omw-1.4 is already up-to-date!\n"
          ]
        },
        {
          "output_type": "execute_result",
          "data": {
            "text/plain": [
              "True"
            ]
          },
          "metadata": {},
          "execution_count": 21
        }
      ]
    },
    {
      "cell_type": "code",
      "source": [
        "training_data.columns"
      ],
      "metadata": {
        "colab": {
          "base_uri": "https://localhost:8080/"
        },
        "id": "-Ba2PCiAmeE5",
        "outputId": "92e61b85-6740-4b71-bb53-13fd5d657ab0"
      },
      "execution_count": 22,
      "outputs": [
        {
          "output_type": "execute_result",
          "data": {
            "text/plain": [
              "Index(['Ticket #', 'Customer Complaint', 'Date', 'Date_month_year', 'Time',\n",
              "       'Received Via', 'City', 'State', 'Zip code', 'Status',\n",
              "       'Filing on Behalf of Someone'],\n",
              "      dtype='object')"
            ]
          },
          "metadata": {},
          "execution_count": 22
        }
      ]
    },
    {
      "cell_type": "code",
      "source": [
        "training_data['Customer_Complaint_corpus'] = training_data['Customer Complaint'].apply(perform_preprocessing)"
      ],
      "metadata": {
        "id": "NoM9z-6AmTNn"
      },
      "execution_count": 23,
      "outputs": []
    },
    {
      "cell_type": "code",
      "source": [
        "testing_data['Customer_Complaint_corpus'] = testing_data['Customer Complaint'].apply(perform_preprocessing)"
      ],
      "metadata": {
        "id": "hj8VJ3ImmWhn"
      },
      "execution_count": 24,
      "outputs": []
    },
    {
      "cell_type": "code",
      "source": [
        "####! pip install pycaret==2.3.4"
      ],
      "metadata": {
        "id": "DVKadSRjmWuG"
      },
      "execution_count": 25,
      "outputs": []
    },
    {
      "cell_type": "code",
      "source": [
        "###! pip install jinja2"
      ],
      "metadata": {
        "id": "a_ItkY9smUZc"
      },
      "execution_count": 26,
      "outputs": []
    },
    {
      "cell_type": "code",
      "source": [
        "###! pip install markupsafe==2.0.1"
      ],
      "metadata": {
        "id": "XJ3PJlUgph_A"
      },
      "execution_count": 27,
      "outputs": []
    },
    {
      "cell_type": "code",
      "source": [
        "###! pip install evalml"
      ],
      "metadata": {
        "id": "G5Tw2TvFQrG0"
      },
      "execution_count": 28,
      "outputs": []
    },
    {
      "cell_type": "code",
      "source": [
        "from pycaret.classification import *"
      ],
      "metadata": {
        "id": "o-R7X1vAUTSQ"
      },
      "execution_count": 29,
      "outputs": []
    },
    {
      "cell_type": "code",
      "source": [
        "exp_mclf101 = setup(data = training_data, target = 'Status', session_id=123)"
      ],
      "metadata": {
        "colab": {
          "base_uri": "https://localhost:8080/",
          "height": 802
        },
        "id": "Bee1N8Q9UyeX",
        "outputId": "706dd6b1-420f-44ab-ba9b-0bd224506227"
      },
      "execution_count": 30,
      "outputs": [
        {
          "output_type": "display_data",
          "data": {
            "text/plain": [
              "<pandas.io.formats.style.Styler at 0x79f3b671a4a0>"
            ],
            "text/html": [
              "<style type=\"text/css\">\n",
              "#T_91d3e_row11_col1 {\n",
              "  background-color: lightgreen;\n",
              "}\n",
              "</style>\n",
              "<table id=\"T_91d3e\" class=\"dataframe\">\n",
              "  <thead>\n",
              "    <tr>\n",
              "      <th class=\"blank level0\" >&nbsp;</th>\n",
              "      <th id=\"T_91d3e_level0_col0\" class=\"col_heading level0 col0\" >Description</th>\n",
              "      <th id=\"T_91d3e_level0_col1\" class=\"col_heading level0 col1\" >Value</th>\n",
              "    </tr>\n",
              "  </thead>\n",
              "  <tbody>\n",
              "    <tr>\n",
              "      <th id=\"T_91d3e_level0_row0\" class=\"row_heading level0 row0\" >0</th>\n",
              "      <td id=\"T_91d3e_row0_col0\" class=\"data row0 col0\" >Session id</td>\n",
              "      <td id=\"T_91d3e_row0_col1\" class=\"data row0 col1\" >123</td>\n",
              "    </tr>\n",
              "    <tr>\n",
              "      <th id=\"T_91d3e_level0_row1\" class=\"row_heading level0 row1\" >1</th>\n",
              "      <td id=\"T_91d3e_row1_col0\" class=\"data row1 col0\" >Target</td>\n",
              "      <td id=\"T_91d3e_row1_col1\" class=\"data row1 col1\" >Status</td>\n",
              "    </tr>\n",
              "    <tr>\n",
              "      <th id=\"T_91d3e_level0_row2\" class=\"row_heading level0 row2\" >2</th>\n",
              "      <td id=\"T_91d3e_row2_col0\" class=\"data row2 col0\" >Target type</td>\n",
              "      <td id=\"T_91d3e_row2_col1\" class=\"data row2 col1\" >Multiclass</td>\n",
              "    </tr>\n",
              "    <tr>\n",
              "      <th id=\"T_91d3e_level0_row3\" class=\"row_heading level0 row3\" >3</th>\n",
              "      <td id=\"T_91d3e_row3_col0\" class=\"data row3 col0\" >Target mapping</td>\n",
              "      <td id=\"T_91d3e_row3_col1\" class=\"data row3 col1\" >Closed: 0, Open: 1, Pending: 2, Solved: 3</td>\n",
              "    </tr>\n",
              "    <tr>\n",
              "      <th id=\"T_91d3e_level0_row4\" class=\"row_heading level0 row4\" >4</th>\n",
              "      <td id=\"T_91d3e_row4_col0\" class=\"data row4 col0\" >Original data shape</td>\n",
              "      <td id=\"T_91d3e_row4_col1\" class=\"data row4 col1\" >(1557, 12)</td>\n",
              "    </tr>\n",
              "    <tr>\n",
              "      <th id=\"T_91d3e_level0_row5\" class=\"row_heading level0 row5\" >5</th>\n",
              "      <td id=\"T_91d3e_row5_col0\" class=\"data row5 col0\" >Transformed data shape</td>\n",
              "      <td id=\"T_91d3e_row5_col1\" class=\"data row5 col1\" >(1557, 12)</td>\n",
              "    </tr>\n",
              "    <tr>\n",
              "      <th id=\"T_91d3e_level0_row6\" class=\"row_heading level0 row6\" >6</th>\n",
              "      <td id=\"T_91d3e_row6_col0\" class=\"data row6 col0\" >Transformed train set shape</td>\n",
              "      <td id=\"T_91d3e_row6_col1\" class=\"data row6 col1\" >(1089, 12)</td>\n",
              "    </tr>\n",
              "    <tr>\n",
              "      <th id=\"T_91d3e_level0_row7\" class=\"row_heading level0 row7\" >7</th>\n",
              "      <td id=\"T_91d3e_row7_col0\" class=\"data row7 col0\" >Transformed test set shape</td>\n",
              "      <td id=\"T_91d3e_row7_col1\" class=\"data row7 col1\" >(468, 12)</td>\n",
              "    </tr>\n",
              "    <tr>\n",
              "      <th id=\"T_91d3e_level0_row8\" class=\"row_heading level0 row8\" >8</th>\n",
              "      <td id=\"T_91d3e_row8_col0\" class=\"data row8 col0\" >Ordinal features</td>\n",
              "      <td id=\"T_91d3e_row8_col1\" class=\"data row8 col1\" >2</td>\n",
              "    </tr>\n",
              "    <tr>\n",
              "      <th id=\"T_91d3e_level0_row9\" class=\"row_heading level0 row9\" >9</th>\n",
              "      <td id=\"T_91d3e_row9_col0\" class=\"data row9 col0\" >Numeric features</td>\n",
              "      <td id=\"T_91d3e_row9_col1\" class=\"data row9 col1\" >1</td>\n",
              "    </tr>\n",
              "    <tr>\n",
              "      <th id=\"T_91d3e_level0_row10\" class=\"row_heading level0 row10\" >10</th>\n",
              "      <td id=\"T_91d3e_row10_col0\" class=\"data row10 col0\" >Categorical features</td>\n",
              "      <td id=\"T_91d3e_row10_col1\" class=\"data row10 col1\" >10</td>\n",
              "    </tr>\n",
              "    <tr>\n",
              "      <th id=\"T_91d3e_level0_row11\" class=\"row_heading level0 row11\" >11</th>\n",
              "      <td id=\"T_91d3e_row11_col0\" class=\"data row11 col0\" >Preprocess</td>\n",
              "      <td id=\"T_91d3e_row11_col1\" class=\"data row11 col1\" >True</td>\n",
              "    </tr>\n",
              "    <tr>\n",
              "      <th id=\"T_91d3e_level0_row12\" class=\"row_heading level0 row12\" >12</th>\n",
              "      <td id=\"T_91d3e_row12_col0\" class=\"data row12 col0\" >Imputation type</td>\n",
              "      <td id=\"T_91d3e_row12_col1\" class=\"data row12 col1\" >simple</td>\n",
              "    </tr>\n",
              "    <tr>\n",
              "      <th id=\"T_91d3e_level0_row13\" class=\"row_heading level0 row13\" >13</th>\n",
              "      <td id=\"T_91d3e_row13_col0\" class=\"data row13 col0\" >Numeric imputation</td>\n",
              "      <td id=\"T_91d3e_row13_col1\" class=\"data row13 col1\" >mean</td>\n",
              "    </tr>\n",
              "    <tr>\n",
              "      <th id=\"T_91d3e_level0_row14\" class=\"row_heading level0 row14\" >14</th>\n",
              "      <td id=\"T_91d3e_row14_col0\" class=\"data row14 col0\" >Categorical imputation</td>\n",
              "      <td id=\"T_91d3e_row14_col1\" class=\"data row14 col1\" >mode</td>\n",
              "    </tr>\n",
              "    <tr>\n",
              "      <th id=\"T_91d3e_level0_row15\" class=\"row_heading level0 row15\" >15</th>\n",
              "      <td id=\"T_91d3e_row15_col0\" class=\"data row15 col0\" >Maximum one-hot encoding</td>\n",
              "      <td id=\"T_91d3e_row15_col1\" class=\"data row15 col1\" >25</td>\n",
              "    </tr>\n",
              "    <tr>\n",
              "      <th id=\"T_91d3e_level0_row16\" class=\"row_heading level0 row16\" >16</th>\n",
              "      <td id=\"T_91d3e_row16_col0\" class=\"data row16 col0\" >Encoding method</td>\n",
              "      <td id=\"T_91d3e_row16_col1\" class=\"data row16 col1\" >None</td>\n",
              "    </tr>\n",
              "    <tr>\n",
              "      <th id=\"T_91d3e_level0_row17\" class=\"row_heading level0 row17\" >17</th>\n",
              "      <td id=\"T_91d3e_row17_col0\" class=\"data row17 col0\" >Fold Generator</td>\n",
              "      <td id=\"T_91d3e_row17_col1\" class=\"data row17 col1\" >StratifiedKFold</td>\n",
              "    </tr>\n",
              "    <tr>\n",
              "      <th id=\"T_91d3e_level0_row18\" class=\"row_heading level0 row18\" >18</th>\n",
              "      <td id=\"T_91d3e_row18_col0\" class=\"data row18 col0\" >Fold Number</td>\n",
              "      <td id=\"T_91d3e_row18_col1\" class=\"data row18 col1\" >10</td>\n",
              "    </tr>\n",
              "    <tr>\n",
              "      <th id=\"T_91d3e_level0_row19\" class=\"row_heading level0 row19\" >19</th>\n",
              "      <td id=\"T_91d3e_row19_col0\" class=\"data row19 col0\" >CPU Jobs</td>\n",
              "      <td id=\"T_91d3e_row19_col1\" class=\"data row19 col1\" >-1</td>\n",
              "    </tr>\n",
              "    <tr>\n",
              "      <th id=\"T_91d3e_level0_row20\" class=\"row_heading level0 row20\" >20</th>\n",
              "      <td id=\"T_91d3e_row20_col0\" class=\"data row20 col0\" >Use GPU</td>\n",
              "      <td id=\"T_91d3e_row20_col1\" class=\"data row20 col1\" >False</td>\n",
              "    </tr>\n",
              "    <tr>\n",
              "      <th id=\"T_91d3e_level0_row21\" class=\"row_heading level0 row21\" >21</th>\n",
              "      <td id=\"T_91d3e_row21_col0\" class=\"data row21 col0\" >Log Experiment</td>\n",
              "      <td id=\"T_91d3e_row21_col1\" class=\"data row21 col1\" >False</td>\n",
              "    </tr>\n",
              "    <tr>\n",
              "      <th id=\"T_91d3e_level0_row22\" class=\"row_heading level0 row22\" >22</th>\n",
              "      <td id=\"T_91d3e_row22_col0\" class=\"data row22 col0\" >Experiment Name</td>\n",
              "      <td id=\"T_91d3e_row22_col1\" class=\"data row22 col1\" >clf-default-name</td>\n",
              "    </tr>\n",
              "    <tr>\n",
              "      <th id=\"T_91d3e_level0_row23\" class=\"row_heading level0 row23\" >23</th>\n",
              "      <td id=\"T_91d3e_row23_col0\" class=\"data row23 col0\" >USI</td>\n",
              "      <td id=\"T_91d3e_row23_col1\" class=\"data row23 col1\" >4392</td>\n",
              "    </tr>\n",
              "  </tbody>\n",
              "</table>\n"
            ]
          },
          "metadata": {}
        }
      ]
    },
    {
      "cell_type": "code",
      "source": [
        "compare_models()"
      ],
      "metadata": {
        "colab": {
          "base_uri": "https://localhost:8080/",
          "height": 609,
          "referenced_widgets": [
            "1a03cb7c490a4a51aa4c14d8e26922b9",
            "4a45715d6fdb4254ac8c5b03f75672b4",
            "6235e190ccaa4af8a8dd9879508aa52a",
            "6a473a80d92741359b1624f6e6088e2b",
            "ef4dc842bc6540759b3b21dd6f4cb378",
            "06400c25bfd84806b6dae69a3c739fc7",
            "c29cc01b19e74707a32c53a27a313c2f",
            "fa79012473274f87bdc66354a6cda80a",
            "2bc7ef98bbac47f288b67dbcab0aa4bd",
            "51382cb532de4b018f37b4673a7e294f",
            "eedc7375e1f44fc2ab60e72259e1c88b"
          ]
        },
        "id": "sm6upyaOUyot",
        "outputId": "5ccf7be2-07a6-48b1-aed8-87e096a50033"
      },
      "execution_count": 31,
      "outputs": [
        {
          "output_type": "display_data",
          "data": {
            "text/plain": [
              "<IPython.core.display.HTML object>"
            ],
            "text/html": []
          },
          "metadata": {}
        },
        {
          "output_type": "display_data",
          "data": {
            "text/plain": [
              "<pandas.io.formats.style.Styler at 0x79f3b63c5ba0>"
            ],
            "text/html": [
              "<style type=\"text/css\">\n",
              "#T_272e0 th {\n",
              "  text-align: left;\n",
              "}\n",
              "#T_272e0_row0_col0, #T_272e0_row0_col2, #T_272e0_row0_col4, #T_272e0_row0_col5, #T_272e0_row1_col0, #T_272e0_row1_col1, #T_272e0_row1_col2, #T_272e0_row1_col3, #T_272e0_row1_col4, #T_272e0_row1_col5, #T_272e0_row1_col6, #T_272e0_row1_col7, #T_272e0_row2_col0, #T_272e0_row2_col1, #T_272e0_row2_col2, #T_272e0_row2_col3, #T_272e0_row2_col4, #T_272e0_row2_col5, #T_272e0_row2_col6, #T_272e0_row2_col7, #T_272e0_row3_col0, #T_272e0_row3_col1, #T_272e0_row3_col2, #T_272e0_row3_col3, #T_272e0_row3_col6, #T_272e0_row3_col7, #T_272e0_row4_col0, #T_272e0_row4_col1, #T_272e0_row4_col3, #T_272e0_row4_col4, #T_272e0_row4_col5, #T_272e0_row4_col6, #T_272e0_row4_col7, #T_272e0_row5_col0, #T_272e0_row5_col1, #T_272e0_row5_col2, #T_272e0_row5_col3, #T_272e0_row5_col4, #T_272e0_row5_col5, #T_272e0_row5_col6, #T_272e0_row5_col7, #T_272e0_row6_col0, #T_272e0_row6_col1, #T_272e0_row6_col2, #T_272e0_row6_col3, #T_272e0_row6_col4, #T_272e0_row6_col5, #T_272e0_row6_col6, #T_272e0_row6_col7, #T_272e0_row7_col0, #T_272e0_row7_col1, #T_272e0_row7_col2, #T_272e0_row7_col3, #T_272e0_row7_col4, #T_272e0_row7_col5, #T_272e0_row7_col6, #T_272e0_row7_col7, #T_272e0_row8_col0, #T_272e0_row8_col1, #T_272e0_row8_col2, #T_272e0_row8_col3, #T_272e0_row8_col4, #T_272e0_row8_col5, #T_272e0_row8_col6, #T_272e0_row8_col7, #T_272e0_row9_col0, #T_272e0_row9_col1, #T_272e0_row9_col2, #T_272e0_row9_col3, #T_272e0_row9_col4, #T_272e0_row9_col5, #T_272e0_row9_col6, #T_272e0_row9_col7, #T_272e0_row10_col0, #T_272e0_row10_col1, #T_272e0_row10_col2, #T_272e0_row10_col3, #T_272e0_row10_col4, #T_272e0_row10_col5, #T_272e0_row10_col6, #T_272e0_row10_col7, #T_272e0_row11_col0, #T_272e0_row11_col1, #T_272e0_row11_col2, #T_272e0_row11_col3, #T_272e0_row11_col4, #T_272e0_row11_col5, #T_272e0_row11_col6, #T_272e0_row11_col7, #T_272e0_row12_col0, #T_272e0_row12_col1, #T_272e0_row12_col2, #T_272e0_row12_col3, #T_272e0_row12_col4, #T_272e0_row12_col5, #T_272e0_row12_col6, #T_272e0_row12_col7, #T_272e0_row13_col0, #T_272e0_row13_col1, #T_272e0_row13_col2, #T_272e0_row13_col3, #T_272e0_row13_col4, #T_272e0_row13_col5, #T_272e0_row13_col6, #T_272e0_row13_col7, #T_272e0_row14_col0, #T_272e0_row14_col1, #T_272e0_row14_col2, #T_272e0_row14_col3, #T_272e0_row14_col4, #T_272e0_row14_col5, #T_272e0_row14_col6, #T_272e0_row14_col7, #T_272e0_row15_col0, #T_272e0_row15_col1, #T_272e0_row15_col2, #T_272e0_row15_col3, #T_272e0_row15_col4, #T_272e0_row15_col5, #T_272e0_row15_col6, #T_272e0_row15_col7 {\n",
              "  text-align: left;\n",
              "}\n",
              "#T_272e0_row0_col1, #T_272e0_row0_col3, #T_272e0_row0_col6, #T_272e0_row0_col7, #T_272e0_row3_col4, #T_272e0_row3_col5, #T_272e0_row4_col2 {\n",
              "  text-align: left;\n",
              "  background-color: yellow;\n",
              "}\n",
              "#T_272e0_row0_col8, #T_272e0_row2_col8, #T_272e0_row3_col8, #T_272e0_row4_col8, #T_272e0_row5_col8, #T_272e0_row6_col8, #T_272e0_row7_col8, #T_272e0_row8_col8, #T_272e0_row9_col8, #T_272e0_row10_col8, #T_272e0_row11_col8, #T_272e0_row12_col8, #T_272e0_row13_col8, #T_272e0_row14_col8, #T_272e0_row15_col8 {\n",
              "  text-align: left;\n",
              "  background-color: lightgrey;\n",
              "}\n",
              "#T_272e0_row1_col8 {\n",
              "  text-align: left;\n",
              "  background-color: yellow;\n",
              "  background-color: lightgrey;\n",
              "}\n",
              "</style>\n",
              "<table id=\"T_272e0\" class=\"dataframe\">\n",
              "  <thead>\n",
              "    <tr>\n",
              "      <th class=\"blank level0\" >&nbsp;</th>\n",
              "      <th id=\"T_272e0_level0_col0\" class=\"col_heading level0 col0\" >Model</th>\n",
              "      <th id=\"T_272e0_level0_col1\" class=\"col_heading level0 col1\" >Accuracy</th>\n",
              "      <th id=\"T_272e0_level0_col2\" class=\"col_heading level0 col2\" >AUC</th>\n",
              "      <th id=\"T_272e0_level0_col3\" class=\"col_heading level0 col3\" >Recall</th>\n",
              "      <th id=\"T_272e0_level0_col4\" class=\"col_heading level0 col4\" >Prec.</th>\n",
              "      <th id=\"T_272e0_level0_col5\" class=\"col_heading level0 col5\" >F1</th>\n",
              "      <th id=\"T_272e0_level0_col6\" class=\"col_heading level0 col6\" >Kappa</th>\n",
              "      <th id=\"T_272e0_level0_col7\" class=\"col_heading level0 col7\" >MCC</th>\n",
              "      <th id=\"T_272e0_level0_col8\" class=\"col_heading level0 col8\" >TT (Sec)</th>\n",
              "    </tr>\n",
              "  </thead>\n",
              "  <tbody>\n",
              "    <tr>\n",
              "      <th id=\"T_272e0_level0_row0\" class=\"row_heading level0 row0\" >nb</th>\n",
              "      <td id=\"T_272e0_row0_col0\" class=\"data row0 col0\" >Naive Bayes</td>\n",
              "      <td id=\"T_272e0_row0_col1\" class=\"data row0 col1\" >0.6685</td>\n",
              "      <td id=\"T_272e0_row0_col2\" class=\"data row0 col2\" >0.7877</td>\n",
              "      <td id=\"T_272e0_row0_col3\" class=\"data row0 col3\" >0.6685</td>\n",
              "      <td id=\"T_272e0_row0_col4\" class=\"data row0 col4\" >0.5478</td>\n",
              "      <td id=\"T_272e0_row0_col5\" class=\"data row0 col5\" >0.5850</td>\n",
              "      <td id=\"T_272e0_row0_col6\" class=\"data row0 col6\" >0.4502</td>\n",
              "      <td id=\"T_272e0_row0_col7\" class=\"data row0 col7\" >0.5157</td>\n",
              "      <td id=\"T_272e0_row0_col8\" class=\"data row0 col8\" >0.3430</td>\n",
              "    </tr>\n",
              "    <tr>\n",
              "      <th id=\"T_272e0_level0_row1\" class=\"row_heading level0 row1\" >ridge</th>\n",
              "      <td id=\"T_272e0_row1_col0\" class=\"data row1 col0\" >Ridge Classifier</td>\n",
              "      <td id=\"T_272e0_row1_col1\" class=\"data row1 col1\" >0.6538</td>\n",
              "      <td id=\"T_272e0_row1_col2\" class=\"data row1 col2\" >0.0000</td>\n",
              "      <td id=\"T_272e0_row1_col3\" class=\"data row1 col3\" >0.6538</td>\n",
              "      <td id=\"T_272e0_row1_col4\" class=\"data row1 col4\" >0.5648</td>\n",
              "      <td id=\"T_272e0_row1_col5\" class=\"data row1 col5\" >0.5770</td>\n",
              "      <td id=\"T_272e0_row1_col6\" class=\"data row1 col6\" >0.4310</td>\n",
              "      <td id=\"T_272e0_row1_col7\" class=\"data row1 col7\" >0.4779</td>\n",
              "      <td id=\"T_272e0_row1_col8\" class=\"data row1 col8\" >0.2820</td>\n",
              "    </tr>\n",
              "    <tr>\n",
              "      <th id=\"T_272e0_level0_row2\" class=\"row_heading level0 row2\" >gbc</th>\n",
              "      <td id=\"T_272e0_row2_col0\" class=\"data row2 col0\" >Gradient Boosting Classifier</td>\n",
              "      <td id=\"T_272e0_row2_col1\" class=\"data row2 col1\" >0.6262</td>\n",
              "      <td id=\"T_272e0_row2_col2\" class=\"data row2 col2\" >0.7892</td>\n",
              "      <td id=\"T_272e0_row2_col3\" class=\"data row2 col3\" >0.6262</td>\n",
              "      <td id=\"T_272e0_row2_col4\" class=\"data row2 col4\" >0.5918</td>\n",
              "      <td id=\"T_272e0_row2_col5\" class=\"data row2 col5\" >0.5988</td>\n",
              "      <td id=\"T_272e0_row2_col6\" class=\"data row2 col6\" >0.4173</td>\n",
              "      <td id=\"T_272e0_row2_col7\" class=\"data row2 col7\" >0.4293</td>\n",
              "      <td id=\"T_272e0_row2_col8\" class=\"data row2 col8\" >0.8870</td>\n",
              "    </tr>\n",
              "    <tr>\n",
              "      <th id=\"T_272e0_level0_row3\" class=\"row_heading level0 row3\" >xgboost</th>\n",
              "      <td id=\"T_272e0_row3_col0\" class=\"data row3 col0\" >Extreme Gradient Boosting</td>\n",
              "      <td id=\"T_272e0_row3_col1\" class=\"data row3 col1\" >0.6235</td>\n",
              "      <td id=\"T_272e0_row3_col2\" class=\"data row3 col2\" >0.7892</td>\n",
              "      <td id=\"T_272e0_row3_col3\" class=\"data row3 col3\" >0.6235</td>\n",
              "      <td id=\"T_272e0_row3_col4\" class=\"data row3 col4\" >0.6091</td>\n",
              "      <td id=\"T_272e0_row3_col5\" class=\"data row3 col5\" >0.6087</td>\n",
              "      <td id=\"T_272e0_row3_col6\" class=\"data row3 col6\" >0.4259</td>\n",
              "      <td id=\"T_272e0_row3_col7\" class=\"data row3 col7\" >0.4318</td>\n",
              "      <td id=\"T_272e0_row3_col8\" class=\"data row3 col8\" >0.5870</td>\n",
              "    </tr>\n",
              "    <tr>\n",
              "      <th id=\"T_272e0_level0_row4\" class=\"row_heading level0 row4\" >rf</th>\n",
              "      <td id=\"T_272e0_row4_col0\" class=\"data row4 col0\" >Random Forest Classifier</td>\n",
              "      <td id=\"T_272e0_row4_col1\" class=\"data row4 col1\" >0.6226</td>\n",
              "      <td id=\"T_272e0_row4_col2\" class=\"data row4 col2\" >0.7911</td>\n",
              "      <td id=\"T_272e0_row4_col3\" class=\"data row4 col3\" >0.6226</td>\n",
              "      <td id=\"T_272e0_row4_col4\" class=\"data row4 col4\" >0.6006</td>\n",
              "      <td id=\"T_272e0_row4_col5\" class=\"data row4 col5\" >0.6031</td>\n",
              "      <td id=\"T_272e0_row4_col6\" class=\"data row4 col6\" >0.4175</td>\n",
              "      <td id=\"T_272e0_row4_col7\" class=\"data row4 col7\" >0.4239</td>\n",
              "      <td id=\"T_272e0_row4_col8\" class=\"data row4 col8\" >0.6490</td>\n",
              "    </tr>\n",
              "    <tr>\n",
              "      <th id=\"T_272e0_level0_row5\" class=\"row_heading level0 row5\" >catboost</th>\n",
              "      <td id=\"T_272e0_row5_col0\" class=\"data row5 col0\" >CatBoost Classifier</td>\n",
              "      <td id=\"T_272e0_row5_col1\" class=\"data row5 col1\" >0.6180</td>\n",
              "      <td id=\"T_272e0_row5_col2\" class=\"data row5 col2\" >0.7838</td>\n",
              "      <td id=\"T_272e0_row5_col3\" class=\"data row5 col3\" >0.6180</td>\n",
              "      <td id=\"T_272e0_row5_col4\" class=\"data row5 col4\" >0.5971</td>\n",
              "      <td id=\"T_272e0_row5_col5\" class=\"data row5 col5\" >0.6004</td>\n",
              "      <td id=\"T_272e0_row5_col6\" class=\"data row5 col6\" >0.4143</td>\n",
              "      <td id=\"T_272e0_row5_col7\" class=\"data row5 col7\" >0.4212</td>\n",
              "      <td id=\"T_272e0_row5_col8\" class=\"data row5 col8\" >0.3600</td>\n",
              "    </tr>\n",
              "    <tr>\n",
              "      <th id=\"T_272e0_level0_row6\" class=\"row_heading level0 row6\" >et</th>\n",
              "      <td id=\"T_272e0_row6_col0\" class=\"data row6 col0\" >Extra Trees Classifier</td>\n",
              "      <td id=\"T_272e0_row6_col1\" class=\"data row6 col1\" >0.6143</td>\n",
              "      <td id=\"T_272e0_row6_col2\" class=\"data row6 col2\" >0.7870</td>\n",
              "      <td id=\"T_272e0_row6_col3\" class=\"data row6 col3\" >0.6143</td>\n",
              "      <td id=\"T_272e0_row6_col4\" class=\"data row6 col4\" >0.6041</td>\n",
              "      <td id=\"T_272e0_row6_col5\" class=\"data row6 col5\" >0.6036</td>\n",
              "      <td id=\"T_272e0_row6_col6\" class=\"data row6 col6\" >0.4125</td>\n",
              "      <td id=\"T_272e0_row6_col7\" class=\"data row6 col7\" >0.4158</td>\n",
              "      <td id=\"T_272e0_row6_col8\" class=\"data row6 col8\" >0.5160</td>\n",
              "    </tr>\n",
              "    <tr>\n",
              "      <th id=\"T_272e0_level0_row7\" class=\"row_heading level0 row7\" >lightgbm</th>\n",
              "      <td id=\"T_272e0_row7_col0\" class=\"data row7 col0\" >Light Gradient Boosting Machine</td>\n",
              "      <td id=\"T_272e0_row7_col1\" class=\"data row7 col1\" >0.6125</td>\n",
              "      <td id=\"T_272e0_row7_col2\" class=\"data row7 col2\" >0.7904</td>\n",
              "      <td id=\"T_272e0_row7_col3\" class=\"data row7 col3\" >0.6125</td>\n",
              "      <td id=\"T_272e0_row7_col4\" class=\"data row7 col4\" >0.6035</td>\n",
              "      <td id=\"T_272e0_row7_col5\" class=\"data row7 col5\" >0.6039</td>\n",
              "      <td id=\"T_272e0_row7_col6\" class=\"data row7 col6\" >0.4142</td>\n",
              "      <td id=\"T_272e0_row7_col7\" class=\"data row7 col7\" >0.4174</td>\n",
              "      <td id=\"T_272e0_row7_col8\" class=\"data row7 col8\" >0.5380</td>\n",
              "    </tr>\n",
              "    <tr>\n",
              "      <th id=\"T_272e0_level0_row8\" class=\"row_heading level0 row8\" >lda</th>\n",
              "      <td id=\"T_272e0_row8_col0\" class=\"data row8 col0\" >Linear Discriminant Analysis</td>\n",
              "      <td id=\"T_272e0_row8_col1\" class=\"data row8 col1\" >0.5758</td>\n",
              "      <td id=\"T_272e0_row8_col2\" class=\"data row8 col2\" >0.7762</td>\n",
              "      <td id=\"T_272e0_row8_col3\" class=\"data row8 col3\" >0.5758</td>\n",
              "      <td id=\"T_272e0_row8_col4\" class=\"data row8 col4\" >0.5966</td>\n",
              "      <td id=\"T_272e0_row8_col5\" class=\"data row8 col5\" >0.5737</td>\n",
              "      <td id=\"T_272e0_row8_col6\" class=\"data row8 col6\" >0.3766</td>\n",
              "      <td id=\"T_272e0_row8_col7\" class=\"data row8 col7\" >0.3888</td>\n",
              "      <td id=\"T_272e0_row8_col8\" class=\"data row8 col8\" >0.3530</td>\n",
              "    </tr>\n",
              "    <tr>\n",
              "      <th id=\"T_272e0_level0_row9\" class=\"row_heading level0 row9\" >dt</th>\n",
              "      <td id=\"T_272e0_row9_col0\" class=\"data row9 col0\" >Decision Tree Classifier</td>\n",
              "      <td id=\"T_272e0_row9_col1\" class=\"data row9 col1\" >0.5583</td>\n",
              "      <td id=\"T_272e0_row9_col2\" class=\"data row9 col2\" >0.6827</td>\n",
              "      <td id=\"T_272e0_row9_col3\" class=\"data row9 col3\" >0.5583</td>\n",
              "      <td id=\"T_272e0_row9_col4\" class=\"data row9 col4\" >0.5663</td>\n",
              "      <td id=\"T_272e0_row9_col5\" class=\"data row9 col5\" >0.5577</td>\n",
              "      <td id=\"T_272e0_row9_col6\" class=\"data row9 col6\" >0.3504</td>\n",
              "      <td id=\"T_272e0_row9_col7\" class=\"data row9 col7\" >0.3531</td>\n",
              "      <td id=\"T_272e0_row9_col8\" class=\"data row9 col8\" >0.6330</td>\n",
              "    </tr>\n",
              "    <tr>\n",
              "      <th id=\"T_272e0_level0_row10\" class=\"row_heading level0 row10\" >ada</th>\n",
              "      <td id=\"T_272e0_row10_col0\" class=\"data row10 col0\" >Ada Boost Classifier</td>\n",
              "      <td id=\"T_272e0_row10_col1\" class=\"data row10 col1\" >0.5226</td>\n",
              "      <td id=\"T_272e0_row10_col2\" class=\"data row10 col2\" >0.5438</td>\n",
              "      <td id=\"T_272e0_row10_col3\" class=\"data row10 col3\" >0.5226</td>\n",
              "      <td id=\"T_272e0_row10_col4\" class=\"data row10 col4\" >0.5075</td>\n",
              "      <td id=\"T_272e0_row10_col5\" class=\"data row10 col5\" >0.5013</td>\n",
              "      <td id=\"T_272e0_row10_col6\" class=\"data row10 col6\" >0.2767</td>\n",
              "      <td id=\"T_272e0_row10_col7\" class=\"data row10 col7\" >0.2826</td>\n",
              "      <td id=\"T_272e0_row10_col8\" class=\"data row10 col8\" >0.4160</td>\n",
              "    </tr>\n",
              "    <tr>\n",
              "      <th id=\"T_272e0_level0_row11\" class=\"row_heading level0 row11\" >lr</th>\n",
              "      <td id=\"T_272e0_row11_col0\" class=\"data row11 col0\" >Logistic Regression</td>\n",
              "      <td id=\"T_272e0_row11_col1\" class=\"data row11 col1\" >0.4224</td>\n",
              "      <td id=\"T_272e0_row11_col2\" class=\"data row11 col2\" >0.4794</td>\n",
              "      <td id=\"T_272e0_row11_col3\" class=\"data row11 col3\" >0.4224</td>\n",
              "      <td id=\"T_272e0_row11_col4\" class=\"data row11 col4\" >0.1784</td>\n",
              "      <td id=\"T_272e0_row11_col5\" class=\"data row11 col5\" >0.2509</td>\n",
              "      <td id=\"T_272e0_row11_col6\" class=\"data row11 col6\" >0.0000</td>\n",
              "      <td id=\"T_272e0_row11_col7\" class=\"data row11 col7\" >0.0000</td>\n",
              "      <td id=\"T_272e0_row11_col8\" class=\"data row11 col8\" >1.7460</td>\n",
              "    </tr>\n",
              "    <tr>\n",
              "      <th id=\"T_272e0_level0_row12\" class=\"row_heading level0 row12\" >dummy</th>\n",
              "      <td id=\"T_272e0_row12_col0\" class=\"data row12 col0\" >Dummy Classifier</td>\n",
              "      <td id=\"T_272e0_row12_col1\" class=\"data row12 col1\" >0.4224</td>\n",
              "      <td id=\"T_272e0_row12_col2\" class=\"data row12 col2\" >0.5000</td>\n",
              "      <td id=\"T_272e0_row12_col3\" class=\"data row12 col3\" >0.4224</td>\n",
              "      <td id=\"T_272e0_row12_col4\" class=\"data row12 col4\" >0.1784</td>\n",
              "      <td id=\"T_272e0_row12_col5\" class=\"data row12 col5\" >0.2509</td>\n",
              "      <td id=\"T_272e0_row12_col6\" class=\"data row12 col6\" >0.0000</td>\n",
              "      <td id=\"T_272e0_row12_col7\" class=\"data row12 col7\" >0.0000</td>\n",
              "      <td id=\"T_272e0_row12_col8\" class=\"data row12 col8\" >0.6970</td>\n",
              "    </tr>\n",
              "    <tr>\n",
              "      <th id=\"T_272e0_level0_row13\" class=\"row_heading level0 row13\" >knn</th>\n",
              "      <td id=\"T_272e0_row13_col0\" class=\"data row13 col0\" >K Neighbors Classifier</td>\n",
              "      <td id=\"T_272e0_row13_col1\" class=\"data row13 col1\" >0.3554</td>\n",
              "      <td id=\"T_272e0_row13_col2\" class=\"data row13 col2\" >0.5264</td>\n",
              "      <td id=\"T_272e0_row13_col3\" class=\"data row13 col3\" >0.3554</td>\n",
              "      <td id=\"T_272e0_row13_col4\" class=\"data row13 col4\" >0.3465</td>\n",
              "      <td id=\"T_272e0_row13_col5\" class=\"data row13 col5\" >0.3472</td>\n",
              "      <td id=\"T_272e0_row13_col6\" class=\"data row13 col6\" >0.0238</td>\n",
              "      <td id=\"T_272e0_row13_col7\" class=\"data row13 col7\" >0.0240</td>\n",
              "      <td id=\"T_272e0_row13_col8\" class=\"data row13 col8\" >0.5850</td>\n",
              "    </tr>\n",
              "    <tr>\n",
              "      <th id=\"T_272e0_level0_row14\" class=\"row_heading level0 row14\" >svm</th>\n",
              "      <td id=\"T_272e0_row14_col0\" class=\"data row14 col0\" >SVM - Linear Kernel</td>\n",
              "      <td id=\"T_272e0_row14_col1\" class=\"data row14 col1\" >0.2542</td>\n",
              "      <td id=\"T_272e0_row14_col2\" class=\"data row14 col2\" >0.0000</td>\n",
              "      <td id=\"T_272e0_row14_col3\" class=\"data row14 col3\" >0.2542</td>\n",
              "      <td id=\"T_272e0_row14_col4\" class=\"data row14 col4\" >0.0806</td>\n",
              "      <td id=\"T_272e0_row14_col5\" class=\"data row14 col5\" >0.1190</td>\n",
              "      <td id=\"T_272e0_row14_col6\" class=\"data row14 col6\" >0.0000</td>\n",
              "      <td id=\"T_272e0_row14_col7\" class=\"data row14 col7\" >0.0000</td>\n",
              "      <td id=\"T_272e0_row14_col8\" class=\"data row14 col8\" >0.3010</td>\n",
              "    </tr>\n",
              "    <tr>\n",
              "      <th id=\"T_272e0_level0_row15\" class=\"row_heading level0 row15\" >qda</th>\n",
              "      <td id=\"T_272e0_row15_col0\" class=\"data row15 col0\" >Quadratic Discriminant Analysis</td>\n",
              "      <td id=\"T_272e0_row15_col1\" class=\"data row15 col1\" >0.2432</td>\n",
              "      <td id=\"T_272e0_row15_col2\" class=\"data row15 col2\" >0.4573</td>\n",
              "      <td id=\"T_272e0_row15_col3\" class=\"data row15 col3\" >0.2432</td>\n",
              "      <td id=\"T_272e0_row15_col4\" class=\"data row15 col4\" >0.1532</td>\n",
              "      <td id=\"T_272e0_row15_col5\" class=\"data row15 col5\" >0.1308</td>\n",
              "      <td id=\"T_272e0_row15_col6\" class=\"data row15 col6\" >0.0160</td>\n",
              "      <td id=\"T_272e0_row15_col7\" class=\"data row15 col7\" >0.0350</td>\n",
              "      <td id=\"T_272e0_row15_col8\" class=\"data row15 col8\" >0.4560</td>\n",
              "    </tr>\n",
              "  </tbody>\n",
              "</table>\n"
            ]
          },
          "metadata": {}
        },
        {
          "output_type": "display_data",
          "data": {
            "text/plain": [
              "Processing:   0%|          | 0/69 [00:00<?, ?it/s]"
            ],
            "application/vnd.jupyter.widget-view+json": {
              "version_major": 2,
              "version_minor": 0,
              "model_id": "1a03cb7c490a4a51aa4c14d8e26922b9"
            }
          },
          "metadata": {
            "application/vnd.jupyter.widget-view+json": {
              "colab": {
                "custom_widget_manager": {
                  "url": "https://ssl.gstatic.com/colaboratory-static/widgets/colab-cdn-widget-manager/b3e629b1971e1542/manager.min.js"
                }
              }
            }
          }
        },
        {
          "output_type": "display_data",
          "data": {
            "text/plain": [
              "<IPython.core.display.HTML object>"
            ],
            "text/html": []
          },
          "metadata": {}
        },
        {
          "output_type": "execute_result",
          "data": {
            "text/plain": [
              "GaussianNB(priors=None, var_smoothing=1e-09)"
            ],
            "text/html": [
              "<style>#sk-container-id-1 {color: black;background-color: white;}#sk-container-id-1 pre{padding: 0;}#sk-container-id-1 div.sk-toggleable {background-color: white;}#sk-container-id-1 label.sk-toggleable__label {cursor: pointer;display: block;width: 100%;margin-bottom: 0;padding: 0.3em;box-sizing: border-box;text-align: center;}#sk-container-id-1 label.sk-toggleable__label-arrow:before {content: \"▸\";float: left;margin-right: 0.25em;color: #696969;}#sk-container-id-1 label.sk-toggleable__label-arrow:hover:before {color: black;}#sk-container-id-1 div.sk-estimator:hover label.sk-toggleable__label-arrow:before {color: black;}#sk-container-id-1 div.sk-toggleable__content {max-height: 0;max-width: 0;overflow: hidden;text-align: left;background-color: #f0f8ff;}#sk-container-id-1 div.sk-toggleable__content pre {margin: 0.2em;color: black;border-radius: 0.25em;background-color: #f0f8ff;}#sk-container-id-1 input.sk-toggleable__control:checked~div.sk-toggleable__content {max-height: 200px;max-width: 100%;overflow: auto;}#sk-container-id-1 input.sk-toggleable__control:checked~label.sk-toggleable__label-arrow:before {content: \"▾\";}#sk-container-id-1 div.sk-estimator input.sk-toggleable__control:checked~label.sk-toggleable__label {background-color: #d4ebff;}#sk-container-id-1 div.sk-label input.sk-toggleable__control:checked~label.sk-toggleable__label {background-color: #d4ebff;}#sk-container-id-1 input.sk-hidden--visually {border: 0;clip: rect(1px 1px 1px 1px);clip: rect(1px, 1px, 1px, 1px);height: 1px;margin: -1px;overflow: hidden;padding: 0;position: absolute;width: 1px;}#sk-container-id-1 div.sk-estimator {font-family: monospace;background-color: #f0f8ff;border: 1px dotted black;border-radius: 0.25em;box-sizing: border-box;margin-bottom: 0.5em;}#sk-container-id-1 div.sk-estimator:hover {background-color: #d4ebff;}#sk-container-id-1 div.sk-parallel-item::after {content: \"\";width: 100%;border-bottom: 1px solid gray;flex-grow: 1;}#sk-container-id-1 div.sk-label:hover label.sk-toggleable__label {background-color: #d4ebff;}#sk-container-id-1 div.sk-serial::before {content: \"\";position: absolute;border-left: 1px solid gray;box-sizing: border-box;top: 0;bottom: 0;left: 50%;z-index: 0;}#sk-container-id-1 div.sk-serial {display: flex;flex-direction: column;align-items: center;background-color: white;padding-right: 0.2em;padding-left: 0.2em;position: relative;}#sk-container-id-1 div.sk-item {position: relative;z-index: 1;}#sk-container-id-1 div.sk-parallel {display: flex;align-items: stretch;justify-content: center;background-color: white;position: relative;}#sk-container-id-1 div.sk-item::before, #sk-container-id-1 div.sk-parallel-item::before {content: \"\";position: absolute;border-left: 1px solid gray;box-sizing: border-box;top: 0;bottom: 0;left: 50%;z-index: -1;}#sk-container-id-1 div.sk-parallel-item {display: flex;flex-direction: column;z-index: 1;position: relative;background-color: white;}#sk-container-id-1 div.sk-parallel-item:first-child::after {align-self: flex-end;width: 50%;}#sk-container-id-1 div.sk-parallel-item:last-child::after {align-self: flex-start;width: 50%;}#sk-container-id-1 div.sk-parallel-item:only-child::after {width: 0;}#sk-container-id-1 div.sk-dashed-wrapped {border: 1px dashed gray;margin: 0 0.4em 0.5em 0.4em;box-sizing: border-box;padding-bottom: 0.4em;background-color: white;}#sk-container-id-1 div.sk-label label {font-family: monospace;font-weight: bold;display: inline-block;line-height: 1.2em;}#sk-container-id-1 div.sk-label-container {text-align: center;}#sk-container-id-1 div.sk-container {/* jupyter's `normalize.less` sets `[hidden] { display: none; }` but bootstrap.min.css set `[hidden] { display: none !important; }` so we also need the `!important` here to be able to override the default hidden behavior on the sphinx rendered scikit-learn.org. See: https://github.com/scikit-learn/scikit-learn/issues/21755 */display: inline-block !important;position: relative;}#sk-container-id-1 div.sk-text-repr-fallback {display: none;}</style><div id=\"sk-container-id-1\" class=\"sk-top-container\"><div class=\"sk-text-repr-fallback\"><pre>GaussianNB(priors=None, var_smoothing=1e-09)</pre><b>In a Jupyter environment, please rerun this cell to show the HTML representation or trust the notebook. <br />On GitHub, the HTML representation is unable to render, please try loading this page with nbviewer.org.</b></div><div class=\"sk-container\" hidden><div class=\"sk-item\"><div class=\"sk-estimator sk-toggleable\"><input class=\"sk-toggleable__control sk-hidden--visually\" id=\"sk-estimator-id-1\" type=\"checkbox\" checked><label for=\"sk-estimator-id-1\" class=\"sk-toggleable__label sk-toggleable__label-arrow\">GaussianNB</label><div class=\"sk-toggleable__content\"><pre>GaussianNB(priors=None, var_smoothing=1e-09)</pre></div></div></div></div></div>"
            ]
          },
          "metadata": {},
          "execution_count": 31
        }
      ]
    },
    {
      "cell_type": "code",
      "source": [
        "nb2 = create_model('nb')"
      ],
      "metadata": {
        "colab": {
          "base_uri": "https://localhost:8080/",
          "height": 457,
          "referenced_widgets": [
            "4aa06d3c751c45b993ae4d408a565cc3",
            "d8f969fa9e1342028eec20a3cc5fffd1",
            "99c0bf6a4a21442583edb20d170de855",
            "32bba01b01c04b398830d570f1f787a8",
            "f13a8051581241239194e96425dc70d3",
            "e2c0439379b14941a8b8b88ba4adeb2b",
            "4c3f906a03784d71b1880387030e7685",
            "3e032be772be4cc5ac41533104bdcdc3",
            "5ec17bcb8fd54897ae8875a144e8327a",
            "babfea3988ff4c0fa6825b5219c3a03a",
            "81bccfa1075e47389d807feb64bfe590"
          ]
        },
        "id": "ld8MHZg8ZU1q",
        "outputId": "21e4ec6b-93a5-4095-a72f-3975d00e75c8"
      },
      "execution_count": 32,
      "outputs": [
        {
          "output_type": "display_data",
          "data": {
            "text/plain": [
              "<IPython.core.display.HTML object>"
            ],
            "text/html": []
          },
          "metadata": {}
        },
        {
          "output_type": "display_data",
          "data": {
            "text/plain": [
              "<pandas.io.formats.style.Styler at 0x79f3b671ab00>"
            ],
            "text/html": [
              "<style type=\"text/css\">\n",
              "#T_9cc95_row10_col0, #T_9cc95_row10_col1, #T_9cc95_row10_col2, #T_9cc95_row10_col3, #T_9cc95_row10_col4, #T_9cc95_row10_col5, #T_9cc95_row10_col6 {\n",
              "  background: yellow;\n",
              "}\n",
              "</style>\n",
              "<table id=\"T_9cc95\" class=\"dataframe\">\n",
              "  <thead>\n",
              "    <tr>\n",
              "      <th class=\"blank level0\" >&nbsp;</th>\n",
              "      <th id=\"T_9cc95_level0_col0\" class=\"col_heading level0 col0\" >Accuracy</th>\n",
              "      <th id=\"T_9cc95_level0_col1\" class=\"col_heading level0 col1\" >AUC</th>\n",
              "      <th id=\"T_9cc95_level0_col2\" class=\"col_heading level0 col2\" >Recall</th>\n",
              "      <th id=\"T_9cc95_level0_col3\" class=\"col_heading level0 col3\" >Prec.</th>\n",
              "      <th id=\"T_9cc95_level0_col4\" class=\"col_heading level0 col4\" >F1</th>\n",
              "      <th id=\"T_9cc95_level0_col5\" class=\"col_heading level0 col5\" >Kappa</th>\n",
              "      <th id=\"T_9cc95_level0_col6\" class=\"col_heading level0 col6\" >MCC</th>\n",
              "    </tr>\n",
              "    <tr>\n",
              "      <th class=\"index_name level0\" >Fold</th>\n",
              "      <th class=\"blank col0\" >&nbsp;</th>\n",
              "      <th class=\"blank col1\" >&nbsp;</th>\n",
              "      <th class=\"blank col2\" >&nbsp;</th>\n",
              "      <th class=\"blank col3\" >&nbsp;</th>\n",
              "      <th class=\"blank col4\" >&nbsp;</th>\n",
              "      <th class=\"blank col5\" >&nbsp;</th>\n",
              "      <th class=\"blank col6\" >&nbsp;</th>\n",
              "    </tr>\n",
              "  </thead>\n",
              "  <tbody>\n",
              "    <tr>\n",
              "      <th id=\"T_9cc95_level0_row0\" class=\"row_heading level0 row0\" >0</th>\n",
              "      <td id=\"T_9cc95_row0_col0\" class=\"data row0 col0\" >0.6422</td>\n",
              "      <td id=\"T_9cc95_row0_col1\" class=\"data row0 col1\" >0.7610</td>\n",
              "      <td id=\"T_9cc95_row0_col2\" class=\"data row0 col2\" >0.6422</td>\n",
              "      <td id=\"T_9cc95_row0_col3\" class=\"data row0 col3\" >0.5282</td>\n",
              "      <td id=\"T_9cc95_row0_col4\" class=\"data row0 col4\" >0.5590</td>\n",
              "      <td id=\"T_9cc95_row0_col5\" class=\"data row0 col5\" >0.4060</td>\n",
              "      <td id=\"T_9cc95_row0_col6\" class=\"data row0 col6\" >0.4757</td>\n",
              "    </tr>\n",
              "    <tr>\n",
              "      <th id=\"T_9cc95_level0_row1\" class=\"row_heading level0 row1\" >1</th>\n",
              "      <td id=\"T_9cc95_row1_col0\" class=\"data row1 col0\" >0.6789</td>\n",
              "      <td id=\"T_9cc95_row1_col1\" class=\"data row1 col1\" >0.7976</td>\n",
              "      <td id=\"T_9cc95_row1_col2\" class=\"data row1 col2\" >0.6789</td>\n",
              "      <td id=\"T_9cc95_row1_col3\" class=\"data row1 col3\" >0.5288</td>\n",
              "      <td id=\"T_9cc95_row1_col4\" class=\"data row1 col4\" >0.5881</td>\n",
              "      <td id=\"T_9cc95_row1_col5\" class=\"data row1 col5\" >0.4728</td>\n",
              "      <td id=\"T_9cc95_row1_col6\" class=\"data row1 col6\" >0.5227</td>\n",
              "    </tr>\n",
              "    <tr>\n",
              "      <th id=\"T_9cc95_level0_row2\" class=\"row_heading level0 row2\" >2</th>\n",
              "      <td id=\"T_9cc95_row2_col0\" class=\"data row2 col0\" >0.6606</td>\n",
              "      <td id=\"T_9cc95_row2_col1\" class=\"data row2 col1\" >0.7963</td>\n",
              "      <td id=\"T_9cc95_row2_col2\" class=\"data row2 col2\" >0.6606</td>\n",
              "      <td id=\"T_9cc95_row2_col3\" class=\"data row2 col3\" >0.5433</td>\n",
              "      <td id=\"T_9cc95_row2_col4\" class=\"data row2 col4\" >0.5773</td>\n",
              "      <td id=\"T_9cc95_row2_col5\" class=\"data row2 col5\" >0.4373</td>\n",
              "      <td id=\"T_9cc95_row2_col6\" class=\"data row2 col6\" >0.5075</td>\n",
              "    </tr>\n",
              "    <tr>\n",
              "      <th id=\"T_9cc95_level0_row3\" class=\"row_heading level0 row3\" >3</th>\n",
              "      <td id=\"T_9cc95_row3_col0\" class=\"data row3 col0\" >0.6606</td>\n",
              "      <td id=\"T_9cc95_row3_col1\" class=\"data row3 col1\" >0.7784</td>\n",
              "      <td id=\"T_9cc95_row3_col2\" class=\"data row3 col2\" >0.6606</td>\n",
              "      <td id=\"T_9cc95_row3_col3\" class=\"data row3 col3\" >0.5214</td>\n",
              "      <td id=\"T_9cc95_row3_col4\" class=\"data row3 col4\" >0.5756</td>\n",
              "      <td id=\"T_9cc95_row3_col5\" class=\"data row3 col5\" >0.4440</td>\n",
              "      <td id=\"T_9cc95_row3_col6\" class=\"data row3 col6\" >0.4887</td>\n",
              "    </tr>\n",
              "    <tr>\n",
              "      <th id=\"T_9cc95_level0_row4\" class=\"row_heading level0 row4\" >4</th>\n",
              "      <td id=\"T_9cc95_row4_col0\" class=\"data row4 col0\" >0.7156</td>\n",
              "      <td id=\"T_9cc95_row4_col1\" class=\"data row4 col1\" >0.8421</td>\n",
              "      <td id=\"T_9cc95_row4_col2\" class=\"data row4 col2\" >0.7156</td>\n",
              "      <td id=\"T_9cc95_row4_col3\" class=\"data row4 col3\" >0.5846</td>\n",
              "      <td id=\"T_9cc95_row4_col4\" class=\"data row4 col4\" >0.6286</td>\n",
              "      <td id=\"T_9cc95_row4_col5\" class=\"data row4 col5\" >0.5283</td>\n",
              "      <td id=\"T_9cc95_row4_col6\" class=\"data row4 col6\" >0.5972</td>\n",
              "    </tr>\n",
              "    <tr>\n",
              "      <th id=\"T_9cc95_level0_row5\" class=\"row_heading level0 row5\" >5</th>\n",
              "      <td id=\"T_9cc95_row5_col0\" class=\"data row5 col0\" >0.7064</td>\n",
              "      <td id=\"T_9cc95_row5_col1\" class=\"data row5 col1\" >0.8117</td>\n",
              "      <td id=\"T_9cc95_row5_col2\" class=\"data row5 col2\" >0.7064</td>\n",
              "      <td id=\"T_9cc95_row5_col3\" class=\"data row5 col3\" >0.5883</td>\n",
              "      <td id=\"T_9cc95_row5_col4\" class=\"data row5 col4\" >0.6226</td>\n",
              "      <td id=\"T_9cc95_row5_col5\" class=\"data row5 col5\" >0.5119</td>\n",
              "      <td id=\"T_9cc95_row5_col6\" class=\"data row5 col6\" >0.5878</td>\n",
              "    </tr>\n",
              "    <tr>\n",
              "      <th id=\"T_9cc95_level0_row6\" class=\"row_heading level0 row6\" >6</th>\n",
              "      <td id=\"T_9cc95_row6_col0\" class=\"data row6 col0\" >0.6422</td>\n",
              "      <td id=\"T_9cc95_row6_col1\" class=\"data row6 col1\" >0.7483</td>\n",
              "      <td id=\"T_9cc95_row6_col2\" class=\"data row6 col2\" >0.6422</td>\n",
              "      <td id=\"T_9cc95_row6_col3\" class=\"data row6 col3\" >0.5552</td>\n",
              "      <td id=\"T_9cc95_row6_col4\" class=\"data row6 col4\" >0.5638</td>\n",
              "      <td id=\"T_9cc95_row6_col5\" class=\"data row6 col5\" >0.4014</td>\n",
              "      <td id=\"T_9cc95_row6_col6\" class=\"data row6 col6\" >0.4848</td>\n",
              "    </tr>\n",
              "    <tr>\n",
              "      <th id=\"T_9cc95_level0_row7\" class=\"row_heading level0 row7\" >7</th>\n",
              "      <td id=\"T_9cc95_row7_col0\" class=\"data row7 col0\" >0.6697</td>\n",
              "      <td id=\"T_9cc95_row7_col1\" class=\"data row7 col1\" >0.7963</td>\n",
              "      <td id=\"T_9cc95_row7_col2\" class=\"data row7 col2\" >0.6697</td>\n",
              "      <td id=\"T_9cc95_row7_col3\" class=\"data row7 col3\" >0.5488</td>\n",
              "      <td id=\"T_9cc95_row7_col4\" class=\"data row7 col4\" >0.5873</td>\n",
              "      <td id=\"T_9cc95_row7_col5\" class=\"data row7 col5\" >0.4516</td>\n",
              "      <td id=\"T_9cc95_row7_col6\" class=\"data row7 col6\" >0.5143</td>\n",
              "    </tr>\n",
              "    <tr>\n",
              "      <th id=\"T_9cc95_level0_row8\" class=\"row_heading level0 row8\" >8</th>\n",
              "      <td id=\"T_9cc95_row8_col0\" class=\"data row8 col0\" >0.6606</td>\n",
              "      <td id=\"T_9cc95_row8_col1\" class=\"data row8 col1\" >0.7638</td>\n",
              "      <td id=\"T_9cc95_row8_col2\" class=\"data row8 col2\" >0.6606</td>\n",
              "      <td id=\"T_9cc95_row8_col3\" class=\"data row8 col3\" >0.5447</td>\n",
              "      <td id=\"T_9cc95_row8_col4\" class=\"data row8 col4\" >0.5790</td>\n",
              "      <td id=\"T_9cc95_row8_col5\" class=\"data row8 col5\" >0.4356</td>\n",
              "      <td id=\"T_9cc95_row8_col6\" class=\"data row8 col6\" >0.5009</td>\n",
              "    </tr>\n",
              "    <tr>\n",
              "      <th id=\"T_9cc95_level0_row9\" class=\"row_heading level0 row9\" >9</th>\n",
              "      <td id=\"T_9cc95_row9_col0\" class=\"data row9 col0\" >0.6481</td>\n",
              "      <td id=\"T_9cc95_row9_col1\" class=\"data row9 col1\" >0.7813</td>\n",
              "      <td id=\"T_9cc95_row9_col2\" class=\"data row9 col2\" >0.6481</td>\n",
              "      <td id=\"T_9cc95_row9_col3\" class=\"data row9 col3\" >0.5348</td>\n",
              "      <td id=\"T_9cc95_row9_col4\" class=\"data row9 col4\" >0.5681</td>\n",
              "      <td id=\"T_9cc95_row9_col5\" class=\"data row9 col5\" >0.4134</td>\n",
              "      <td id=\"T_9cc95_row9_col6\" class=\"data row9 col6\" >0.4774</td>\n",
              "    </tr>\n",
              "    <tr>\n",
              "      <th id=\"T_9cc95_level0_row10\" class=\"row_heading level0 row10\" >Mean</th>\n",
              "      <td id=\"T_9cc95_row10_col0\" class=\"data row10 col0\" >0.6685</td>\n",
              "      <td id=\"T_9cc95_row10_col1\" class=\"data row10 col1\" >0.7877</td>\n",
              "      <td id=\"T_9cc95_row10_col2\" class=\"data row10 col2\" >0.6685</td>\n",
              "      <td id=\"T_9cc95_row10_col3\" class=\"data row10 col3\" >0.5478</td>\n",
              "      <td id=\"T_9cc95_row10_col4\" class=\"data row10 col4\" >0.5850</td>\n",
              "      <td id=\"T_9cc95_row10_col5\" class=\"data row10 col5\" >0.4502</td>\n",
              "      <td id=\"T_9cc95_row10_col6\" class=\"data row10 col6\" >0.5157</td>\n",
              "    </tr>\n",
              "    <tr>\n",
              "      <th id=\"T_9cc95_level0_row11\" class=\"row_heading level0 row11\" >Std</th>\n",
              "      <td id=\"T_9cc95_row11_col0\" class=\"data row11 col0\" >0.0240</td>\n",
              "      <td id=\"T_9cc95_row11_col1\" class=\"data row11 col1\" >0.0260</td>\n",
              "      <td id=\"T_9cc95_row11_col2\" class=\"data row11 col2\" >0.0240</td>\n",
              "      <td id=\"T_9cc95_row11_col3\" class=\"data row11 col3\" >0.0217</td>\n",
              "      <td id=\"T_9cc95_row11_col4\" class=\"data row11 col4\" >0.0222</td>\n",
              "      <td id=\"T_9cc95_row11_col5\" class=\"data row11 col5\" >0.0407</td>\n",
              "      <td id=\"T_9cc95_row11_col6\" class=\"data row11 col6\" >0.0412</td>\n",
              "    </tr>\n",
              "  </tbody>\n",
              "</table>\n"
            ]
          },
          "metadata": {}
        },
        {
          "output_type": "display_data",
          "data": {
            "text/plain": [
              "Processing:   0%|          | 0/4 [00:00<?, ?it/s]"
            ],
            "application/vnd.jupyter.widget-view+json": {
              "version_major": 2,
              "version_minor": 0,
              "model_id": "4aa06d3c751c45b993ae4d408a565cc3"
            }
          },
          "metadata": {
            "application/vnd.jupyter.widget-view+json": {
              "colab": {
                "custom_widget_manager": {
                  "url": "https://ssl.gstatic.com/colaboratory-static/widgets/colab-cdn-widget-manager/b3e629b1971e1542/manager.min.js"
                }
              }
            }
          }
        },
        {
          "output_type": "display_data",
          "data": {
            "text/plain": [
              "<IPython.core.display.HTML object>"
            ],
            "text/html": []
          },
          "metadata": {}
        }
      ]
    },
    {
      "cell_type": "code",
      "source": [
        "tune_model(nb2)"
      ],
      "metadata": {
        "colab": {
          "base_uri": "https://localhost:8080/",
          "height": 532,
          "referenced_widgets": [
            "6c7fc4bc1bad4a22857d8aa459802342",
            "c0e997d8f88244eb8d0d5ca07ea021c0",
            "c635784153614a1ca657f38f2c481dba",
            "8883abcf7018491db060aebb2c90096d",
            "eb832c3f70d149b494f8e92d6b994ddf",
            "7af8a660de6a4e03b5464cd445dca0b8",
            "1d7338b13907419bbb1b24cf6ba0ec2b",
            "9ce45c13f8654187949817fcb6e6fea7",
            "641c3dde737541608d937b22498152b8",
            "9a75a5fa96094d7e8cc9408747df0b0d",
            "54ba0e2c9e2b489c83c6044b4c375d68"
          ]
        },
        "id": "T2JYMkzYgJWJ",
        "outputId": "ba9086d4-2953-49a7-f297-39d7a96d5ee6"
      },
      "execution_count": 41,
      "outputs": [
        {
          "output_type": "display_data",
          "data": {
            "text/plain": [
              "<IPython.core.display.HTML object>"
            ],
            "text/html": []
          },
          "metadata": {}
        },
        {
          "output_type": "display_data",
          "data": {
            "text/plain": [
              "<pandas.io.formats.style.Styler at 0x79f433c62dd0>"
            ],
            "text/html": [
              "<style type=\"text/css\">\n",
              "#T_6668d_row10_col0, #T_6668d_row10_col1, #T_6668d_row10_col2, #T_6668d_row10_col3, #T_6668d_row10_col4, #T_6668d_row10_col5, #T_6668d_row10_col6 {\n",
              "  background: yellow;\n",
              "}\n",
              "</style>\n",
              "<table id=\"T_6668d\" class=\"dataframe\">\n",
              "  <thead>\n",
              "    <tr>\n",
              "      <th class=\"blank level0\" >&nbsp;</th>\n",
              "      <th id=\"T_6668d_level0_col0\" class=\"col_heading level0 col0\" >Accuracy</th>\n",
              "      <th id=\"T_6668d_level0_col1\" class=\"col_heading level0 col1\" >AUC</th>\n",
              "      <th id=\"T_6668d_level0_col2\" class=\"col_heading level0 col2\" >Recall</th>\n",
              "      <th id=\"T_6668d_level0_col3\" class=\"col_heading level0 col3\" >Prec.</th>\n",
              "      <th id=\"T_6668d_level0_col4\" class=\"col_heading level0 col4\" >F1</th>\n",
              "      <th id=\"T_6668d_level0_col5\" class=\"col_heading level0 col5\" >Kappa</th>\n",
              "      <th id=\"T_6668d_level0_col6\" class=\"col_heading level0 col6\" >MCC</th>\n",
              "    </tr>\n",
              "    <tr>\n",
              "      <th class=\"index_name level0\" >Fold</th>\n",
              "      <th class=\"blank col0\" >&nbsp;</th>\n",
              "      <th class=\"blank col1\" >&nbsp;</th>\n",
              "      <th class=\"blank col2\" >&nbsp;</th>\n",
              "      <th class=\"blank col3\" >&nbsp;</th>\n",
              "      <th class=\"blank col4\" >&nbsp;</th>\n",
              "      <th class=\"blank col5\" >&nbsp;</th>\n",
              "      <th class=\"blank col6\" >&nbsp;</th>\n",
              "    </tr>\n",
              "  </thead>\n",
              "  <tbody>\n",
              "    <tr>\n",
              "      <th id=\"T_6668d_level0_row0\" class=\"row_heading level0 row0\" >0</th>\n",
              "      <td id=\"T_6668d_row0_col0\" class=\"data row0 col0\" >0.6422</td>\n",
              "      <td id=\"T_6668d_row0_col1\" class=\"data row0 col1\" >0.7600</td>\n",
              "      <td id=\"T_6668d_row0_col2\" class=\"data row0 col2\" >0.6422</td>\n",
              "      <td id=\"T_6668d_row0_col3\" class=\"data row0 col3\" >0.5282</td>\n",
              "      <td id=\"T_6668d_row0_col4\" class=\"data row0 col4\" >0.5590</td>\n",
              "      <td id=\"T_6668d_row0_col5\" class=\"data row0 col5\" >0.4060</td>\n",
              "      <td id=\"T_6668d_row0_col6\" class=\"data row0 col6\" >0.4757</td>\n",
              "    </tr>\n",
              "    <tr>\n",
              "      <th id=\"T_6668d_level0_row1\" class=\"row_heading level0 row1\" >1</th>\n",
              "      <td id=\"T_6668d_row1_col0\" class=\"data row1 col0\" >0.6881</td>\n",
              "      <td id=\"T_6668d_row1_col1\" class=\"data row1 col1\" >0.7872</td>\n",
              "      <td id=\"T_6668d_row1_col2\" class=\"data row1 col2\" >0.6881</td>\n",
              "      <td id=\"T_6668d_row1_col3\" class=\"data row1 col3\" >0.5487</td>\n",
              "      <td id=\"T_6668d_row1_col4\" class=\"data row1 col4\" >0.5995</td>\n",
              "      <td id=\"T_6668d_row1_col5\" class=\"data row1 col5\" >0.4858</td>\n",
              "      <td id=\"T_6668d_row1_col6\" class=\"data row1 col6\" >0.5466</td>\n",
              "    </tr>\n",
              "    <tr>\n",
              "      <th id=\"T_6668d_level0_row2\" class=\"row_heading level0 row2\" >2</th>\n",
              "      <td id=\"T_6668d_row2_col0\" class=\"data row2 col0\" >0.6606</td>\n",
              "      <td id=\"T_6668d_row2_col1\" class=\"data row2 col1\" >0.7972</td>\n",
              "      <td id=\"T_6668d_row2_col2\" class=\"data row2 col2\" >0.6606</td>\n",
              "      <td id=\"T_6668d_row2_col3\" class=\"data row2 col3\" >0.5433</td>\n",
              "      <td id=\"T_6668d_row2_col4\" class=\"data row2 col4\" >0.5773</td>\n",
              "      <td id=\"T_6668d_row2_col5\" class=\"data row2 col5\" >0.4373</td>\n",
              "      <td id=\"T_6668d_row2_col6\" class=\"data row2 col6\" >0.5075</td>\n",
              "    </tr>\n",
              "    <tr>\n",
              "      <th id=\"T_6668d_level0_row3\" class=\"row_heading level0 row3\" >3</th>\n",
              "      <td id=\"T_6668d_row3_col0\" class=\"data row3 col0\" >0.6789</td>\n",
              "      <td id=\"T_6668d_row3_col1\" class=\"data row3 col1\" >0.7762</td>\n",
              "      <td id=\"T_6668d_row3_col2\" class=\"data row3 col2\" >0.6789</td>\n",
              "      <td id=\"T_6668d_row3_col3\" class=\"data row3 col3\" >0.5401</td>\n",
              "      <td id=\"T_6668d_row3_col4\" class=\"data row3 col4\" >0.5889</td>\n",
              "      <td id=\"T_6668d_row3_col5\" class=\"data row3 col5\" >0.4699</td>\n",
              "      <td id=\"T_6668d_row3_col6\" class=\"data row3 col6\" >0.5324</td>\n",
              "    </tr>\n",
              "    <tr>\n",
              "      <th id=\"T_6668d_level0_row4\" class=\"row_heading level0 row4\" >4</th>\n",
              "      <td id=\"T_6668d_row4_col0\" class=\"data row4 col0\" >0.7156</td>\n",
              "      <td id=\"T_6668d_row4_col1\" class=\"data row4 col1\" >0.8339</td>\n",
              "      <td id=\"T_6668d_row4_col2\" class=\"data row4 col2\" >0.7156</td>\n",
              "      <td id=\"T_6668d_row4_col3\" class=\"data row4 col3\" >0.5846</td>\n",
              "      <td id=\"T_6668d_row4_col4\" class=\"data row4 col4\" >0.6286</td>\n",
              "      <td id=\"T_6668d_row4_col5\" class=\"data row4 col5\" >0.5283</td>\n",
              "      <td id=\"T_6668d_row4_col6\" class=\"data row4 col6\" >0.5972</td>\n",
              "    </tr>\n",
              "    <tr>\n",
              "      <th id=\"T_6668d_level0_row5\" class=\"row_heading level0 row5\" >5</th>\n",
              "      <td id=\"T_6668d_row5_col0\" class=\"data row5 col0\" >0.7064</td>\n",
              "      <td id=\"T_6668d_row5_col1\" class=\"data row5 col1\" >0.8103</td>\n",
              "      <td id=\"T_6668d_row5_col2\" class=\"data row5 col2\" >0.7064</td>\n",
              "      <td id=\"T_6668d_row5_col3\" class=\"data row5 col3\" >0.5883</td>\n",
              "      <td id=\"T_6668d_row5_col4\" class=\"data row5 col4\" >0.6226</td>\n",
              "      <td id=\"T_6668d_row5_col5\" class=\"data row5 col5\" >0.5119</td>\n",
              "      <td id=\"T_6668d_row5_col6\" class=\"data row5 col6\" >0.5878</td>\n",
              "    </tr>\n",
              "    <tr>\n",
              "      <th id=\"T_6668d_level0_row6\" class=\"row_heading level0 row6\" >6</th>\n",
              "      <td id=\"T_6668d_row6_col0\" class=\"data row6 col0\" >0.6514</td>\n",
              "      <td id=\"T_6668d_row6_col1\" class=\"data row6 col1\" >0.7509</td>\n",
              "      <td id=\"T_6668d_row6_col2\" class=\"data row6 col2\" >0.6514</td>\n",
              "      <td id=\"T_6668d_row6_col3\" class=\"data row6 col3\" >0.5706</td>\n",
              "      <td id=\"T_6668d_row6_col4\" class=\"data row6 col4\" >0.5724</td>\n",
              "      <td id=\"T_6668d_row6_col5\" class=\"data row6 col5\" >0.4160</td>\n",
              "      <td id=\"T_6668d_row6_col6\" class=\"data row6 col6\" >0.5087</td>\n",
              "    </tr>\n",
              "    <tr>\n",
              "      <th id=\"T_6668d_level0_row7\" class=\"row_heading level0 row7\" >7</th>\n",
              "      <td id=\"T_6668d_row7_col0\" class=\"data row7 col0\" >0.6789</td>\n",
              "      <td id=\"T_6668d_row7_col1\" class=\"data row7 col1\" >0.7939</td>\n",
              "      <td id=\"T_6668d_row7_col2\" class=\"data row7 col2\" >0.6789</td>\n",
              "      <td id=\"T_6668d_row7_col3\" class=\"data row7 col3\" >0.5610</td>\n",
              "      <td id=\"T_6668d_row7_col4\" class=\"data row7 col4\" >0.5958</td>\n",
              "      <td id=\"T_6668d_row7_col5\" class=\"data row7 col5\" >0.4661</td>\n",
              "      <td id=\"T_6668d_row7_col6\" class=\"data row7 col6\" >0.5353</td>\n",
              "    </tr>\n",
              "    <tr>\n",
              "      <th id=\"T_6668d_level0_row8\" class=\"row_heading level0 row8\" >8</th>\n",
              "      <td id=\"T_6668d_row8_col0\" class=\"data row8 col0\" >0.6606</td>\n",
              "      <td id=\"T_6668d_row8_col1\" class=\"data row8 col1\" >0.7600</td>\n",
              "      <td id=\"T_6668d_row8_col2\" class=\"data row8 col2\" >0.6606</td>\n",
              "      <td id=\"T_6668d_row8_col3\" class=\"data row8 col3\" >0.5519</td>\n",
              "      <td id=\"T_6668d_row8_col4\" class=\"data row8 col4\" >0.5808</td>\n",
              "      <td id=\"T_6668d_row8_col5\" class=\"data row8 col5\" >0.4349</td>\n",
              "      <td id=\"T_6668d_row8_col6\" class=\"data row8 col6\" >0.5045</td>\n",
              "    </tr>\n",
              "    <tr>\n",
              "      <th id=\"T_6668d_level0_row9\" class=\"row_heading level0 row9\" >9</th>\n",
              "      <td id=\"T_6668d_row9_col0\" class=\"data row9 col0\" >0.6574</td>\n",
              "      <td id=\"T_6668d_row9_col1\" class=\"data row9 col1\" >0.7816</td>\n",
              "      <td id=\"T_6668d_row9_col2\" class=\"data row9 col2\" >0.6574</td>\n",
              "      <td id=\"T_6668d_row9_col3\" class=\"data row9 col3\" >0.5476</td>\n",
              "      <td id=\"T_6668d_row9_col4\" class=\"data row9 col4\" >0.5768</td>\n",
              "      <td id=\"T_6668d_row9_col5\" class=\"data row9 col5\" >0.4280</td>\n",
              "      <td id=\"T_6668d_row9_col6\" class=\"data row9 col6\" >0.4988</td>\n",
              "    </tr>\n",
              "    <tr>\n",
              "      <th id=\"T_6668d_level0_row10\" class=\"row_heading level0 row10\" >Mean</th>\n",
              "      <td id=\"T_6668d_row10_col0\" class=\"data row10 col0\" >0.6740</td>\n",
              "      <td id=\"T_6668d_row10_col1\" class=\"data row10 col1\" >0.7851</td>\n",
              "      <td id=\"T_6668d_row10_col2\" class=\"data row10 col2\" >0.6740</td>\n",
              "      <td id=\"T_6668d_row10_col3\" class=\"data row10 col3\" >0.5564</td>\n",
              "      <td id=\"T_6668d_row10_col4\" class=\"data row10 col4\" >0.5902</td>\n",
              "      <td id=\"T_6668d_row10_col5\" class=\"data row10 col5\" >0.4584</td>\n",
              "      <td id=\"T_6668d_row10_col6\" class=\"data row10 col6\" >0.5295</td>\n",
              "    </tr>\n",
              "    <tr>\n",
              "      <th id=\"T_6668d_level0_row11\" class=\"row_heading level0 row11\" >Std</th>\n",
              "      <td id=\"T_6668d_row11_col0\" class=\"data row11 col0\" >0.0228</td>\n",
              "      <td id=\"T_6668d_row11_col1\" class=\"data row11 col1\" >0.0240</td>\n",
              "      <td id=\"T_6668d_row11_col2\" class=\"data row11 col2\" >0.0228</td>\n",
              "      <td id=\"T_6668d_row11_col3\" class=\"data row11 col3\" >0.0185</td>\n",
              "      <td id=\"T_6668d_row11_col4\" class=\"data row11 col4\" >0.0209</td>\n",
              "      <td id=\"T_6668d_row11_col5\" class=\"data row11 col5\" >0.0389</td>\n",
              "      <td id=\"T_6668d_row11_col6\" class=\"data row11 col6\" >0.0370</td>\n",
              "    </tr>\n",
              "  </tbody>\n",
              "</table>\n"
            ]
          },
          "metadata": {}
        },
        {
          "output_type": "display_data",
          "data": {
            "text/plain": [
              "Processing:   0%|          | 0/7 [00:00<?, ?it/s]"
            ],
            "application/vnd.jupyter.widget-view+json": {
              "version_major": 2,
              "version_minor": 0,
              "model_id": "6c7fc4bc1bad4a22857d8aa459802342"
            }
          },
          "metadata": {
            "application/vnd.jupyter.widget-view+json": {
              "colab": {
                "custom_widget_manager": {
                  "url": "https://ssl.gstatic.com/colaboratory-static/widgets/colab-cdn-widget-manager/b3e629b1971e1542/manager.min.js"
                }
              }
            }
          }
        },
        {
          "output_type": "stream",
          "name": "stdout",
          "text": [
            "Fitting 10 folds for each of 10 candidates, totalling 100 fits\n"
          ]
        },
        {
          "output_type": "display_data",
          "data": {
            "text/plain": [
              "<IPython.core.display.HTML object>"
            ],
            "text/html": []
          },
          "metadata": {}
        },
        {
          "output_type": "execute_result",
          "data": {
            "text/plain": [
              "GaussianNB(priors=None, var_smoothing=2e-09)"
            ],
            "text/html": [
              "<style>#sk-container-id-2 {color: black;background-color: white;}#sk-container-id-2 pre{padding: 0;}#sk-container-id-2 div.sk-toggleable {background-color: white;}#sk-container-id-2 label.sk-toggleable__label {cursor: pointer;display: block;width: 100%;margin-bottom: 0;padding: 0.3em;box-sizing: border-box;text-align: center;}#sk-container-id-2 label.sk-toggleable__label-arrow:before {content: \"▸\";float: left;margin-right: 0.25em;color: #696969;}#sk-container-id-2 label.sk-toggleable__label-arrow:hover:before {color: black;}#sk-container-id-2 div.sk-estimator:hover label.sk-toggleable__label-arrow:before {color: black;}#sk-container-id-2 div.sk-toggleable__content {max-height: 0;max-width: 0;overflow: hidden;text-align: left;background-color: #f0f8ff;}#sk-container-id-2 div.sk-toggleable__content pre {margin: 0.2em;color: black;border-radius: 0.25em;background-color: #f0f8ff;}#sk-container-id-2 input.sk-toggleable__control:checked~div.sk-toggleable__content {max-height: 200px;max-width: 100%;overflow: auto;}#sk-container-id-2 input.sk-toggleable__control:checked~label.sk-toggleable__label-arrow:before {content: \"▾\";}#sk-container-id-2 div.sk-estimator input.sk-toggleable__control:checked~label.sk-toggleable__label {background-color: #d4ebff;}#sk-container-id-2 div.sk-label input.sk-toggleable__control:checked~label.sk-toggleable__label {background-color: #d4ebff;}#sk-container-id-2 input.sk-hidden--visually {border: 0;clip: rect(1px 1px 1px 1px);clip: rect(1px, 1px, 1px, 1px);height: 1px;margin: -1px;overflow: hidden;padding: 0;position: absolute;width: 1px;}#sk-container-id-2 div.sk-estimator {font-family: monospace;background-color: #f0f8ff;border: 1px dotted black;border-radius: 0.25em;box-sizing: border-box;margin-bottom: 0.5em;}#sk-container-id-2 div.sk-estimator:hover {background-color: #d4ebff;}#sk-container-id-2 div.sk-parallel-item::after {content: \"\";width: 100%;border-bottom: 1px solid gray;flex-grow: 1;}#sk-container-id-2 div.sk-label:hover label.sk-toggleable__label {background-color: #d4ebff;}#sk-container-id-2 div.sk-serial::before {content: \"\";position: absolute;border-left: 1px solid gray;box-sizing: border-box;top: 0;bottom: 0;left: 50%;z-index: 0;}#sk-container-id-2 div.sk-serial {display: flex;flex-direction: column;align-items: center;background-color: white;padding-right: 0.2em;padding-left: 0.2em;position: relative;}#sk-container-id-2 div.sk-item {position: relative;z-index: 1;}#sk-container-id-2 div.sk-parallel {display: flex;align-items: stretch;justify-content: center;background-color: white;position: relative;}#sk-container-id-2 div.sk-item::before, #sk-container-id-2 div.sk-parallel-item::before {content: \"\";position: absolute;border-left: 1px solid gray;box-sizing: border-box;top: 0;bottom: 0;left: 50%;z-index: -1;}#sk-container-id-2 div.sk-parallel-item {display: flex;flex-direction: column;z-index: 1;position: relative;background-color: white;}#sk-container-id-2 div.sk-parallel-item:first-child::after {align-self: flex-end;width: 50%;}#sk-container-id-2 div.sk-parallel-item:last-child::after {align-self: flex-start;width: 50%;}#sk-container-id-2 div.sk-parallel-item:only-child::after {width: 0;}#sk-container-id-2 div.sk-dashed-wrapped {border: 1px dashed gray;margin: 0 0.4em 0.5em 0.4em;box-sizing: border-box;padding-bottom: 0.4em;background-color: white;}#sk-container-id-2 div.sk-label label {font-family: monospace;font-weight: bold;display: inline-block;line-height: 1.2em;}#sk-container-id-2 div.sk-label-container {text-align: center;}#sk-container-id-2 div.sk-container {/* jupyter's `normalize.less` sets `[hidden] { display: none; }` but bootstrap.min.css set `[hidden] { display: none !important; }` so we also need the `!important` here to be able to override the default hidden behavior on the sphinx rendered scikit-learn.org. See: https://github.com/scikit-learn/scikit-learn/issues/21755 */display: inline-block !important;position: relative;}#sk-container-id-2 div.sk-text-repr-fallback {display: none;}</style><div id=\"sk-container-id-2\" class=\"sk-top-container\"><div class=\"sk-text-repr-fallback\"><pre>GaussianNB(priors=None, var_smoothing=2e-09)</pre><b>In a Jupyter environment, please rerun this cell to show the HTML representation or trust the notebook. <br />On GitHub, the HTML representation is unable to render, please try loading this page with nbviewer.org.</b></div><div class=\"sk-container\" hidden><div class=\"sk-item\"><div class=\"sk-estimator sk-toggleable\"><input class=\"sk-toggleable__control sk-hidden--visually\" id=\"sk-estimator-id-2\" type=\"checkbox\" checked><label for=\"sk-estimator-id-2\" class=\"sk-toggleable__label sk-toggleable__label-arrow\">GaussianNB</label><div class=\"sk-toggleable__content\"><pre>GaussianNB(priors=None, var_smoothing=2e-09)</pre></div></div></div></div></div>"
            ]
          },
          "metadata": {},
          "execution_count": 41
        }
      ]
    },
    {
      "cell_type": "code",
      "source": [
        "prediction = predict_model(nb2, data = testing_data)"
      ],
      "metadata": {
        "colab": {
          "base_uri": "https://localhost:8080/",
          "height": 81
        },
        "id": "OmO0_ZwkZfNW",
        "outputId": "9364a2e5-4e61-44b9-a54e-e6c71a55db02"
      },
      "execution_count": 33,
      "outputs": [
        {
          "output_type": "display_data",
          "data": {
            "text/plain": [
              "<pandas.io.formats.style.Styler at 0x79f3b77a2170>"
            ],
            "text/html": [
              "<style type=\"text/css\">\n",
              "</style>\n",
              "<table id=\"T_ed948\" class=\"dataframe\">\n",
              "  <thead>\n",
              "    <tr>\n",
              "      <th class=\"blank level0\" >&nbsp;</th>\n",
              "      <th id=\"T_ed948_level0_col0\" class=\"col_heading level0 col0\" >Model</th>\n",
              "      <th id=\"T_ed948_level0_col1\" class=\"col_heading level0 col1\" >Accuracy</th>\n",
              "      <th id=\"T_ed948_level0_col2\" class=\"col_heading level0 col2\" >AUC</th>\n",
              "      <th id=\"T_ed948_level0_col3\" class=\"col_heading level0 col3\" >Recall</th>\n",
              "      <th id=\"T_ed948_level0_col4\" class=\"col_heading level0 col4\" >Prec.</th>\n",
              "      <th id=\"T_ed948_level0_col5\" class=\"col_heading level0 col5\" >F1</th>\n",
              "      <th id=\"T_ed948_level0_col6\" class=\"col_heading level0 col6\" >Kappa</th>\n",
              "      <th id=\"T_ed948_level0_col7\" class=\"col_heading level0 col7\" >MCC</th>\n",
              "    </tr>\n",
              "  </thead>\n",
              "  <tbody>\n",
              "    <tr>\n",
              "      <th id=\"T_ed948_level0_row0\" class=\"row_heading level0 row0\" >0</th>\n",
              "      <td id=\"T_ed948_row0_col0\" class=\"data row0 col0\" >Naive Bayes</td>\n",
              "      <td id=\"T_ed948_row0_col1\" class=\"data row0 col1\" >0.7031</td>\n",
              "      <td id=\"T_ed948_row0_col2\" class=\"data row0 col2\" >0</td>\n",
              "      <td id=\"T_ed948_row0_col3\" class=\"data row0 col3\" >0.7031</td>\n",
              "      <td id=\"T_ed948_row0_col4\" class=\"data row0 col4\" >0.5859</td>\n",
              "      <td id=\"T_ed948_row0_col5\" class=\"data row0 col5\" >0.6253</td>\n",
              "      <td id=\"T_ed948_row0_col6\" class=\"data row0 col6\" >0.4783</td>\n",
              "      <td id=\"T_ed948_row0_col7\" class=\"data row0 col7\" >0.5378</td>\n",
              "    </tr>\n",
              "  </tbody>\n",
              "</table>\n"
            ]
          },
          "metadata": {}
        }
      ]
    },
    {
      "cell_type": "code",
      "source": [
        "prediction.head(2)"
      ],
      "metadata": {
        "colab": {
          "base_uri": "https://localhost:8080/",
          "height": 367
        },
        "id": "1aDG-lzLaXL3",
        "outputId": "ea2c541c-7420-4385-ddaf-3848a6b21cba"
      },
      "execution_count": 34,
      "outputs": [
        {
          "output_type": "execute_result",
          "data": {
            "text/plain": [
              "  Ticket #                          Customer Complaint      Date  \\\n",
              "2   242732                           Speed and Service  18-04-15   \n",
              "4   307175  Comcast not working and no service to boot  26-05-15   \n",
              "\n",
              "  Date_month_year        Time Received Via     City    State  Zip code  \\\n",
              "2       18-Apr-15  9:55:47 AM     Internet  Acworth  Georgia     30101   \n",
              "4       26-May-15  1:25:26 PM     Internet  Acworth  Georgia     30101   \n",
              "\n",
              "  Filing on Behalf of Someone Customer_Complaint_corpus  Status  \\\n",
              "2                         Yes              speed servic       0   \n",
              "4                          No  comcast work servic boot       3   \n",
              "\n",
              "  prediction_label  prediction_score  \n",
              "2           Closed            0.9667  \n",
              "4           Solved            0.6616  "
            ],
            "text/html": [
              "\n",
              "\n",
              "  <div id=\"df-24ca5008-ddec-43b7-96e8-ba7684d24a4a\">\n",
              "    <div class=\"colab-df-container\">\n",
              "      <div>\n",
              "<style scoped>\n",
              "    .dataframe tbody tr th:only-of-type {\n",
              "        vertical-align: middle;\n",
              "    }\n",
              "\n",
              "    .dataframe tbody tr th {\n",
              "        vertical-align: top;\n",
              "    }\n",
              "\n",
              "    .dataframe thead th {\n",
              "        text-align: right;\n",
              "    }\n",
              "</style>\n",
              "<table border=\"1\" class=\"dataframe\">\n",
              "  <thead>\n",
              "    <tr style=\"text-align: right;\">\n",
              "      <th></th>\n",
              "      <th>Ticket #</th>\n",
              "      <th>Customer Complaint</th>\n",
              "      <th>Date</th>\n",
              "      <th>Date_month_year</th>\n",
              "      <th>Time</th>\n",
              "      <th>Received Via</th>\n",
              "      <th>City</th>\n",
              "      <th>State</th>\n",
              "      <th>Zip code</th>\n",
              "      <th>Filing on Behalf of Someone</th>\n",
              "      <th>Customer_Complaint_corpus</th>\n",
              "      <th>Status</th>\n",
              "      <th>prediction_label</th>\n",
              "      <th>prediction_score</th>\n",
              "    </tr>\n",
              "  </thead>\n",
              "  <tbody>\n",
              "    <tr>\n",
              "      <th>2</th>\n",
              "      <td>242732</td>\n",
              "      <td>Speed and Service</td>\n",
              "      <td>18-04-15</td>\n",
              "      <td>18-Apr-15</td>\n",
              "      <td>9:55:47 AM</td>\n",
              "      <td>Internet</td>\n",
              "      <td>Acworth</td>\n",
              "      <td>Georgia</td>\n",
              "      <td>30101</td>\n",
              "      <td>Yes</td>\n",
              "      <td>speed servic</td>\n",
              "      <td>0</td>\n",
              "      <td>Closed</td>\n",
              "      <td>0.9667</td>\n",
              "    </tr>\n",
              "    <tr>\n",
              "      <th>4</th>\n",
              "      <td>307175</td>\n",
              "      <td>Comcast not working and no service to boot</td>\n",
              "      <td>26-05-15</td>\n",
              "      <td>26-May-15</td>\n",
              "      <td>1:25:26 PM</td>\n",
              "      <td>Internet</td>\n",
              "      <td>Acworth</td>\n",
              "      <td>Georgia</td>\n",
              "      <td>30101</td>\n",
              "      <td>No</td>\n",
              "      <td>comcast work servic boot</td>\n",
              "      <td>3</td>\n",
              "      <td>Solved</td>\n",
              "      <td>0.6616</td>\n",
              "    </tr>\n",
              "  </tbody>\n",
              "</table>\n",
              "</div>\n",
              "      <button class=\"colab-df-convert\" onclick=\"convertToInteractive('df-24ca5008-ddec-43b7-96e8-ba7684d24a4a')\"\n",
              "              title=\"Convert this dataframe to an interactive table.\"\n",
              "              style=\"display:none;\">\n",
              "\n",
              "  <svg xmlns=\"http://www.w3.org/2000/svg\" height=\"24px\"viewBox=\"0 0 24 24\"\n",
              "       width=\"24px\">\n",
              "    <path d=\"M0 0h24v24H0V0z\" fill=\"none\"/>\n",
              "    <path d=\"M18.56 5.44l.94 2.06.94-2.06 2.06-.94-2.06-.94-.94-2.06-.94 2.06-2.06.94zm-11 1L8.5 8.5l.94-2.06 2.06-.94-2.06-.94L8.5 2.5l-.94 2.06-2.06.94zm10 10l.94 2.06.94-2.06 2.06-.94-2.06-.94-.94-2.06-.94 2.06-2.06.94z\"/><path d=\"M17.41 7.96l-1.37-1.37c-.4-.4-.92-.59-1.43-.59-.52 0-1.04.2-1.43.59L10.3 9.45l-7.72 7.72c-.78.78-.78 2.05 0 2.83L4 21.41c.39.39.9.59 1.41.59.51 0 1.02-.2 1.41-.59l7.78-7.78 2.81-2.81c.8-.78.8-2.07 0-2.86zM5.41 20L4 18.59l7.72-7.72 1.47 1.35L5.41 20z\"/>\n",
              "  </svg>\n",
              "      </button>\n",
              "\n",
              "\n",
              "\n",
              "    <div id=\"df-c766110f-77a3-43ad-be36-c13d545f128d\">\n",
              "      <button class=\"colab-df-quickchart\" onclick=\"quickchart('df-c766110f-77a3-43ad-be36-c13d545f128d')\"\n",
              "              title=\"Suggest charts.\"\n",
              "              style=\"display:none;\">\n",
              "\n",
              "<svg xmlns=\"http://www.w3.org/2000/svg\" height=\"24px\"viewBox=\"0 0 24 24\"\n",
              "     width=\"24px\">\n",
              "    <g>\n",
              "        <path d=\"M19 3H5c-1.1 0-2 .9-2 2v14c0 1.1.9 2 2 2h14c1.1 0 2-.9 2-2V5c0-1.1-.9-2-2-2zM9 17H7v-7h2v7zm4 0h-2V7h2v10zm4 0h-2v-4h2v4z\"/>\n",
              "    </g>\n",
              "</svg>\n",
              "      </button>\n",
              "    </div>\n",
              "\n",
              "<style>\n",
              "  .colab-df-quickchart {\n",
              "    background-color: #E8F0FE;\n",
              "    border: none;\n",
              "    border-radius: 50%;\n",
              "    cursor: pointer;\n",
              "    display: none;\n",
              "    fill: #1967D2;\n",
              "    height: 32px;\n",
              "    padding: 0 0 0 0;\n",
              "    width: 32px;\n",
              "  }\n",
              "\n",
              "  .colab-df-quickchart:hover {\n",
              "    background-color: #E2EBFA;\n",
              "    box-shadow: 0px 1px 2px rgba(60, 64, 67, 0.3), 0px 1px 3px 1px rgba(60, 64, 67, 0.15);\n",
              "    fill: #174EA6;\n",
              "  }\n",
              "\n",
              "  [theme=dark] .colab-df-quickchart {\n",
              "    background-color: #3B4455;\n",
              "    fill: #D2E3FC;\n",
              "  }\n",
              "\n",
              "  [theme=dark] .colab-df-quickchart:hover {\n",
              "    background-color: #434B5C;\n",
              "    box-shadow: 0px 1px 3px 1px rgba(0, 0, 0, 0.15);\n",
              "    filter: drop-shadow(0px 1px 2px rgba(0, 0, 0, 0.3));\n",
              "    fill: #FFFFFF;\n",
              "  }\n",
              "</style>\n",
              "\n",
              "    <script>\n",
              "      async function quickchart(key) {\n",
              "        const containerElement = document.querySelector('#' + key);\n",
              "        const charts = await google.colab.kernel.invokeFunction(\n",
              "            'suggestCharts', [key], {});\n",
              "      }\n",
              "    </script>\n",
              "\n",
              "      <script>\n",
              "\n",
              "function displayQuickchartButton(domScope) {\n",
              "  let quickchartButtonEl =\n",
              "    domScope.querySelector('#df-c766110f-77a3-43ad-be36-c13d545f128d button.colab-df-quickchart');\n",
              "  quickchartButtonEl.style.display =\n",
              "    google.colab.kernel.accessAllowed ? 'block' : 'none';\n",
              "}\n",
              "\n",
              "        displayQuickchartButton(document);\n",
              "      </script>\n",
              "      <style>\n",
              "    .colab-df-container {\n",
              "      display:flex;\n",
              "      flex-wrap:wrap;\n",
              "      gap: 12px;\n",
              "    }\n",
              "\n",
              "    .colab-df-convert {\n",
              "      background-color: #E8F0FE;\n",
              "      border: none;\n",
              "      border-radius: 50%;\n",
              "      cursor: pointer;\n",
              "      display: none;\n",
              "      fill: #1967D2;\n",
              "      height: 32px;\n",
              "      padding: 0 0 0 0;\n",
              "      width: 32px;\n",
              "    }\n",
              "\n",
              "    .colab-df-convert:hover {\n",
              "      background-color: #E2EBFA;\n",
              "      box-shadow: 0px 1px 2px rgba(60, 64, 67, 0.3), 0px 1px 3px 1px rgba(60, 64, 67, 0.15);\n",
              "      fill: #174EA6;\n",
              "    }\n",
              "\n",
              "    [theme=dark] .colab-df-convert {\n",
              "      background-color: #3B4455;\n",
              "      fill: #D2E3FC;\n",
              "    }\n",
              "\n",
              "    [theme=dark] .colab-df-convert:hover {\n",
              "      background-color: #434B5C;\n",
              "      box-shadow: 0px 1px 3px 1px rgba(0, 0, 0, 0.15);\n",
              "      filter: drop-shadow(0px 1px 2px rgba(0, 0, 0, 0.3));\n",
              "      fill: #FFFFFF;\n",
              "    }\n",
              "  </style>\n",
              "\n",
              "      <script>\n",
              "        const buttonEl =\n",
              "          document.querySelector('#df-24ca5008-ddec-43b7-96e8-ba7684d24a4a button.colab-df-convert');\n",
              "        buttonEl.style.display =\n",
              "          google.colab.kernel.accessAllowed ? 'block' : 'none';\n",
              "\n",
              "        async function convertToInteractive(key) {\n",
              "          const element = document.querySelector('#df-24ca5008-ddec-43b7-96e8-ba7684d24a4a');\n",
              "          const dataTable =\n",
              "            await google.colab.kernel.invokeFunction('convertToInteractive',\n",
              "                                                     [key], {});\n",
              "          if (!dataTable) return;\n",
              "\n",
              "          const docLinkHtml = 'Like what you see? Visit the ' +\n",
              "            '<a target=\"_blank\" href=https://colab.research.google.com/notebooks/data_table.ipynb>data table notebook</a>'\n",
              "            + ' to learn more about interactive tables.';\n",
              "          element.innerHTML = '';\n",
              "          dataTable['output_type'] = 'display_data';\n",
              "          await google.colab.output.renderOutput(dataTable, element);\n",
              "          const docLink = document.createElement('div');\n",
              "          docLink.innerHTML = docLinkHtml;\n",
              "          element.appendChild(docLink);\n",
              "        }\n",
              "      </script>\n",
              "    </div>\n",
              "  </div>\n"
            ]
          },
          "metadata": {},
          "execution_count": 34
        }
      ]
    },
    {
      "cell_type": "code",
      "source": [
        "prediction.reset_index(inplace=True)"
      ],
      "metadata": {
        "id": "ahQQQEugao7E"
      },
      "execution_count": 35,
      "outputs": []
    },
    {
      "cell_type": "code",
      "source": [
        "prediction.head(3)"
      ],
      "metadata": {
        "colab": {
          "base_uri": "https://localhost:8080/",
          "height": 485
        },
        "id": "txOcUgwoa2iz",
        "outputId": "1c6b3a2a-697c-4b22-c947-3e1aecba6312"
      },
      "execution_count": 36,
      "outputs": [
        {
          "output_type": "execute_result",
          "data": {
            "text/plain": [
              "   index Ticket #                                 Customer Complaint  \\\n",
              "0      2   242732                                  Speed and Service   \n",
              "1      4   307175         Comcast not working and no service to boot   \n",
              "2      5   338519  ISP Charging for arbitrary data limits with ov...   \n",
              "\n",
              "       Date Date_month_year        Time Received Via     City    State  \\\n",
              "0  18-04-15       18-Apr-15  9:55:47 AM     Internet  Acworth  Georgia   \n",
              "1  26-05-15       26-May-15  1:25:26 PM     Internet  Acworth  Georgia   \n",
              "2  06-12-15       06-Dec-15  9:59:40 PM     Internet  Acworth  Georgia   \n",
              "\n",
              "   Zip code Filing on Behalf of Someone  \\\n",
              "0     30101                         Yes   \n",
              "1     30101                          No   \n",
              "2     30101                          No   \n",
              "\n",
              "                   Customer_Complaint_corpus  Status prediction_label  \\\n",
              "0                               speed servic       0           Closed   \n",
              "1                   comcast work servic boot       3           Solved   \n",
              "2  isp charg arbitrari data limit overag fee       3           Solved   \n",
              "\n",
              "   prediction_score  \n",
              "0            0.9667  \n",
              "1            0.6616  \n",
              "2            0.6557  "
            ],
            "text/html": [
              "\n",
              "\n",
              "  <div id=\"df-8fc50362-4cd0-4ccd-b849-8830f2186c7c\">\n",
              "    <div class=\"colab-df-container\">\n",
              "      <div>\n",
              "<style scoped>\n",
              "    .dataframe tbody tr th:only-of-type {\n",
              "        vertical-align: middle;\n",
              "    }\n",
              "\n",
              "    .dataframe tbody tr th {\n",
              "        vertical-align: top;\n",
              "    }\n",
              "\n",
              "    .dataframe thead th {\n",
              "        text-align: right;\n",
              "    }\n",
              "</style>\n",
              "<table border=\"1\" class=\"dataframe\">\n",
              "  <thead>\n",
              "    <tr style=\"text-align: right;\">\n",
              "      <th></th>\n",
              "      <th>index</th>\n",
              "      <th>Ticket #</th>\n",
              "      <th>Customer Complaint</th>\n",
              "      <th>Date</th>\n",
              "      <th>Date_month_year</th>\n",
              "      <th>Time</th>\n",
              "      <th>Received Via</th>\n",
              "      <th>City</th>\n",
              "      <th>State</th>\n",
              "      <th>Zip code</th>\n",
              "      <th>Filing on Behalf of Someone</th>\n",
              "      <th>Customer_Complaint_corpus</th>\n",
              "      <th>Status</th>\n",
              "      <th>prediction_label</th>\n",
              "      <th>prediction_score</th>\n",
              "    </tr>\n",
              "  </thead>\n",
              "  <tbody>\n",
              "    <tr>\n",
              "      <th>0</th>\n",
              "      <td>2</td>\n",
              "      <td>242732</td>\n",
              "      <td>Speed and Service</td>\n",
              "      <td>18-04-15</td>\n",
              "      <td>18-Apr-15</td>\n",
              "      <td>9:55:47 AM</td>\n",
              "      <td>Internet</td>\n",
              "      <td>Acworth</td>\n",
              "      <td>Georgia</td>\n",
              "      <td>30101</td>\n",
              "      <td>Yes</td>\n",
              "      <td>speed servic</td>\n",
              "      <td>0</td>\n",
              "      <td>Closed</td>\n",
              "      <td>0.9667</td>\n",
              "    </tr>\n",
              "    <tr>\n",
              "      <th>1</th>\n",
              "      <td>4</td>\n",
              "      <td>307175</td>\n",
              "      <td>Comcast not working and no service to boot</td>\n",
              "      <td>26-05-15</td>\n",
              "      <td>26-May-15</td>\n",
              "      <td>1:25:26 PM</td>\n",
              "      <td>Internet</td>\n",
              "      <td>Acworth</td>\n",
              "      <td>Georgia</td>\n",
              "      <td>30101</td>\n",
              "      <td>No</td>\n",
              "      <td>comcast work servic boot</td>\n",
              "      <td>3</td>\n",
              "      <td>Solved</td>\n",
              "      <td>0.6616</td>\n",
              "    </tr>\n",
              "    <tr>\n",
              "      <th>2</th>\n",
              "      <td>5</td>\n",
              "      <td>338519</td>\n",
              "      <td>ISP Charging for arbitrary data limits with ov...</td>\n",
              "      <td>06-12-15</td>\n",
              "      <td>06-Dec-15</td>\n",
              "      <td>9:59:40 PM</td>\n",
              "      <td>Internet</td>\n",
              "      <td>Acworth</td>\n",
              "      <td>Georgia</td>\n",
              "      <td>30101</td>\n",
              "      <td>No</td>\n",
              "      <td>isp charg arbitrari data limit overag fee</td>\n",
              "      <td>3</td>\n",
              "      <td>Solved</td>\n",
              "      <td>0.6557</td>\n",
              "    </tr>\n",
              "  </tbody>\n",
              "</table>\n",
              "</div>\n",
              "      <button class=\"colab-df-convert\" onclick=\"convertToInteractive('df-8fc50362-4cd0-4ccd-b849-8830f2186c7c')\"\n",
              "              title=\"Convert this dataframe to an interactive table.\"\n",
              "              style=\"display:none;\">\n",
              "\n",
              "  <svg xmlns=\"http://www.w3.org/2000/svg\" height=\"24px\"viewBox=\"0 0 24 24\"\n",
              "       width=\"24px\">\n",
              "    <path d=\"M0 0h24v24H0V0z\" fill=\"none\"/>\n",
              "    <path d=\"M18.56 5.44l.94 2.06.94-2.06 2.06-.94-2.06-.94-.94-2.06-.94 2.06-2.06.94zm-11 1L8.5 8.5l.94-2.06 2.06-.94-2.06-.94L8.5 2.5l-.94 2.06-2.06.94zm10 10l.94 2.06.94-2.06 2.06-.94-2.06-.94-.94-2.06-.94 2.06-2.06.94z\"/><path d=\"M17.41 7.96l-1.37-1.37c-.4-.4-.92-.59-1.43-.59-.52 0-1.04.2-1.43.59L10.3 9.45l-7.72 7.72c-.78.78-.78 2.05 0 2.83L4 21.41c.39.39.9.59 1.41.59.51 0 1.02-.2 1.41-.59l7.78-7.78 2.81-2.81c.8-.78.8-2.07 0-2.86zM5.41 20L4 18.59l7.72-7.72 1.47 1.35L5.41 20z\"/>\n",
              "  </svg>\n",
              "      </button>\n",
              "\n",
              "\n",
              "\n",
              "    <div id=\"df-3938c730-1999-4c40-8547-7ae66449e597\">\n",
              "      <button class=\"colab-df-quickchart\" onclick=\"quickchart('df-3938c730-1999-4c40-8547-7ae66449e597')\"\n",
              "              title=\"Suggest charts.\"\n",
              "              style=\"display:none;\">\n",
              "\n",
              "<svg xmlns=\"http://www.w3.org/2000/svg\" height=\"24px\"viewBox=\"0 0 24 24\"\n",
              "     width=\"24px\">\n",
              "    <g>\n",
              "        <path d=\"M19 3H5c-1.1 0-2 .9-2 2v14c0 1.1.9 2 2 2h14c1.1 0 2-.9 2-2V5c0-1.1-.9-2-2-2zM9 17H7v-7h2v7zm4 0h-2V7h2v10zm4 0h-2v-4h2v4z\"/>\n",
              "    </g>\n",
              "</svg>\n",
              "      </button>\n",
              "    </div>\n",
              "\n",
              "<style>\n",
              "  .colab-df-quickchart {\n",
              "    background-color: #E8F0FE;\n",
              "    border: none;\n",
              "    border-radius: 50%;\n",
              "    cursor: pointer;\n",
              "    display: none;\n",
              "    fill: #1967D2;\n",
              "    height: 32px;\n",
              "    padding: 0 0 0 0;\n",
              "    width: 32px;\n",
              "  }\n",
              "\n",
              "  .colab-df-quickchart:hover {\n",
              "    background-color: #E2EBFA;\n",
              "    box-shadow: 0px 1px 2px rgba(60, 64, 67, 0.3), 0px 1px 3px 1px rgba(60, 64, 67, 0.15);\n",
              "    fill: #174EA6;\n",
              "  }\n",
              "\n",
              "  [theme=dark] .colab-df-quickchart {\n",
              "    background-color: #3B4455;\n",
              "    fill: #D2E3FC;\n",
              "  }\n",
              "\n",
              "  [theme=dark] .colab-df-quickchart:hover {\n",
              "    background-color: #434B5C;\n",
              "    box-shadow: 0px 1px 3px 1px rgba(0, 0, 0, 0.15);\n",
              "    filter: drop-shadow(0px 1px 2px rgba(0, 0, 0, 0.3));\n",
              "    fill: #FFFFFF;\n",
              "  }\n",
              "</style>\n",
              "\n",
              "    <script>\n",
              "      async function quickchart(key) {\n",
              "        const containerElement = document.querySelector('#' + key);\n",
              "        const charts = await google.colab.kernel.invokeFunction(\n",
              "            'suggestCharts', [key], {});\n",
              "      }\n",
              "    </script>\n",
              "\n",
              "      <script>\n",
              "\n",
              "function displayQuickchartButton(domScope) {\n",
              "  let quickchartButtonEl =\n",
              "    domScope.querySelector('#df-3938c730-1999-4c40-8547-7ae66449e597 button.colab-df-quickchart');\n",
              "  quickchartButtonEl.style.display =\n",
              "    google.colab.kernel.accessAllowed ? 'block' : 'none';\n",
              "}\n",
              "\n",
              "        displayQuickchartButton(document);\n",
              "      </script>\n",
              "      <style>\n",
              "    .colab-df-container {\n",
              "      display:flex;\n",
              "      flex-wrap:wrap;\n",
              "      gap: 12px;\n",
              "    }\n",
              "\n",
              "    .colab-df-convert {\n",
              "      background-color: #E8F0FE;\n",
              "      border: none;\n",
              "      border-radius: 50%;\n",
              "      cursor: pointer;\n",
              "      display: none;\n",
              "      fill: #1967D2;\n",
              "      height: 32px;\n",
              "      padding: 0 0 0 0;\n",
              "      width: 32px;\n",
              "    }\n",
              "\n",
              "    .colab-df-convert:hover {\n",
              "      background-color: #E2EBFA;\n",
              "      box-shadow: 0px 1px 2px rgba(60, 64, 67, 0.3), 0px 1px 3px 1px rgba(60, 64, 67, 0.15);\n",
              "      fill: #174EA6;\n",
              "    }\n",
              "\n",
              "    [theme=dark] .colab-df-convert {\n",
              "      background-color: #3B4455;\n",
              "      fill: #D2E3FC;\n",
              "    }\n",
              "\n",
              "    [theme=dark] .colab-df-convert:hover {\n",
              "      background-color: #434B5C;\n",
              "      box-shadow: 0px 1px 3px 1px rgba(0, 0, 0, 0.15);\n",
              "      filter: drop-shadow(0px 1px 2px rgba(0, 0, 0, 0.3));\n",
              "      fill: #FFFFFF;\n",
              "    }\n",
              "  </style>\n",
              "\n",
              "      <script>\n",
              "        const buttonEl =\n",
              "          document.querySelector('#df-8fc50362-4cd0-4ccd-b849-8830f2186c7c button.colab-df-convert');\n",
              "        buttonEl.style.display =\n",
              "          google.colab.kernel.accessAllowed ? 'block' : 'none';\n",
              "\n",
              "        async function convertToInteractive(key) {\n",
              "          const element = document.querySelector('#df-8fc50362-4cd0-4ccd-b849-8830f2186c7c');\n",
              "          const dataTable =\n",
              "            await google.colab.kernel.invokeFunction('convertToInteractive',\n",
              "                                                     [key], {});\n",
              "          if (!dataTable) return;\n",
              "\n",
              "          const docLinkHtml = 'Like what you see? Visit the ' +\n",
              "            '<a target=\"_blank\" href=https://colab.research.google.com/notebooks/data_table.ipynb>data table notebook</a>'\n",
              "            + ' to learn more about interactive tables.';\n",
              "          element.innerHTML = '';\n",
              "          dataTable['output_type'] = 'display_data';\n",
              "          await google.colab.output.renderOutput(dataTable, element);\n",
              "          const docLink = document.createElement('div');\n",
              "          docLink.innerHTML = docLinkHtml;\n",
              "          element.appendChild(docLink);\n",
              "        }\n",
              "      </script>\n",
              "    </div>\n",
              "  </div>\n"
            ]
          },
          "metadata": {},
          "execution_count": 36
        }
      ]
    },
    {
      "cell_type": "code",
      "source": [
        "prediction[\"prediction_label\"].value_counts()"
      ],
      "metadata": {
        "colab": {
          "base_uri": "https://localhost:8080/"
        },
        "id": "1XDHODJeaDba",
        "outputId": "2475edf1-75a8-413a-ac33-308ee42a4692"
      },
      "execution_count": 37,
      "outputs": [
        {
          "output_type": "execute_result",
          "data": {
            "text/plain": [
              "Solved    487\n",
              "Closed    180\n",
              "Name: prediction_label, dtype: int64"
            ]
          },
          "metadata": {},
          "execution_count": 37
        }
      ]
    },
    {
      "cell_type": "code",
      "source": [],
      "metadata": {
        "id": "BBKjwufEayw9"
      },
      "execution_count": 37,
      "outputs": []
    }
  ]
}