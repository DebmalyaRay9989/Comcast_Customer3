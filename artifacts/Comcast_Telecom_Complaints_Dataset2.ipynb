{
  "cells": [
    {
      "cell_type": "code",
      "execution_count": 1,
      "metadata": {
        "id": "fBAynW1HkpGD"
      },
      "outputs": [],
      "source": [
        "## Comcast Telecom Complaints Dataset"
      ]
    },
    {
      "cell_type": "code",
      "execution_count": 3,
      "metadata": {},
      "outputs": [],
      "source": [
        "####! pip install plotly"
      ]
    },
    {
      "cell_type": "markdown",
      "metadata": {
        "id": "22nRK95TlY5O"
      },
      "source": [
        "**Context** <br>\n",
        "Estimation of Comcast Customer Top Complaints.\n",
        "\n",
        "**Acknowledgements** <br>\n",
        "Kaggle Datasets"
      ]
    },
    {
      "cell_type": "code",
      "execution_count": null,
      "metadata": {
        "id": "ckJdmeJSlWeG"
      },
      "outputs": [
        {
          "ename": "ModuleNotFoundError",
          "evalue": "No module named 'plotly'",
          "output_type": "error",
          "traceback": [
            "\u001b[1;31m---------------------------------------------------------------------------\u001b[0m",
            "\u001b[1;31mModuleNotFoundError\u001b[0m                       Traceback (most recent call last)",
            "\u001b[1;32m<ipython-input-2-96b600ac0d2b>\u001b[0m in \u001b[0;36m<module>\u001b[1;34m\u001b[0m\n\u001b[0;32m      2\u001b[0m \u001b[0mwarnings\u001b[0m\u001b[1;33m.\u001b[0m\u001b[0mfilterwarnings\u001b[0m\u001b[1;33m(\u001b[0m\u001b[0maction\u001b[0m\u001b[1;33m=\u001b[0m\u001b[1;34m'ignore'\u001b[0m\u001b[1;33m)\u001b[0m\u001b[1;33m\u001b[0m\u001b[0m\n\u001b[0;32m      3\u001b[0m \u001b[1;33m\u001b[0m\u001b[0m\n\u001b[1;32m----> 4\u001b[1;33m \u001b[1;32mimport\u001b[0m \u001b[0mplotly\u001b[0m\u001b[1;33m.\u001b[0m\u001b[0mexpress\u001b[0m \u001b[1;32mas\u001b[0m \u001b[0mpx\u001b[0m\u001b[1;33m\u001b[0m\u001b[0m\n\u001b[0m\u001b[0;32m      5\u001b[0m \u001b[1;32mfrom\u001b[0m \u001b[0mplotly\u001b[0m\u001b[1;33m.\u001b[0m\u001b[0msubplots\u001b[0m \u001b[1;32mimport\u001b[0m \u001b[0mmake_subplots\u001b[0m\u001b[1;33m\u001b[0m\u001b[0m\n\u001b[0;32m      6\u001b[0m \u001b[1;32mimport\u001b[0m \u001b[0mplotly\u001b[0m\u001b[1;33m.\u001b[0m\u001b[0mgraph_objects\u001b[0m \u001b[1;32mas\u001b[0m \u001b[0mgo\u001b[0m\u001b[1;33m\u001b[0m\u001b[0m\n",
            "\u001b[1;31mModuleNotFoundError\u001b[0m: No module named 'plotly'"
          ]
        }
      ],
      "source": [
        "import warnings\n",
        "warnings.filterwarnings(action='ignore')\n",
        "\n",
        "import plotly.express as px\n",
        "from plotly.subplots import make_subplots\n",
        "import plotly.graph_objects as go\n",
        "\n",
        "import seaborn as sns\n",
        "import matplotlib.pyplot as plt\n",
        "from matplotlib import rcParams"
      ]
    },
    {
      "cell_type": "code",
      "execution_count": 3,
      "metadata": {
        "id": "6nmgrI7flW4u"
      },
      "outputs": [],
      "source": [
        "####! python -m pip install spacy==3.0.0"
      ]
    },
    {
      "cell_type": "code",
      "execution_count": 4,
      "metadata": {
        "id": "z-WWxe6DlW7Z"
      },
      "outputs": [],
      "source": [
        "###! pip uninstall numpy -y"
      ]
    },
    {
      "cell_type": "code",
      "execution_count": 5,
      "metadata": {
        "id": "_gPJ_cLhlW98"
      },
      "outputs": [],
      "source": [
        "###! pip install numpy==1.18.5"
      ]
    },
    {
      "cell_type": "code",
      "execution_count": 6,
      "metadata": {
        "id": "df8NUd8hlXAm"
      },
      "outputs": [],
      "source": [
        "# Install libraries\n",
        "#!pip install boostaroota==1.3\n",
        "#!pip install h2o==3.36.1.3\n",
        "#!pip install ppscore==3.9.0\n",
        "#!pip install imblearn"
      ]
    },
    {
      "cell_type": "code",
      "execution_count": 7,
      "metadata": {
        "id": "VYUNFR4gzDWg"
      },
      "outputs": [],
      "source": [
        "#!pip install optuna"
      ]
    },
    {
      "cell_type": "code",
      "execution_count": 8,
      "metadata": {
        "id": "FnnxEjg0lXGF"
      },
      "outputs": [],
      "source": [
        "###! pip install shap\n",
        "###! pip install catboost"
      ]
    },
    {
      "cell_type": "code",
      "execution_count": 9,
      "metadata": {
        "id": "fa-JarjUrxi0"
      },
      "outputs": [],
      "source": [
        "import numpy as np # linear algebra\n",
        "import pandas as pd # data processing, CSV file I/O (e.g. pd.read_csv)\n",
        "import os\n",
        "from ipywidgets import interact, interactive, fixed, interact_manual\n",
        "import ipywidgets as widgets\n",
        "import plotly.express as px\n",
        "import matplotlib.pyplot as plt\n",
        "import plotly.graph_objs as go\n",
        "from tqdm import tqdm\n",
        "from sklearn.metrics import mean_squared_error\n",
        "import tensorflow as tf\n",
        "from sklearn import model_selection as sk_model_selection\n",
        "from xgboost.sklearn import XGBRegressor\n",
        "from sklearn.metrics import mean_squared_error,roc_auc_score,precision_score\n",
        "from sklearn import metrics\n",
        "import optuna\n",
        "from boostaroota import BoostARoota\n",
        "from sklearn.metrics import log_loss\n",
        "from optuna.samplers import TPESampler\n",
        "import functools\n",
        "from functools import partial\n",
        "import xgboost as xgb\n",
        "import joblib\n",
        "from matplotlib_venn import venn2, venn2_circles, venn2_unweighted\n",
        "from matplotlib_venn import venn3, venn3_circles\n",
        "import statsmodels.api as sm\n",
        "import pylab\n",
        "from xgboost import plot_tree\n",
        "import shap\n",
        "from xgboost.sklearn import XGBClassifier\n",
        "from sklearn.metrics import mean_squared_error,roc_auc_score,precision_score\n",
        "from sklearn import metrics\n",
        "from sklearn.metrics import log_loss\n",
        "from sklearn.metrics import confusion_matrix, recall_score, precision_score, precision_recall_curve, auc, f1_score, \\\n",
        "    average_precision_score, accuracy_score, roc_curve\n",
        "from sklearn.preprocessing import LabelEncoder\n",
        "import h2o\n",
        "from h2o.automl import H2OAutoML\n",
        "from catboost import Pool, CatBoostRegressor, cv\n",
        "import tensorflow as tf\n",
        "from tensorflow.keras.utils import plot_model\n",
        "from tensorflow.keras.models import Model, load_model\n",
        "from tensorflow.keras.callbacks import EarlyStopping\n",
        "from tensorflow.keras.callbacks import ModelCheckpoint\n",
        "from tensorflow.keras.callbacks import ReduceLROnPlateau\n",
        "from tensorflow.keras.layers import BatchNormalization\n",
        "from tensorflow.keras.layers import Dense, Dropout, Input\n",
        "from tensorflow.keras.layers import Concatenate, LSTM, GRU\n",
        "from tensorflow.keras.layers import Bidirectional, Multiply\n",
        "import seaborn as sns\n",
        "from sklearn.model_selection import GridSearchCV\n",
        "from sklearn.ensemble import RandomForestClassifier\n",
        "from sklearn.linear_model import LogisticRegression\n",
        "from sklearn.neighbors import KNeighborsClassifier\n",
        "from sklearn.svm import SVC\n",
        "\n",
        "\n",
        "SEED = 42"
      ]
    },
    {
      "cell_type": "code",
      "execution_count": 10,
      "metadata": {
        "id": "Un14sZsqrxls"
      },
      "outputs": [],
      "source": [
        "import numpy as np\n",
        "import pandas as pd"
      ]
    },
    {
      "cell_type": "code",
      "execution_count": 11,
      "metadata": {
        "id": "0o9ZnM7frxoh"
      },
      "outputs": [],
      "source": [
        "###!mkdir ~/.kaggle"
      ]
    },
    {
      "cell_type": "code",
      "execution_count": 12,
      "metadata": {
        "id": "8b726_oDrxrP"
      },
      "outputs": [],
      "source": [
        "###!cp /kaggle.json ~/.kaggle/"
      ]
    },
    {
      "cell_type": "code",
      "execution_count": 13,
      "metadata": {
        "id": "ECltyokorxt-"
      },
      "outputs": [],
      "source": [
        "####!chmod 600 ~/.kaggle/kaggle.json"
      ]
    },
    {
      "cell_type": "code",
      "execution_count": 14,
      "metadata": {
        "id": "PYnoMtKXrxwz"
      },
      "outputs": [],
      "source": [
        "###!pip install keras-tuner"
      ]
    },
    {
      "cell_type": "code",
      "execution_count": 15,
      "metadata": {
        "id": "v1c1NK_-s3sd"
      },
      "outputs": [],
      "source": [
        "###!pip install kaggle"
      ]
    },
    {
      "cell_type": "code",
      "execution_count": 16,
      "metadata": {
        "id": "0mLVLPzCs3vR"
      },
      "outputs": [],
      "source": [
        "###! kaggle datasets download -d yasserh/comcast-telecom-complaints"
      ]
    },
    {
      "cell_type": "code",
      "execution_count": 17,
      "metadata": {
        "id": "x1blmWrYs3x7"
      },
      "outputs": [],
      "source": [
        "####! unzip /content/comcast-telecom-complaints.zip"
      ]
    },
    {
      "cell_type": "code",
      "execution_count": 18,
      "metadata": {
        "id": "28eSc7ttu9e1"
      },
      "outputs": [],
      "source": [
        "comcast = pd.read_csv(\"/content/Comcast.csv\")"
      ]
    },
    {
      "cell_type": "code",
      "execution_count": 19,
      "metadata": {
        "id": "1HKI2LBHu9hn"
      },
      "outputs": [],
      "source": [
        "training_data = comcast.sample(frac=0.7, random_state=25)\n",
        "testing_data = comcast.drop(training_data.index)"
      ]
    },
    {
      "cell_type": "code",
      "execution_count": 20,
      "metadata": {
        "colab": {
          "base_uri": "https://localhost:8080/"
        },
        "id": "0wGv_No8u9k6",
        "outputId": "eca6064c-c120-4870-923e-c3bc7b36e5b6"
      },
      "outputs": [
        {
          "name": "stdout",
          "output_type": "stream",
          "text": [
            "(1557, 11) (667, 11)\n"
          ]
        }
      ],
      "source": [
        "print(training_data.shape, testing_data.shape)"
      ]
    },
    {
      "cell_type": "code",
      "execution_count": 21,
      "metadata": {
        "colab": {
          "base_uri": "https://localhost:8080/"
        },
        "id": "BNEVyxQFu9oc",
        "outputId": "6d233c2d-60c1-4807-9ca4-79829a856b70"
      },
      "outputs": [
        {
          "name": "stderr",
          "output_type": "stream",
          "text": [
            "[nltk_data] Downloading package punkt to /root/nltk_data...\n",
            "[nltk_data]   Package punkt is already up-to-date!\n"
          ]
        },
        {
          "data": {
            "text/plain": [
              "True"
            ]
          },
          "execution_count": 21,
          "metadata": {},
          "output_type": "execute_result"
        }
      ],
      "source": [
        "import nltk\n",
        "nltk.download('punkt')"
      ]
    },
    {
      "cell_type": "code",
      "execution_count": 22,
      "metadata": {
        "id": "F7BPtJ8vwNe7"
      },
      "outputs": [],
      "source": [
        "####! python -m textblob.download_corpora"
      ]
    },
    {
      "cell_type": "code",
      "execution_count": 23,
      "metadata": {
        "id": "IVk-8KppwNh4"
      },
      "outputs": [],
      "source": [
        "###! pip install tensorflow==2.8.0"
      ]
    },
    {
      "cell_type": "code",
      "execution_count": 24,
      "metadata": {
        "id": "IV-4dxHNwNlR"
      },
      "outputs": [],
      "source": [
        "import tensorflow as tf"
      ]
    },
    {
      "cell_type": "code",
      "execution_count": 25,
      "metadata": {
        "id": "2ltuTaUtwNot"
      },
      "outputs": [],
      "source": [
        "import pandas, numpy, string, textblob\n",
        "import pickle\n",
        "from sklearn import model_selection, preprocessing, linear_model, naive_bayes, metrics, svm, decomposition, ensemble\n",
        "from sklearn.feature_extraction.text import TfidfVectorizer, CountVectorizer\n",
        "import xgboost\n",
        "from keras import layers, models, optimizers\n",
        "from keras.preprocessing import text, sequence\n",
        "import matplotlib.pyplot as plt"
      ]
    },
    {
      "cell_type": "code",
      "execution_count": 26,
      "metadata": {
        "id": "VFbBgZJ7woDF"
      },
      "outputs": [],
      "source": [
        "import pandas as pd\n",
        "from xgboost import XGBRegressor as xgb\n",
        "from sklearn.model_selection import GridSearchCV\n",
        "import numpy as np\n",
        "import matplotlib.pyplot as plt\n",
        "import warnings\n",
        "warnings.filterwarnings(\"ignore\")\n",
        "from sklearn.metrics import mean_squared_error\n",
        "import sklearn\n",
        "import seaborn as sns\n",
        "from sklearn.model_selection import KFold"
      ]
    },
    {
      "cell_type": "code",
      "execution_count": 27,
      "metadata": {
        "colab": {
          "base_uri": "https://localhost:8080/"
        },
        "id": "eAftSNxPwoFy",
        "outputId": "f34c0fa6-a0d4-466b-8954-dc8ef4351420"
      },
      "outputs": [
        {
          "name": "stdout",
          "output_type": "stream",
          "text": [
            "(1557, 11) (667, 11)\n"
          ]
        }
      ],
      "source": [
        "print(training_data.shape, testing_data.shape)"
      ]
    },
    {
      "cell_type": "code",
      "execution_count": 28,
      "metadata": {
        "colab": {
          "base_uri": "https://localhost:8080/"
        },
        "id": "tKHQiNe44AV4",
        "outputId": "d5e829ff-698b-4c74-c06e-15b4fcddcfdd"
      },
      "outputs": [
        {
          "data": {
            "text/plain": [
              "Index(['Ticket #', 'Customer Complaint', 'Date', 'Date_month_year', 'Time',\n",
              "       'Received Via', 'City', 'State', 'Zip code', 'Status',\n",
              "       'Filing on Behalf of Someone'],\n",
              "      dtype='object')"
            ]
          },
          "execution_count": 28,
          "metadata": {},
          "output_type": "execute_result"
        }
      ],
      "source": [
        "training_data.columns"
      ]
    },
    {
      "cell_type": "code",
      "execution_count": 29,
      "metadata": {
        "colab": {
          "base_uri": "https://localhost:8080/"
        },
        "id": "1kOzYp8l4FxJ",
        "outputId": "65bb8072-9772-41f3-ddf5-4cd81ebcf3af"
      },
      "outputs": [
        {
          "data": {
            "text/plain": [
              "Index(['Ticket #', 'Customer Complaint', 'Date', 'Date_month_year', 'Time',\n",
              "       'Received Via', 'City', 'State', 'Zip code', 'Status',\n",
              "       'Filing on Behalf of Someone'],\n",
              "      dtype='object')"
            ]
          },
          "execution_count": 29,
          "metadata": {},
          "output_type": "execute_result"
        }
      ],
      "source": [
        "testing_data.columns"
      ]
    },
    {
      "cell_type": "code",
      "execution_count": 30,
      "metadata": {
        "id": "YnzFw1TO2zym"
      },
      "outputs": [],
      "source": [
        "training_data.to_csv(\"train.csv\")"
      ]
    },
    {
      "cell_type": "code",
      "execution_count": 31,
      "metadata": {
        "id": "0w7tA5NC25a9"
      },
      "outputs": [],
      "source": [
        "testing_data.to_csv(\"test.csv\")"
      ]
    },
    {
      "cell_type": "code",
      "execution_count": 32,
      "metadata": {
        "id": "IXDCo9ucwoIj"
      },
      "outputs": [],
      "source": [
        "###!pip install -q -U watermark"
      ]
    },
    {
      "cell_type": "code",
      "execution_count": 33,
      "metadata": {
        "id": "_eMEycYiwoL0"
      },
      "outputs": [],
      "source": [
        "###!pip install -qq transformers"
      ]
    },
    {
      "cell_type": "code",
      "execution_count": 34,
      "metadata": {
        "colab": {
          "base_uri": "https://localhost:8080/"
        },
        "id": "BRla_KGwvvsQ",
        "outputId": "da7c50b1-9e5c-46f1-ea5e-8721017e8be7"
      },
      "outputs": [
        {
          "data": {
            "text/plain": [
              "device(type='cuda', index=0)"
            ]
          },
          "execution_count": 34,
          "metadata": {},
          "output_type": "execute_result"
        }
      ],
      "source": [
        "#@title Setup & Config\n",
        "import transformers\n",
        "from transformers import BertModel, BertTokenizer, AdamW, get_linear_schedule_with_warmup\n",
        "import torch\n",
        "\n",
        "import numpy as np\n",
        "import pandas as pd\n",
        "import seaborn as sns\n",
        "from pylab import rcParams\n",
        "import matplotlib.pyplot as plt\n",
        "from matplotlib import rc\n",
        "from sklearn.model_selection import train_test_split\n",
        "from sklearn.metrics import confusion_matrix, classification_report\n",
        "from collections import defaultdict\n",
        "from textwrap import wrap\n",
        "\n",
        "from torch import nn, optim\n",
        "from torch.utils.data import Dataset, DataLoader\n",
        "import torch.nn.functional as F\n",
        "\n",
        "%matplotlib inline\n",
        "%config InlineBackend.figure_format='retina'\n",
        "\n",
        "sns.set(style='whitegrid', palette='muted', font_scale=1.2)\n",
        "\n",
        "HAPPY_COLORS_PALETTE = [\"#01BEFE\", \"#FFDD00\", \"#FF7D00\", \"#FF006D\", \"#ADFF02\", \"#8F00FF\"]\n",
        "\n",
        "sns.set_palette(sns.color_palette(HAPPY_COLORS_PALETTE))\n",
        "\n",
        "rcParams['figure.figsize'] = 12, 8\n",
        "\n",
        "RANDOM_SEED = 42\n",
        "np.random.seed(RANDOM_SEED)\n",
        "torch.manual_seed(RANDOM_SEED)\n",
        "\n",
        "device = torch.device(\"cuda:0\" if torch.cuda.is_available() else \"cpu\")\n",
        "device"
      ]
    },
    {
      "cell_type": "code",
      "execution_count": 35,
      "metadata": {
        "id": "MIdWvlqyvvvf"
      },
      "outputs": [],
      "source": [
        "####!gdown --id 1S6qMioqPJjyBLpLVz4gmRTnJHnjitnuV\n",
        "####!gdown --id 1zdmewp7ayS4js4VtrJEHzAheSW-5NBZv"
      ]
    },
    {
      "cell_type": "code",
      "execution_count": 36,
      "metadata": {
        "id": "_q6rFuRCvvx4"
      },
      "outputs": [],
      "source": [
        "import pandas as pd\n",
        "import seaborn as sns\n",
        "import matplotlib.pyplot as plt\n"
      ]
    },
    {
      "cell_type": "code",
      "execution_count": 37,
      "metadata": {
        "colab": {
          "base_uri": "https://localhost:8080/"
        },
        "id": "BlyMc2aovv1M",
        "outputId": "b1068513-87cf-40e6-ea11-edaf2b4a53b4"
      },
      "outputs": [
        {
          "name": "stdout",
          "output_type": "stream",
          "text": [
            "Index(['Ticket #', 'Customer Complaint', 'Date', 'Date_month_year', 'Time',\n",
            "       'Received Via', 'City', 'State', 'Zip code', 'Status',\n",
            "       'Filing on Behalf of Someone'],\n",
            "      dtype='object') Index(['Ticket #', 'Customer Complaint', 'Date', 'Date_month_year', 'Time',\n",
            "       'Received Via', 'City', 'State', 'Zip code', 'Status',\n",
            "       'Filing on Behalf of Someone'],\n",
            "      dtype='object')\n"
          ]
        }
      ],
      "source": [
        "print(testing_data.columns, training_data.columns)"
      ]
    },
    {
      "cell_type": "code",
      "execution_count": 38,
      "metadata": {
        "colab": {
          "base_uri": "https://localhost:8080/"
        },
        "id": "IZd_-TcQw-2X",
        "outputId": "9589af0e-67ee-4a47-a753-373be8573997"
      },
      "outputs": [
        {
          "data": {
            "text/plain": [
              "Solved     658\n",
              "Closed     521\n",
              "Open       266\n",
              "Pending    112\n",
              "Name: Status, dtype: int64"
            ]
          },
          "execution_count": 38,
          "metadata": {},
          "output_type": "execute_result"
        }
      ],
      "source": [
        "training_data.Status.value_counts()"
      ]
    },
    {
      "cell_type": "code",
      "execution_count": 39,
      "metadata": {
        "colab": {
          "base_uri": "https://localhost:8080/",
          "height": 343
        },
        "id": "fZn_C6o7vv3r",
        "outputId": "85926460-6cb9-4fd0-d2eb-f52dbde3addc"
      },
      "outputs": [
        {
          "data": {
            "image/png": "[encoded data removed]",
            "text/plain": [
              "<Figure size 550x350 with 1 Axes>"
            ]
          },
          "metadata": {
            "image/png": {
              "height": 326,
              "width": 526
            }
          },
          "output_type": "display_data"
        }
      ],
      "source": [
        "plt.rcParams[\"figure.figsize\"] = [5.50, 3.50]\n",
        "plt.rcParams[\"figure.autolayout\"] = True\n",
        "\n",
        "training= training_data.Status.value_counts()\n",
        "labels = ['Solved', 'Closed', 'Open', 'Pending']\n",
        "plt.legend(labels, loc=\"best\")\n",
        "plt.plot(training)\n",
        "plt.show()"
      ]
    },
    {
      "cell_type": "code",
      "execution_count": 40,
      "metadata": {
        "colab": {
          "base_uri": "https://localhost:8080/"
        },
        "id": "2jZtXggaxsB7",
        "outputId": "07d5f95f-6d34-4db5-f4ec-3c7f2f8d934b"
      },
      "outputs": [
        {
          "name": "stdout",
          "output_type": "stream",
          "text": [
            "Index(['Ticket #', 'Customer Complaint', 'Date', 'Date_month_year', 'Time',\n",
            "       'Received Via', 'City', 'State', 'Zip code', 'Status',\n",
            "       'Filing on Behalf of Someone'],\n",
            "      dtype='object')\n"
          ]
        }
      ],
      "source": [
        "print(training_data.columns)"
      ]
    },
    {
      "cell_type": "code",
      "execution_count": 41,
      "metadata": {
        "id": "xRZ1RPEFxLc7"
      },
      "outputs": [],
      "source": [
        "training_data[\"length\"]=training_data['Customer Complaint'].apply(len)"
      ]
    },
    {
      "cell_type": "code",
      "execution_count": 42,
      "metadata": {
        "id": "q_5kLR3dxLgT"
      },
      "outputs": [],
      "source": [
        "testing_data[\"length\"]=testing_data['Customer Complaint'].apply(len)"
      ]
    },
    {
      "cell_type": "code",
      "execution_count": 43,
      "metadata": {
        "id": "m2oVz6J6xLjM"
      },
      "outputs": [],
      "source": [
        "import string\n",
        "import re\n",
        "def clean_text(text):\n",
        "    '''Make text lowercase, remove text in square brackets,remove links,remove punctuation\n",
        "    and remove words containing numbers.'''\n",
        "    text = text.lower()\n",
        "    text = re.sub('\\[.*?\\]', '', text)\n",
        "    text = re.sub('https?://\\S+|www\\.\\S+', '', text)\n",
        "    text = re.sub('<.*?>+', '', text)\n",
        "    text = re.sub('[%s]' % re.escape(string.punctuation), '', text)\n",
        "    text = re.sub('\\n', '', text)\n",
        "    text = re.sub('\\w*\\d\\w*', '', text)\n",
        "    return text"
      ]
    },
    {
      "cell_type": "code",
      "execution_count": 44,
      "metadata": {
        "id": "7srOus9syuB1"
      },
      "outputs": [],
      "source": [
        "training_data['Customer Complaint'] = training_data['Customer Complaint'].apply(lambda x: clean_text(x))"
      ]
    },
    {
      "cell_type": "code",
      "execution_count": 45,
      "metadata": {
        "id": "O6UQZxh_y3gf"
      },
      "outputs": [],
      "source": [
        "testing_data['Customer Complaint'] = testing_data['Customer Complaint'].apply(lambda x: clean_text(x))"
      ]
    },
    {
      "cell_type": "code",
      "execution_count": 46,
      "metadata": {
        "colab": {
          "base_uri": "https://localhost:8080/"
        },
        "id": "0I7VQdHgy-Fk",
        "outputId": "57dcca9d-5c0d-4ca9-d0f1-a7e5a0e0ee58"
      },
      "outputs": [
        {
          "name": "stderr",
          "output_type": "stream",
          "text": [
            "[nltk_data] Downloading package stopwords to /root/nltk_data...\n",
            "[nltk_data]   Package stopwords is already up-to-date!\n"
          ]
        }
      ],
      "source": [
        "import nltk\n",
        "nltk.download('stopwords')\n",
        "from nltk.corpus import stopwords\n",
        "stop = stopwords.words('english')"
      ]
    },
    {
      "cell_type": "code",
      "execution_count": 47,
      "metadata": {
        "colab": {
          "base_uri": "https://localhost:8080/"
        },
        "id": "z5iJdC-0y-IJ",
        "outputId": "a80722e2-86c8-4056-d4d7-d0b95f98be0d"
      },
      "outputs": [
        {
          "data": {
            "text/plain": [
              "1236                            comcast uverse\n",
              "541     billingcontract issue related data cap\n",
              "539                         inaccurate billing\n",
              "1566        comcast fraudulent billing charges\n",
              "632          comcast east windsor nj complaint\n",
              "Name: Clean Customer Complaint, dtype: object"
            ]
          },
          "execution_count": 47,
          "metadata": {},
          "output_type": "execute_result"
        }
      ],
      "source": [
        "training_data['Clean Customer Complaint'] = training_data['Customer Complaint'].apply(lambda x: \" \".join(x for x in x.split() if x not in stop))\n",
        "training_data['Clean Customer Complaint'].head()"
      ]
    },
    {
      "cell_type": "code",
      "execution_count": 48,
      "metadata": {
        "colab": {
          "base_uri": "https://localhost:8080/"
        },
        "id": "zZJVldCRy-LC",
        "outputId": "9b0f4ef9-d8c9-4ecd-ee9c-c53b64fd2f49"
      },
      "outputs": [
        {
          "data": {
            "text/plain": [
              "2                                       speed service\n",
              "4                        comcast working service boot\n",
              "5     isp charging arbitrary data limits overage fees\n",
              "10                 billing service asked disconnected\n",
              "11         yahoo failure restore email search feature\n",
              "Name: Clean Customer Complaint, dtype: object"
            ]
          },
          "execution_count": 48,
          "metadata": {},
          "output_type": "execute_result"
        }
      ],
      "source": [
        "testing_data['Clean Customer Complaint'] = testing_data['Customer Complaint'].apply(lambda x: \" \".join(x for x in x.split() if x not in stop))\n",
        "testing_data['Clean Customer Complaint'].head()"
      ]
    },
    {
      "cell_type": "code",
      "execution_count": 49,
      "metadata": {
        "id": "8jdbLvq0y-Nx"
      },
      "outputs": [],
      "source": [
        "###!pip install nltk"
      ]
    },
    {
      "cell_type": "code",
      "execution_count": 50,
      "metadata": {
        "id": "BRqB97UizcXi"
      },
      "outputs": [],
      "source": [
        "import nltk"
      ]
    },
    {
      "cell_type": "code",
      "execution_count": 51,
      "metadata": {
        "colab": {
          "base_uri": "https://localhost:8080/"
        },
        "id": "4etPdPLEzfHo",
        "outputId": "1e0bb7b0-96d2-4c38-f576-0ee737fc4d89"
      },
      "outputs": [
        {
          "name": "stderr",
          "output_type": "stream",
          "text": [
            "[nltk_data] Downloading package punkt to /root/nltk_data...\n",
            "[nltk_data]   Package punkt is already up-to-date!\n"
          ]
        },
        {
          "data": {
            "text/plain": [
              "True"
            ]
          },
          "execution_count": 51,
          "metadata": {},
          "output_type": "execute_result"
        }
      ],
      "source": [
        "nltk.download('punkt')"
      ]
    },
    {
      "cell_type": "code",
      "execution_count": 52,
      "metadata": {
        "id": "EewppYjXzfK1"
      },
      "outputs": [],
      "source": [
        "from nltk.stem.snowball import SnowballStemmer"
      ]
    },
    {
      "cell_type": "code",
      "execution_count": 53,
      "metadata": {
        "id": "Trobgra4zfOk"
      },
      "outputs": [],
      "source": [
        "stemmer = nltk.stem.SnowballStemmer('english')"
      ]
    },
    {
      "cell_type": "code",
      "execution_count": 54,
      "metadata": {
        "colab": {
          "base_uri": "https://localhost:8080/"
        },
        "id": "9Zcq22vuzoVV",
        "outputId": "a7a0fe45-9160-4cfd-a392-9aa07aaae446"
      },
      "outputs": [
        {
          "name": "stderr",
          "output_type": "stream",
          "text": [
            "[nltk_data] Downloading package stopwords to /root/nltk_data...\n",
            "[nltk_data]   Package stopwords is already up-to-date!\n"
          ]
        }
      ],
      "source": [
        "nltk.download('stopwords')\n",
        "stop_words = set(nltk.corpus.stopwords.words('english'))"
      ]
    },
    {
      "cell_type": "code",
      "execution_count": 55,
      "metadata": {
        "id": "YWeJLiVpzqAt"
      },
      "outputs": [],
      "source": [
        "import re\n",
        "\n",
        "def preprocessing(text):\n",
        "   tokens = [word for word in nltk.word_tokenize(text) if (len(word) > 3 and len(word.strip('Xx/')) > 2 and len(re.sub('\\d+', '', word.strip('Xx/'))) > 3) ]\n",
        "   tokens = map(str.lower, tokens)\n",
        "   stems = [stemmer.stem(item) for item in tokens if (item not in stop_words)]\n",
        "   return stems"
      ]
    },
    {
      "cell_type": "code",
      "execution_count": 56,
      "metadata": {
        "id": "RIZLXfouztBt"
      },
      "outputs": [],
      "source": [
        "from sklearn.feature_extraction.text import TfidfVectorizer"
      ]
    },
    {
      "cell_type": "code",
      "execution_count": 57,
      "metadata": {
        "id": "8jiz78Tfzupk"
      },
      "outputs": [],
      "source": [
        "vectorizer_tf = TfidfVectorizer(tokenizer=preprocessing, stop_words=None, max_df=0.75, max_features=1000, lowercase=False, ngram_range=(1,2))"
      ]
    },
    {
      "cell_type": "code",
      "execution_count": 58,
      "metadata": {
        "colab": {
          "base_uri": "https://localhost:8080/"
        },
        "id": "gCwDFKqCzwyk",
        "outputId": "ddbfb58a-f354-4158-b327-eaae36130550"
      },
      "outputs": [
        {
          "name": "stdout",
          "output_type": "stream",
          "text": [
            "Index(['Ticket #', 'Customer Complaint', 'Date', 'Date_month_year', 'Time',\n",
            "       'Received Via', 'City', 'State', 'Zip code', 'Status',\n",
            "       'Filing on Behalf of Someone', 'length', 'Clean Customer Complaint'],\n",
            "      dtype='object') Index(['Ticket #', 'Customer Complaint', 'Date', 'Date_month_year', 'Time',\n",
            "       'Received Via', 'City', 'State', 'Zip code', 'Status',\n",
            "       'Filing on Behalf of Someone', 'length', 'Clean Customer Complaint'],\n",
            "      dtype='object')\n"
          ]
        }
      ],
      "source": [
        "print(testing_data.columns, training_data.columns)"
      ]
    },
    {
      "cell_type": "code",
      "execution_count": 59,
      "metadata": {
        "id": "ZjKZTCXi4e56"
      },
      "outputs": [],
      "source": [
        "training_data['encoded_Status'] = training_data['Status'].astype('category').cat.codes\n",
        "testing_data['encoded_Status'] = testing_data['Status'].astype('category').cat.codes\n"
      ]
    },
    {
      "cell_type": "code",
      "execution_count": 60,
      "metadata": {
        "colab": {
          "base_uri": "https://localhost:8080/"
        },
        "id": "8drruZPP7JgS",
        "outputId": "170dc695-2887-4fac-c2ca-ca55ebcab7e6"
      },
      "outputs": [
        {
          "data": {
            "text/plain": [
              "3    658\n",
              "0    521\n",
              "1    266\n",
              "2    112\n",
              "Name: encoded_Status, dtype: int64"
            ]
          },
          "execution_count": 60,
          "metadata": {},
          "output_type": "execute_result"
        }
      ],
      "source": [
        "training_data['encoded_Status'].value_counts()"
      ]
    },
    {
      "cell_type": "code",
      "execution_count": 61,
      "metadata": {
        "id": "4FJu9Iep7JnM"
      },
      "outputs": [],
      "source": [
        "###! pip install transformers"
      ]
    },
    {
      "cell_type": "code",
      "execution_count": 62,
      "metadata": {
        "id": "iYdnHq977JrK"
      },
      "outputs": [],
      "source": [
        "from transformers import DistilBertTokenizerFast\n",
        "from transformers import TFDistilBertForSequenceClassification\n",
        "import tensorflow as tf\n",
        "import pandas as pd\n",
        "import json\n",
        "import gc"
      ]
    },
    {
      "cell_type": "code",
      "execution_count": 63,
      "metadata": {
        "id": "kpoy1JvX_VV1"
      },
      "outputs": [],
      "source": [
        "traindata_texts = training_data[\"Clean Customer Complaint\"].to_list() # Features (not-tokenized yet)\n",
        "traindata_labels = training_data[\"encoded_Status\"].to_list() # Lables"
      ]
    },
    {
      "cell_type": "code",
      "execution_count": 64,
      "metadata": {
        "id": "2GyYg4f5_iRP"
      },
      "outputs": [],
      "source": [
        "testdata_texts = testing_data[\"Clean Customer Complaint\"].to_list() # Features (not-tokenized yet)\n",
        "testdata_labels = testing_data[\"encoded_Status\"].to_list() # Lables"
      ]
    },
    {
      "cell_type": "code",
      "execution_count": 65,
      "metadata": {
        "id": "waQ6qNWG7Ju4"
      },
      "outputs": [],
      "source": [
        "tokenizer = DistilBertTokenizerFast.from_pretrained('distilbert-base-uncased')\n",
        "train_encodings = tokenizer.batch_encode_plus(traindata_texts, truncation=True, padding=True)\n",
        "test_encodings = tokenizer.batch_encode_plus(testdata_texts, truncation=True, padding=True)"
      ]
    },
    {
      "cell_type": "code",
      "execution_count": 66,
      "metadata": {
        "id": "GEoDUSE0d5gU"
      },
      "outputs": [],
      "source": [
        "traindata_labels = tf.keras.utils.to_categorical(traindata_labels, dtype =\"uint8\")\n",
        "testdata_labels = tf.keras.utils.to_categorical(testdata_labels, dtype =\"uint8\")"
      ]
    },
    {
      "cell_type": "code",
      "execution_count": 67,
      "metadata": {
        "colab": {
          "base_uri": "https://localhost:8080/"
        },
        "id": "Lfdpglzo7J5Z",
        "outputId": "44ba694a-30aa-483d-8506-f8884581dbed"
      },
      "outputs": [
        {
          "data": {
            "text/plain": [
              "['speed service',\n",
              " 'comcast working service boot',\n",
              " 'isp charging arbitrary data limits overage fees',\n",
              " 'billing service asked disconnected',\n",
              " 'yahoo failure restore email search feature',\n",
              " 'internet disconnects every night',\n",
              " 'internet time monopoly',\n",
              " 'speed',\n",
              " 'bait switch',\n",
              " 'wifi internet working well',\n",
              " 'comcast internet data cap',\n",
              " 'xfinity movers edge program',\n",
              " 'comcast refunding credit',\n",
              " 'pmts',\n",
              " 'slow internet speed',\n",
              " 'deceptive sales change billing amount etc',\n",
              " 'comcast billing dispute',\n",
              " 'service issues',\n",
              " 'internet connectivity',\n",
              " 'comcast credit cancellation received year',\n",
              " 'comcast false promises',\n",
              " 'comcast blocking udp port',\n",
              " 'overbilling',\n",
              " 'without service despite willingness pay',\n",
              " 'issues xfinitycomcast',\n",
              " 'cable modem rent internet access',\n",
              " 'att',\n",
              " 'data caps',\n",
              " 'comcast data cap',\n",
              " 'comcast wont cancel service',\n",
              " 'comcast disconnecting service due date',\n",
              " 'denial comcast business phone internet service dental practice',\n",
              " 'comcast bandwidth data caps atlanta ga',\n",
              " 'horrible comcast customer service',\n",
              " 'comcast data usage charges',\n",
              " 'comcast refuses service address',\n",
              " 'data cap',\n",
              " 'comcast atlanta data caps',\n",
              " 'comcast refusing honor internet rate',\n",
              " 'comcast internet cable service',\n",
              " 'comcast data caps',\n",
              " 'comcast xfinity slamming',\n",
              " 'comcast support unable provide accurate information',\n",
              " 'internet availability',\n",
              " 'complaint comcast',\n",
              " 'bandwidth caps becoming excessive',\n",
              " 'unable cancel xfinity home security',\n",
              " 'comcast trying setup stuff didnt order',\n",
              " 'terrible waiting times',\n",
              " 'comcast throttling internet',\n",
              " 'comast data cap',\n",
              " 'throttling',\n",
              " 'comcast internet',\n",
              " 'comcast hbo go app',\n",
              " 'comcast internetcable',\n",
              " 'charge double cable bill',\n",
              " 'unauthorized comcast username setup',\n",
              " 'internet speeds disclosure bill',\n",
              " 'internet speed disclosed',\n",
              " 'consistently slow throttled internet speeds',\n",
              " 'paying high speed internet comcast consistently getting slow service',\n",
              " 'hidden fees dropped internet connection',\n",
              " 'comcast cable maryland',\n",
              " 'internet cable',\n",
              " 'comcast cable',\n",
              " 'comcast complaint',\n",
              " 'internet needed',\n",
              " 'deceptive practices',\n",
              " 'comcast billing error',\n",
              " 'comcast blocking hbogo',\n",
              " 'comcast internet low income families',\n",
              " 'comcast service customer service representative',\n",
              " 'comcast billing',\n",
              " 'comcast major complaint time customer aggravated health issues',\n",
              " 'charge lying',\n",
              " 'comcast internet',\n",
              " 'comcast billing discontinuation service',\n",
              " 'comcast charging fee without disclosing',\n",
              " 'comcast unfair billing practices',\n",
              " 'billing',\n",
              " 'awful service',\n",
              " 'billing equipment provided',\n",
              " 'comcast speed issues',\n",
              " 'comcast issues galore',\n",
              " 'comcast slow internet',\n",
              " 'comcast billing pratice',\n",
              " 'comcast overbilled added numerous hidden charges',\n",
              " 'comcast outagepoor service',\n",
              " 'comcast data usage charges',\n",
              " 'comcast slow internet service',\n",
              " 'comcast internet freezes',\n",
              " 'credit service outage',\n",
              " 'billing overcharges',\n",
              " 'home security forgeryfraud',\n",
              " 'internet bill high',\n",
              " 'paying comcast services',\n",
              " 'disrupted internet service',\n",
              " 'comcast policies',\n",
              " 'internet throttling',\n",
              " 'cocmast billing issues',\n",
              " 'data limit',\n",
              " 'pricing competive',\n",
              " 'internet service',\n",
              " 'comcast hbogo application sony products',\n",
              " 'never resolved problem comcast',\n",
              " 'slow speed entire connection',\n",
              " 'comcast possibly throttling internet',\n",
              " 'issues comcast regarding service billing etc',\n",
              " 'internettv billing',\n",
              " 'difficulty cancel services moving',\n",
              " 'internet slowdown',\n",
              " 'comcast price',\n",
              " 'hidden product installation fee',\n",
              " 'comcast xfinity charge',\n",
              " 'comcast usage caps',\n",
              " 'internet service',\n",
              " 'billing discrepencies service termination hurdles',\n",
              " 'internet speed',\n",
              " 'comcast internet speed',\n",
              " 'comcast complaint',\n",
              " 'data caps',\n",
              " 'comcast unwilling resolve data usage issue',\n",
              " 'comcast data usage meter',\n",
              " 'comcast cable connection street underwater structure high',\n",
              " 'comcast refuses uhold contract years phoneinternet',\n",
              " 'comcast business internet much expensive home internet',\n",
              " 'unethical charges',\n",
              " 'comcast data cap',\n",
              " 'comcast internet prices speeds',\n",
              " 'xfinity',\n",
              " 'comcast jamming signal',\n",
              " 'terrible customer service process',\n",
              " 'run around',\n",
              " 'comcast disconnect',\n",
              " 'comcast problems',\n",
              " 'removed discount complained unauthorized charge',\n",
              " 'comcast ripping cant quiet anymore',\n",
              " 'comcast sony playstation devices',\n",
              " 'comcast wifi issues',\n",
              " 'comcast',\n",
              " 'comcast billingmonopolyservice',\n",
              " 'faulty service false advertisement',\n",
              " 'comcastxfinity service manipulation',\n",
              " 'unsatisfactory speed disorganized service',\n",
              " 'comcast billing service',\n",
              " 'xfinity order status',\n",
              " 'comcast violating open internet rules',\n",
              " 'billingcustomer service',\n",
              " 'comcast billing',\n",
              " 'comcast billing',\n",
              " 'comcastxfinity',\n",
              " 'xfinity comcast closed scheduled appt said open',\n",
              " 'service issues',\n",
              " 'comcast internet outage',\n",
              " 'comcast billing practices',\n",
              " 'poor customer service',\n",
              " 'xfinity throttling apple tv bitrate',\n",
              " 'comcast unfair billing',\n",
              " 'worst speed competition billing match service',\n",
              " 'charged equipment didnt',\n",
              " 'comcast misrepresented service area charged attempting use',\n",
              " 'nonsensical raise internet bill',\n",
              " 'comcast runaround',\n",
              " 'throttled speed',\n",
              " 'transfer services',\n",
              " 'comcastxfinity internet',\n",
              " 'comcast bill problems',\n",
              " 'comcast internet unbelievably slow',\n",
              " 'comcast',\n",
              " 'issues cable internet packaging unfair prices',\n",
              " 'comcast internet speed reliability',\n",
              " 'cable internet',\n",
              " 'comcast bait switch',\n",
              " 'data usage',\n",
              " 'comcast usage caps',\n",
              " 'comcast internet service bad quality',\n",
              " 'horrific billing',\n",
              " 'comcast money grab using data caps',\n",
              " 'deceptive billing practices',\n",
              " 'billing complaint',\n",
              " 'comcast property access right entry',\n",
              " 'robber barron billing practices',\n",
              " 'fradualent claims',\n",
              " 'xfinitty tv exfinity alarm',\n",
              " 'possible internet speed throttling comcast internet provider',\n",
              " 'comcast internet pricing',\n",
              " 'comcast',\n",
              " 'comcast internet',\n",
              " 'fees',\n",
              " 'comcast internet speeds extremely slow',\n",
              " 'comcast internet service billing problem',\n",
              " 'terrible service ripped comcast',\n",
              " 'hbo go playstation',\n",
              " 'comcast secretly raising bill services never agreed',\n",
              " 'comcast service exterior line replacement billed customer',\n",
              " 'internet speeds nowhere close pay',\n",
              " 'billed modem rental several years comcast refuses refund caveat emptor',\n",
              " 'misleading information given',\n",
              " 'comcast service',\n",
              " 'comcast',\n",
              " 'slow service',\n",
              " 'comcast internet',\n",
              " 'business class service',\n",
              " 'broadband service provided',\n",
              " 'comcast data caps',\n",
              " 'comcast internet problems',\n",
              " 'comcast internet billing',\n",
              " 'comcast xfinity triple play',\n",
              " 'internet service speed',\n",
              " 'comcast chronic lies',\n",
              " 'unfair billing practices',\n",
              " 'installation charges',\n",
              " 'palmer road enfield nh internet pricing',\n",
              " 'comcast throttling',\n",
              " 'comcast deceptive selling billing lack service second expanded complaint',\n",
              " 'comcast complaint internet speed',\n",
              " 'comcast billing service issues',\n",
              " 'poor service',\n",
              " 'internet billing',\n",
              " 'comcast fraudualent billing',\n",
              " 'comcast service',\n",
              " 'isp data cap',\n",
              " 'comcast provide online content without cable box',\n",
              " 'lack reasonable infrastructure close town',\n",
              " 'billing issues',\n",
              " 'deceptive trade',\n",
              " 'comcast demanding payment cancellation',\n",
              " 'comcast issues',\n",
              " 'comcast',\n",
              " 'comcast data cap',\n",
              " 'comcast billing',\n",
              " 'raising rate',\n",
              " 'unfair comcast billing',\n",
              " 'deceptive trade',\n",
              " 'comcast data charges',\n",
              " 'xfinity internet speed',\n",
              " 'cannot access email service',\n",
              " 'xfinitycomcast service',\n",
              " 'comcast internet cable deals',\n",
              " 'comcast bundle billing',\n",
              " 'comcast internet speedquality service price',\n",
              " 'internet bundled tv',\n",
              " 'comcast ignoring making attempt correct problems',\n",
              " 'wrongful billing repeated since december',\n",
              " 'somewhat threatening phone calls',\n",
              " 'comcast',\n",
              " 'comcast internet',\n",
              " 'comcast',\n",
              " 'comcast',\n",
              " 'charged speeds provide',\n",
              " 'comcast deception',\n",
              " 'comcast slow imternet speed',\n",
              " 'frequent interruptions',\n",
              " 'throttling comcastxfinity',\n",
              " 'comcast billing',\n",
              " 'comcast bill internet usage',\n",
              " 'cable',\n",
              " 'continues services interruptions causing losses business',\n",
              " 'comcast charging fee without warning',\n",
              " 'one sided contracts',\n",
              " 'comcast data useage caps charges',\n",
              " 'comcast cable unauthorized charges',\n",
              " 'comcast fraudulent pricing practices',\n",
              " 'comcast competition',\n",
              " 'speed throttling',\n",
              " 'comcast rate hike',\n",
              " 'internet speed',\n",
              " 'comcast xfinity',\n",
              " 'phone internet cable alarm',\n",
              " 'comcast refuses refund deposit according initial terms',\n",
              " 'comcast data caps',\n",
              " 'comcastovercharges',\n",
              " 'comcast',\n",
              " 'billing threats',\n",
              " 'comcast overchargingunnecessary charges',\n",
              " 'comcast predatory pricing forcing purchase cable',\n",
              " 'monthly bill internet service become expensive',\n",
              " 'comcast',\n",
              " 'comcast bundles useless services charge',\n",
              " 'comcast wont honor discount bill higher agreed',\n",
              " 'low internet speed complaint comcast xfinity houston texas',\n",
              " 'billing false advertising',\n",
              " 'comcasts data caps anticonsumer',\n",
              " 'hbogo',\n",
              " 'xfinity data cap',\n",
              " 'comcast services',\n",
              " 'charged activation kit never sent needed used',\n",
              " 'renewed contract without permission consent',\n",
              " 'comcast',\n",
              " 'assessing unjustified late fees',\n",
              " 'comcast billing',\n",
              " 'comcast customer care racism',\n",
              " 'comcast customer care racism',\n",
              " 'internet service',\n",
              " 'pricing problems even promises',\n",
              " 'comcast service',\n",
              " 'internet throttled comcast',\n",
              " 'comcast virtually service since october',\n",
              " 'recurring billing discrepancy regarding modem',\n",
              " 'cannot access onlinebilling account pay bill account info changed without authorization',\n",
              " 'customer service comcast',\n",
              " 'comcast speed issue evening',\n",
              " 'comcast applied credit close',\n",
              " 'comcast customer service',\n",
              " 'loss internet connection',\n",
              " 'comcast services working',\n",
              " 'comcast internet performance',\n",
              " 'comcast internet claiming mbps internet get mbps customer service representative hung call repeateadly',\n",
              " 'long term billing issue rude customer service caused depression trauma',\n",
              " 'installation request new subdivision jesup ga',\n",
              " 'comcast grievance',\n",
              " 'comcast exfinity customer service errors lies wasted time',\n",
              " 'comcast cable',\n",
              " 'cyber bulling',\n",
              " 'comcast service',\n",
              " 'comcasts pricing bundling model monopolized extortion area',\n",
              " 'comcast forcing pay rate lower speed',\n",
              " 'comcast online access',\n",
              " 'availabilty',\n",
              " 'nd intrenal miscommunication',\n",
              " 'continued slowness almost weeks',\n",
              " 'continued slowness almost weeks',\n",
              " 'false advertising bait switch',\n",
              " 'comcast internet',\n",
              " 'comcast internet overage charges',\n",
              " 'data caps comcast',\n",
              " 'comcast high speed internet',\n",
              " 'comcast data caps',\n",
              " 'comcast data caps',\n",
              " 'comcast data cap',\n",
              " 'comcast excessive overages',\n",
              " 'comcast',\n",
              " 'comcast monthly data usage cap',\n",
              " 'data caps',\n",
              " 'request transfer email account comcast',\n",
              " 'complaint service provided comcastxfinity',\n",
              " 'problems comcast',\n",
              " 'service provided promised',\n",
              " 'internet availability students',\n",
              " 'comcast internet',\n",
              " 'inability call service power outage',\n",
              " 'underhanded sales techniques',\n",
              " 'fraudulent billing practice',\n",
              " 'receiving network speed advertised',\n",
              " 'comcast honoring agreement',\n",
              " 'comcast support',\n",
              " 'several issues',\n",
              " 'comcast internet offer',\n",
              " 'comcast las cruces new mexico',\n",
              " 'constant loss account',\n",
              " 'lack service speed',\n",
              " 'online adertised price honored phone',\n",
              " 'bait switch',\n",
              " 'unresponsive calls customer service regarding wifi hotspots',\n",
              " 'comcast promised credits superviser',\n",
              " 'comcast bundled services',\n",
              " 'internet',\n",
              " 'ongoing comcast internet outages',\n",
              " 'throttled comcast',\n",
              " 'comcast cable',\n",
              " 'internet contract issue',\n",
              " 'comcast service',\n",
              " 'internet throttling unfair billing practices',\n",
              " 'increase price internet',\n",
              " 'comcast',\n",
              " 'video throttling',\n",
              " 'comcastxfinity',\n",
              " 'repeated issues comcast billing customer service',\n",
              " 'comcast business internet providing service new location terminate contract despite multiple attempts',\n",
              " 'comcast cancellation issue',\n",
              " 'comcast giving ring around charged',\n",
              " 'comcast charges',\n",
              " 'comcast internet billing problemsdisrespectful customer service agents',\n",
              " 'bill flucuation',\n",
              " 'comcast throttling internet',\n",
              " 'comcast data caps',\n",
              " 'comcastxfinity',\n",
              " 'comcast business internet',\n",
              " 'comcast data cap',\n",
              " 'comcast billing service issues',\n",
              " 'internet performance latencybandwidth substantially im paying weeks',\n",
              " 'comcast endless problems',\n",
              " 'infinity comcast',\n",
              " 'wasted time money',\n",
              " 'billing issues',\n",
              " 'forced pay home security services inactive bundled internet services',\n",
              " 'invalid sercice',\n",
              " 'comcast data cap',\n",
              " 'comcast overpricing',\n",
              " 'comcast rates',\n",
              " 'comcast slowing',\n",
              " 'comcast turned business account thirdparty collections legitimately canceled contract per terms',\n",
              " 'comcast internet poor service',\n",
              " 'comcast service',\n",
              " 'comcast service',\n",
              " 'comcast',\n",
              " 'failure connect service',\n",
              " 'problems comcast xfinity internet service',\n",
              " 'comcast internet slow',\n",
              " 'billing',\n",
              " 'internet cable billing',\n",
              " 'comcast charging items wantasked',\n",
              " 'comcast new service ridiculously inept close speed told added incorrect charges first bill hoping would notice',\n",
              " 'comcast billing issues',\n",
              " 'paying high speed internet receiving low speeds',\n",
              " 'internet connectivity issues',\n",
              " 'charged erroneous fee bill',\n",
              " 'low internet quality',\n",
              " 'data cap',\n",
              " 'internet service',\n",
              " 'comcast internet',\n",
              " 'receiving bill account supposed cancelled',\n",
              " 'internet service',\n",
              " 'comcast slow speeds lying prices',\n",
              " 'comcast charging monthly fees equipment rental equipment',\n",
              " 'comcast refuses credit erroneous overcharges due deceptive promotional rates',\n",
              " 'comcast data cap',\n",
              " 'comcast installation date june',\n",
              " 'cap comcast data',\n",
              " 'comcast internet complaint',\n",
              " 'comcast billing',\n",
              " 'dishonest billing practices lying',\n",
              " 'comcast lies customer get phone',\n",
              " 'unreliable internet service',\n",
              " 'bait switch product offerings internet blast service',\n",
              " 'comcast internet',\n",
              " 'comcast connection issues',\n",
              " 'comcast billing issues',\n",
              " 'comcast attempting circumvent net neutrality policies',\n",
              " 'comcast data cap',\n",
              " 'comcast responsive multiple requests service',\n",
              " 'comcast stealing',\n",
              " 'low wifi',\n",
              " 'issue internet speed',\n",
              " 'horrible customer service could help lied supervisor',\n",
              " 'comcast business internet',\n",
              " 'overcharges',\n",
              " 'comcast cheating',\n",
              " 'comcast business phoneinternet contract disagreement',\n",
              " 'internet outages',\n",
              " 'high speed internet awful',\n",
              " 'comcastxfinity',\n",
              " 'internet problems',\n",
              " 'bundled cable internet',\n",
              " 'comcast dishonest marketing scheme',\n",
              " 'sold one service received another',\n",
              " 'comcast',\n",
              " 'illegal charges comcast',\n",
              " 'inconsistent low speeds overpriced',\n",
              " 'bad customer service',\n",
              " 'unable cancel poor internet service',\n",
              " 'microsoft limiting service',\n",
              " 'unfair bundles',\n",
              " 'comcast',\n",
              " 'comcastxfinity cancellation fee',\n",
              " 'lied comcast',\n",
              " 'data cap olive branch ms comcast',\n",
              " 'comcast fraudulent billing practices unwilling resolve situation',\n",
              " 'billing slowing internet',\n",
              " 'internet tv problems',\n",
              " 'internet service billing',\n",
              " 'comcast billingpricing practices',\n",
              " 'comcast terrible service',\n",
              " 'abysmal customer service approve merger time warner',\n",
              " 'comcast business internet service days',\n",
              " 'comcast',\n",
              " 'comcast service rep missed appointment missed important family gathering waiting worker show',\n",
              " 'comcast phone internet tv',\n",
              " 'deceptive false contract business comcast service call',\n",
              " 'poor service inaccurate billing',\n",
              " 'comcast highspeed internet work',\n",
              " 'failure cancel service',\n",
              " 'slow internet speeds',\n",
              " 'questionable internet slowdown',\n",
              " 'surprise data caps comcast',\n",
              " 'price increase fixed price plan',\n",
              " 'internet price went offered lower price deal cable tv',\n",
              " 'speed',\n",
              " 'comcast xfinity larger withdrawal automatic payment billed',\n",
              " 'inability add service',\n",
              " 'internet service',\n",
              " 'internet connectivity speed',\n",
              " 'bad internet speeds',\n",
              " 'comcast',\n",
              " 'comcast billing issues',\n",
              " 'comcast refuses recognize sex marriage',\n",
              " 'comcast billing services',\n",
              " 'internet service provider billing increase',\n",
              " 'comcast terrible experience resolution',\n",
              " 'comcast throttling connection speeds',\n",
              " 'internet phone cable service',\n",
              " 'comcast bundling internet tv services deceptive sales practices',\n",
              " 'billingservice issues',\n",
              " 'charging service fixing problem',\n",
              " 'internet work home',\n",
              " 'terrible customer service comcast',\n",
              " 'comcast blocks hbogo sony devices',\n",
              " 'comcasts deceptive billing',\n",
              " 'comcast internet data cap',\n",
              " 'comcast blocking hbo content streaming',\n",
              " 'bait switch',\n",
              " 'comcast deceptive business class billing',\n",
              " 'invalid sercvice charge',\n",
              " 'comcastxfinity blast internet',\n",
              " 'unable get comcast provide broadband',\n",
              " 'loss connection internet many time day',\n",
              " 'comcast bait switch',\n",
              " 'service billing',\n",
              " 'data caps monthly fees',\n",
              " 'comcast monopoly calvert county maryland',\n",
              " 'intermittent expensive connection',\n",
              " 'non working service',\n",
              " 'internet pricing competition',\n",
              " 'tinternet service provider complaint',\n",
              " 'comcast service inadequacies',\n",
              " 'internet speed',\n",
              " 'possible speed throttling comcast xfinity richmond va',\n",
              " 'comcast internet',\n",
              " 'comcast',\n",
              " 'comcast',\n",
              " 'internet service three weeks',\n",
              " 'comcast internet service',\n",
              " 'billing dispute',\n",
              " 'comcastnet',\n",
              " 'internet slow',\n",
              " 'internet availability',\n",
              " 'comcast advertised wifi internet speed provided false advertisment',\n",
              " 'comcasts internet slower pay',\n",
              " 'billing comcast',\n",
              " 'refusal rectify',\n",
              " 'complain comcast email telephone home service',\n",
              " 'comcastxfinity',\n",
              " 'internet offer rescinded',\n",
              " 'comcast internet service',\n",
              " 'comcast etf charge',\n",
              " 'charged technician fee',\n",
              " 'availabilty',\n",
              " 'unwanted email opt options',\n",
              " 'difficulty internet speeds',\n",
              " 'monopolistic billing',\n",
              " 'uncompetitive pricing comcast internet services',\n",
              " 'ecobill discount',\n",
              " 'comcast throttling otherwise underdelivering internet service',\n",
              " 'comcast refuses lower bill prevoius agreement',\n",
              " 'internet issues comcast',\n",
              " 'false billing',\n",
              " 'postal mail ticket',\n",
              " 'internet service termination',\n",
              " 'fraudulent use credit card credit card information',\n",
              " 'comcast billing complaint',\n",
              " 'comcast unfair product bundling',\n",
              " 'extremely slow internet aid comcast',\n",
              " 'comcast fraud',\n",
              " 'comcast forces rep visit goes back promise',\n",
              " 'comcast denies providing offered service',\n",
              " 'unfair fees',\n",
              " 'false claims internet speed tier',\n",
              " 'comcast sold package knowing wouldnt work proceeded charge attempt tack fees mistake',\n",
              " 'comcast bill way high slow speeds',\n",
              " 'comcast ignores requests cancel service instead added product bill increased monthly cost',\n",
              " 'price internet service',\n",
              " 'charge service wont deliver',\n",
              " 'comcast misrepresenting speeds santa cruz ca',\n",
              " 'misrepresented internet speed',\n",
              " 'comcast internet tv',\n",
              " 'charges internet service bogus',\n",
              " 'comcast',\n",
              " 'speed misrepresentation',\n",
              " 'fraudulent advertising',\n",
              " 'comcast',\n",
              " 'comcast continues bill though canceled months ago',\n",
              " 'comcasts egregious billing techniques',\n",
              " 'slow internet',\n",
              " 'fraudulent billing',\n",
              " 'internet connectivity',\n",
              " 'comcastxfinity internet data cap',\n",
              " 'threat shutting service phoneinternet tv',\n",
              " 'comcast blocking hbo go playstation',\n",
              " 'comcast run around',\n",
              " 'comcast cable billing fraud',\n",
              " 'comcast charging',\n",
              " 'comcast internet service',\n",
              " 'price plans',\n",
              " 'comcast service customer service',\n",
              " 'comcast data cap',\n",
              " 'fccgov website complaints',\n",
              " 'internet help south lyon mi',\n",
              " 'charged data actually used',\n",
              " 'xfinity customer service',\n",
              " 'comcast xfinity monopoly abuses',\n",
              " 'comcast billing support practices',\n",
              " 'interrnet service',\n",
              " 'availabilty',\n",
              " 'unfair billing practices',\n",
              " 'comcast hbo',\n",
              " 'charged service never received',\n",
              " 'internet speeds advertised bandwith available advertised',\n",
              " 'xfiniti account',\n",
              " 'excessive early termination fees due immediately years service',\n",
              " 'xfinity security system',\n",
              " 'billing overcharging issues comcast',\n",
              " 'internet speed cut half notification',\n",
              " 'billing',\n",
              " 'service quality',\n",
              " 'comcast unfair pricing',\n",
              " 'continuous internet problems',\n",
              " 'comcast refusing fix connectivity issues',\n",
              " 'comcast charged higher quoted phone',\n",
              " 'comcast refund discontinue service billing',\n",
              " 'price fixing monopolistic behaivor',\n",
              " 'comcast billing',\n",
              " 'tallahassee comcast rates high without competition',\n",
              " 'unfair billing practices',\n",
              " 'comcast complaint',\n",
              " 'comcast bars hbogo streaming purchased device choosing',\n",
              " 'complaint comcast',\n",
              " 'comcast inaccurately measuring bandwidth consumption',\n",
              " 'comcast unlimited internet access recently limited per month',\n",
              " 'data cap',\n",
              " 'comcast service billing',\n",
              " 'increased monthly fee year contract',\n",
              " 'shitty comcast service',\n",
              " 'terrible pricing one viable option',\n",
              " 'pay cable line',\n",
              " 'access service',\n",
              " 'comcast xfinity',\n",
              " 'comcastxfinity communication',\n",
              " 'comcastnon existent customer service terrible internet connection',\n",
              " 'internet service loses signal',\n",
              " 'comcast bill',\n",
              " 'inexplicable disconnection subsequent mishandling',\n",
              " 'false sales offers',\n",
              " 'paying getting',\n",
              " 'throttling comcast internet services',\n",
              " 'comcast excessive charge cancelling service',\n",
              " 'comcast refusal service',\n",
              " 'deceptive trade practices false advertising bait switch',\n",
              " 'sold billed short term services',\n",
              " 'comcast transfer service complaint',\n",
              " 'unauthorized charges account comcast',\n",
              " 'comcast charge router unreturned equipment',\n",
              " 'egregious fees',\n",
              " 'cramming false internet promotion speed complaint',\n",
              " 'comcast business internet',\n",
              " 'comcast',\n",
              " 'comcast xfinity',\n",
              " 'comcast sales people reflect said bill',\n",
              " 'slow internet',\n",
              " 'comcast cramming',\n",
              " 'billing continues months terminating service',\n",
              " 'data usage caps',\n",
              " 'comcast charges',\n",
              " 'monopolistic billing practices',\n",
              " 'comcast outage',\n",
              " 'fed comcast',\n",
              " 'comcast charge',\n",
              " 'comcast xfintity internet data caps',\n",
              " 'comcst data cap',\n",
              " 'inconsistent intermittent internet connectivity',\n",
              " 'comcast internet',\n",
              " 'comcast cap',\n",
              " 'false advertisingbait switch',\n",
              " 'comcast customer service billing issues',\n",
              " 'sent check payment comcast',\n",
              " 'comcast unfair pricing',\n",
              " 'comcast monthly billing returned modem',\n",
              " 'extremely unsatisfied comcast customer']"
            ]
          },
          "execution_count": 67,
          "metadata": {},
          "output_type": "execute_result"
        }
      ],
      "source": [
        "testdata_texts"
      ]
    },
    {
      "cell_type": "code",
      "execution_count": 68,
      "metadata": {
        "id": "l6GnGsWd4e9n"
      },
      "outputs": [],
      "source": [
        "train_dataset = tf.data.Dataset.from_tensor_slices((\n",
        "    dict(train_encodings),\n",
        "    traindata_labels\n",
        "))\n",
        "test_dataset = tf.data.Dataset.from_tensor_slices((\n",
        "    dict(test_encodings),\n",
        "    testdata_labels\n",
        "))"
      ]
    },
    {
      "cell_type": "code",
      "execution_count": 69,
      "metadata": {
        "id": "78dRqNSBO0md"
      },
      "outputs": [],
      "source": [
        "#metrics = [tf.keras.metrics.SparseCategoricalAccuracy('accuracy', dtype=tf.float32)]\n",
        "metrics = tf.metrics.CategoricalAccuracy()"
      ]
    },
    {
      "cell_type": "code",
      "execution_count": 70,
      "metadata": {
        "id": "DlhGtiLRO4Us"
      },
      "outputs": [],
      "source": [
        "loss = tf.keras.losses.CategoricalCrossentropy(from_logits=True)"
      ]
    },
    {
      "cell_type": "code",
      "execution_count": 71,
      "metadata": {
        "colab": {
          "base_uri": "https://localhost:8080/"
        },
        "id": "MfprT8_iAp4j",
        "outputId": "5ee3cd50-4562-4965-9014-5d691272b839"
      },
      "outputs": [
        {
          "name": "stderr",
          "output_type": "stream",
          "text": [
            "Some weights of the PyTorch model were not used when initializing the TF 2.0 model TFDistilBertForSequenceClassification: ['vocab_layer_norm.weight', 'vocab_layer_norm.bias', 'vocab_transform.bias', 'vocab_transform.weight', 'vocab_projector.bias']\n",
            "- This IS expected if you are initializing TFDistilBertForSequenceClassification from a PyTorch model trained on another task or with another architecture (e.g. initializing a TFBertForSequenceClassification model from a BertForPreTraining model).\n",
            "- This IS NOT expected if you are initializing TFDistilBertForSequenceClassification from a PyTorch model that you expect to be exactly identical (e.g. initializing a TFBertForSequenceClassification model from a BertForSequenceClassification model).\n",
            "Some weights or buffers of the TF 2.0 model TFDistilBertForSequenceClassification were not initialized from the PyTorch model and are newly initialized: ['pre_classifier.weight', 'pre_classifier.bias', 'classifier.weight', 'classifier.bias']\n",
            "You should probably TRAIN this model on a down-stream task to be able to use it for predictions and inference.\n"
          ]
        }
      ],
      "source": [
        "model = TFDistilBertForSequenceClassification.from_pretrained('distilbert-base-uncased', num_labels=4)\n",
        "\n",
        "optimizer = tf.keras.optimizers.Adam(learning_rate=5e-5)\n",
        "model.compile(optimizer=optimizer, loss=loss, metrics=['accuracy'])"
      ]
    },
    {
      "cell_type": "code",
      "execution_count": 72,
      "metadata": {
        "colab": {
          "base_uri": "https://localhost:8080/"
        },
        "id": "yVsGP_a0Ap7l",
        "outputId": "034feb48-d184-4a62-a5c9-c5f36e349de9"
      },
      "outputs": [
        {
          "name": "stdout",
          "output_type": "stream",
          "text": [
            "Epoch 1/30\n",
            "65/65 [==============================] - 77s 234ms/step - loss: 1.2217 - accuracy: 0.4027 - val_loss: 1.1755 - val_accuracy: 0.3658\n",
            "Epoch 2/30\n",
            "65/65 [==============================] - 7s 101ms/step - loss: 1.1600 - accuracy: 0.4393 - val_loss: 1.1557 - val_accuracy: 0.4768\n",
            "Epoch 3/30\n",
            "65/65 [==============================] - 7s 109ms/step - loss: 1.1151 - accuracy: 0.4611 - val_loss: 1.1690 - val_accuracy: 0.4168\n",
            "Epoch 4/30\n",
            "65/65 [==============================] - 6s 90ms/step - loss: 1.0133 - accuracy: 0.5427 - val_loss: 1.1847 - val_accuracy: 0.4378\n",
            "Epoch 5/30\n",
            "65/65 [==============================] - 6s 95ms/step - loss: 0.8730 - accuracy: 0.6191 - val_loss: 1.3289 - val_accuracy: 0.4093\n",
            "Epoch 6/30\n",
            "65/65 [==============================] - 5s 80ms/step - loss: 0.7103 - accuracy: 0.7103 - val_loss: 1.5809 - val_accuracy: 0.3718\n",
            "Epoch 7/30\n",
            "65/65 [==============================] - 6s 91ms/step - loss: 0.6274 - accuracy: 0.7360 - val_loss: 1.6180 - val_accuracy: 0.4633\n",
            "Epoch 8/30\n",
            "65/65 [==============================] - 8s 127ms/step - loss: 0.5601 - accuracy: 0.7662 - val_loss: 1.6508 - val_accuracy: 0.4048\n",
            "Epoch 9/30\n",
            "65/65 [==============================] - 7s 102ms/step - loss: 0.4852 - accuracy: 0.8125 - val_loss: 1.8595 - val_accuracy: 0.4378\n",
            "Epoch 10/30\n",
            "65/65 [==============================] - 6s 84ms/step - loss: 0.4421 - accuracy: 0.8157 - val_loss: 2.0077 - val_accuracy: 0.4378\n",
            "Epoch 11/30\n",
            "65/65 [==============================] - 6s 96ms/step - loss: 0.4161 - accuracy: 0.8170 - val_loss: 2.0964 - val_accuracy: 0.3943\n",
            "Epoch 12/30\n",
            "65/65 [==============================] - 6s 97ms/step - loss: 0.3916 - accuracy: 0.8343 - val_loss: 2.1156 - val_accuracy: 0.4378\n",
            "Epoch 13/30\n",
            "65/65 [==============================] - 6s 91ms/step - loss: 0.3709 - accuracy: 0.8343 - val_loss: 2.2491 - val_accuracy: 0.4303\n",
            "Epoch 14/30\n",
            "65/65 [==============================] - 5s 85ms/step - loss: 0.3591 - accuracy: 0.8330 - val_loss: 2.2467 - val_accuracy: 0.4468\n",
            "Epoch 15/30\n",
            "65/65 [==============================] - 6s 89ms/step - loss: 0.3335 - accuracy: 0.8478 - val_loss: 2.3809 - val_accuracy: 0.4378\n",
            "Epoch 16/30\n",
            "65/65 [==============================] - 8s 123ms/step - loss: 0.3277 - accuracy: 0.8497 - val_loss: 2.5650 - val_accuracy: 0.4333\n",
            "Epoch 17/30\n",
            "65/65 [==============================] - 5s 82ms/step - loss: 0.3328 - accuracy: 0.8388 - val_loss: 2.3242 - val_accuracy: 0.4423\n",
            "Epoch 18/30\n",
            "65/65 [==============================] - 6s 95ms/step - loss: 0.3448 - accuracy: 0.8465 - val_loss: 2.6136 - val_accuracy: 0.4078\n",
            "Epoch 19/30\n",
            "65/65 [==============================] - 5s 84ms/step - loss: 0.3193 - accuracy: 0.8516 - val_loss: 2.6151 - val_accuracy: 0.3778\n",
            "Epoch 20/30\n",
            "65/65 [==============================] - 6s 95ms/step - loss: 0.3087 - accuracy: 0.8536 - val_loss: 2.7352 - val_accuracy: 0.4063\n",
            "Epoch 21/30\n",
            "65/65 [==============================] - 5s 81ms/step - loss: 0.3128 - accuracy: 0.8478 - val_loss: 2.7212 - val_accuracy: 0.3973\n",
            "Epoch 22/30\n",
            "65/65 [==============================] - 5s 84ms/step - loss: 0.3034 - accuracy: 0.8600 - val_loss: 2.7213 - val_accuracy: 0.4288\n",
            "Epoch 23/30\n",
            "65/65 [==============================] - 5s 84ms/step - loss: 0.3107 - accuracy: 0.8504 - val_loss: 2.6868 - val_accuracy: 0.4303\n",
            "Epoch 24/30\n",
            "65/65 [==============================] - 6s 88ms/step - loss: 0.2979 - accuracy: 0.8516 - val_loss: 2.8850 - val_accuracy: 0.3883\n",
            "Epoch 25/30\n",
            "65/65 [==============================] - 6s 86ms/step - loss: 0.3185 - accuracy: 0.8548 - val_loss: 2.7074 - val_accuracy: 0.3943\n",
            "Epoch 26/30\n",
            "65/65 [==============================] - 5s 81ms/step - loss: 0.3073 - accuracy: 0.8459 - val_loss: 2.7514 - val_accuracy: 0.4153\n",
            "Epoch 27/30\n",
            "65/65 [==============================] - 6s 95ms/step - loss: 0.2944 - accuracy: 0.8542 - val_loss: 2.8170 - val_accuracy: 0.4408\n",
            "Epoch 28/30\n",
            "65/65 [==============================] - 5s 81ms/step - loss: 0.2854 - accuracy: 0.8555 - val_loss: 3.0199 - val_accuracy: 0.4063\n",
            "Epoch 29/30\n",
            "65/65 [==============================] - 6s 96ms/step - loss: 0.2881 - accuracy: 0.8561 - val_loss: 2.9258 - val_accuracy: 0.4288\n",
            "Epoch 30/30\n",
            "65/65 [==============================] - 5s 81ms/step - loss: 0.2890 - accuracy: 0.8529 - val_loss: 2.6823 - val_accuracy: 0.4273\n"
          ]
        },
        {
          "data": {
            "text/plain": [
              "<keras.callbacks.History at 0x7aad58307cd0>"
            ]
          },
          "execution_count": 72,
          "metadata": {},
          "output_type": "execute_result"
        }
      ],
      "source": [
        "model.fit(train_dataset.shuffle(800).batch(24), epochs=30, batch_size=24,\n",
        "          validation_data=test_dataset.shuffle(800).batch(24))"
      ]
    },
    {
      "cell_type": "code",
      "execution_count": 73,
      "metadata": {
        "colab": {
          "base_uri": "https://localhost:8080/"
        },
        "id": "mHN_WJkrNV7M",
        "outputId": "c5488091-9dfe-4f96-bb24-9bb7be69c330"
      },
      "outputs": [
        {
          "name": "stdout",
          "output_type": "stream",
          "text": [
            "56/56 [==============================] - 1s 19ms/step - loss: 2.6823 - accuracy: 0.4273\n"
          ]
        },
        {
          "data": {
            "text/plain": [
              "{'loss': 2.6823196411132812, 'accuracy': 0.4272863566875458}"
            ]
          },
          "execution_count": 73,
          "metadata": {},
          "output_type": "execute_result"
        }
      ],
      "source": [
        " # the instantiated 🤗 Transformers model - Distilled Bert\n",
        "\n",
        "from transformers import TFDistilBertForSequenceClassification, TFTrainer, TFTrainingArguments\n",
        "\n",
        "model.evaluate(test_dataset.shuffle(20).batch(12),\n",
        "               return_dict=True,\n",
        "               batch_size=12)"
      ]
    },
    {
      "cell_type": "code",
      "execution_count": 74,
      "metadata": {
        "colab": {
          "base_uri": "https://localhost:8080/"
        },
        "id": "fTjpC3qUAqFq",
        "outputId": "73bfc5e4-b328-49a2-9abd-cfd92a3f7282"
      },
      "outputs": [
        {
          "name": "stdout",
          "output_type": "stream",
          "text": [
            "667/667 [==============================] - 5s 6ms/step\n"
          ]
        }
      ],
      "source": [
        "y_pred = model.predict(test_dataset)"
      ]
    },
    {
      "cell_type": "code",
      "execution_count": 75,
      "metadata": {
        "id": "7NI_G5mJAqJO"
      },
      "outputs": [],
      "source": [
        "\n",
        "predictions = tf.nn.softmax(y_pred.logits)\n",
        "# Extracting the indices with the highest probabilities\n",
        "predictions = tf.argmax(predictions, axis=1).numpy()"
      ]
    },
    {
      "cell_type": "code",
      "execution_count": 76,
      "metadata": {
        "id": "Grwn2NzVAqMq"
      },
      "outputs": [],
      "source": [
        "predictions = pd.DataFrame(predictions)"
      ]
    },
    {
      "cell_type": "code",
      "execution_count": 77,
      "metadata": {
        "colab": {
          "base_uri": "https://localhost:8080/"
        },
        "id": "tVNoZrSNWiSS",
        "outputId": "3ca590c6-bdf1-43f8-c326-13fc4c862eb5"
      },
      "outputs": [
        {
          "data": {
            "text/plain": [
              "3    347\n",
              "0    211\n",
              "1     94\n",
              "2     15\n",
              "dtype: int64"
            ]
          },
          "execution_count": 77,
          "metadata": {},
          "output_type": "execute_result"
        }
      ],
      "source": [
        "predictions.value_counts()"
      ]
    },
    {
      "cell_type": "code",
      "execution_count": 78,
      "metadata": {
        "id": "sF76XRgI1Jxt"
      },
      "outputs": [],
      "source": [
        "predictions.rename(columns = {0:\"Predict\"}, inplace=True)"
      ]
    },
    {
      "cell_type": "code",
      "execution_count": 79,
      "metadata": {
        "id": "FPXOZ0G7vF5I"
      },
      "outputs": [],
      "source": [
        "train2  = pd.read_csv(\"/content/train.csv\")"
      ]
    },
    {
      "cell_type": "code",
      "execution_count": 80,
      "metadata": {
        "id": "kZ_2i7-k0hZO"
      },
      "outputs": [],
      "source": [
        "test2  = pd.read_csv(\"/content/test.csv\")"
      ]
    },
    {
      "cell_type": "code",
      "execution_count": 81,
      "metadata": {
        "colab": {
          "base_uri": "https://localhost:8080/"
        },
        "id": "EdlyP_JzvJ_S",
        "outputId": "35d01ac2-ebaf-434c-c752-0ac2af745936"
      },
      "outputs": [
        {
          "data": {
            "text/plain": [
              "Solved     315\n",
              "Closed     213\n",
              "Open        97\n",
              "Pending     42\n",
              "Name: Status, dtype: int64"
            ]
          },
          "execution_count": 81,
          "metadata": {},
          "output_type": "execute_result"
        }
      ],
      "source": [
        "test2[\"Status\"].value_counts()"
      ]
    },
    {
      "cell_type": "code",
      "execution_count": 82,
      "metadata": {
        "colab": {
          "base_uri": "https://localhost:8080/"
        },
        "id": "WBvMW0Owuv8M",
        "outputId": "98b64422-e606-4e65-a195-0021bb1ae95d"
      },
      "outputs": [
        {
          "data": {
            "text/plain": [
              "Solved     315\n",
              "Closed     213\n",
              "Open        97\n",
              "Pending     42\n",
              "Name: Status, dtype: int64"
            ]
          },
          "execution_count": 82,
          "metadata": {},
          "output_type": "execute_result"
        }
      ],
      "source": [
        "test2[\"Status\"].value_counts()"
      ]
    },
    {
      "cell_type": "code",
      "execution_count": 83,
      "metadata": {
        "id": "H59NxLRVur4A"
      },
      "outputs": [],
      "source": [
        "class_names = {\n",
        "\t3 : \"Solved\",\n",
        "\t0 : \"Closed\",\n",
        "\t1 : \"Open\",\n",
        "\t2 : \"Pending\"\n",
        "}\n"
      ]
    },
    {
      "cell_type": "code",
      "execution_count": 84,
      "metadata": {
        "colab": {
          "base_uri": "https://localhost:8080/"
        },
        "id": "Ft9rCB8nv_cz",
        "outputId": "32c90d4d-a326-43ff-a362-9a39c8cbb259"
      },
      "outputs": [
        {
          "data": {
            "text/plain": [
              "Predict\n",
              "3          347\n",
              "0          211\n",
              "1           94\n",
              "2           15\n",
              "dtype: int64"
            ]
          },
          "execution_count": 84,
          "metadata": {},
          "output_type": "execute_result"
        }
      ],
      "source": [
        "predictions.value_counts()"
      ]
    },
    {
      "cell_type": "code",
      "execution_count": 85,
      "metadata": {
        "id": "vCMWc7vN05R1"
      },
      "outputs": [],
      "source": [
        "predictions = predictions['Predict'].map(class_names)"
      ]
    },
    {
      "cell_type": "code",
      "execution_count": 86,
      "metadata": {
        "colab": {
          "base_uri": "https://localhost:8080/"
        },
        "id": "R3-iuh-g05VW",
        "outputId": "0284c3bc-41e6-472f-b11c-4ea7cda2568b"
      },
      "outputs": [
        {
          "data": {
            "text/plain": [
              "Solved     347\n",
              "Closed     211\n",
              "Open        94\n",
              "Pending     15\n",
              "Name: Predict, dtype: int64"
            ]
          },
          "execution_count": 86,
          "metadata": {},
          "output_type": "execute_result"
        }
      ],
      "source": [
        "predictions.value_counts()"
      ]
    },
    {
      "cell_type": "code",
      "execution_count": 86,
      "metadata": {
        "id": "w5pu6Ib405Yv"
      },
      "outputs": [],
      "source": []
    }
  ],
  "metadata": {
    "accelerator": "GPU",
    "colab": {
      "gpuType": "T4",
      "provenance": []
    },
    "kernelspec": {
      "display_name": "Python 3",
      "name": "python3"
    },
    "language_info": {
      "codemirror_mode": {
        "name": "ipython",
        "version": 3
      },
      "file_extension": ".py",
      "mimetype": "text/x-python",
      "name": "python",
      "nbconvert_exporter": "python",
      "pygments_lexer": "ipython3",
      "version": "3.6.4"
    }
  },
  "nbformat": 4,
  "nbformat_minor": 0
}
